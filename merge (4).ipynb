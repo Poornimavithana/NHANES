{
 "cells": [
  {
   "cell_type": "code",
   "execution_count": 1,
   "metadata": {},
   "outputs": [],
   "source": [
    "import os\n",
    "import pandas as pd\n",
    "import json\n",
    "import re\n",
    "import numpy as np\n",
    "import matplotlib.pyplot as plt\n",
    "from functools import reduce\n",
    "from ParseNHANES import ParseNHANES, Component\n",
    "\n",
    "\n",
    "import seaborn as sns\n",
    "%matplotlib inline\n",
    "import matplotlib as mpl\n",
    "\n",
    "seed=301\n",
    "\n",
    "from datetime import datetime\n"
   ]
  },
  {
   "cell_type": "code",
   "execution_count": 2,
   "metadata": {},
   "outputs": [],
   "source": [
    "def multi_merge(data_frames):\n",
    "    return reduce(lambda left, right: pd.merge(left, right, on=['SEQN', 'year'], how='outer'), data_frames)"
   ]
  },
  {
   "cell_type": "code",
   "execution_count": 3,
   "metadata": {},
   "outputs": [],
   "source": [
    "nhanes = ParseNHANES(data_dir=\"C:/Users/poorn/OneDrive\", out_dir='data')"
   ]
  },
  {
   "cell_type": "markdown",
   "metadata": {},
   "source": [
    "# Demographics"
   ]
  },
  {
   "cell_type": "code",
   "execution_count": 4,
   "metadata": {},
   "outputs": [],
   "source": [
    "cols_demo = ['RIDAGEYR', 'RIDRETH1', 'INDFMPIR', 'RIAGENDR']"
   ]
  },
  {
   "cell_type": "code",
   "execution_count": 5,
   "metadata": {},
   "outputs": [
    {
     "name": "stderr",
     "output_type": "stream",
     "text": [
      "2020-10-18 23:14:24 [ParseNHANES] INFO: Getting Component.DEMOGRAPHICS\n"
     ]
    }
   ],
   "source": [
    "df_demo, meta_demo = nhanes.get_component(Component.DEMOGRAPHICS, columns=cols_demo)"
   ]
  },
  {
   "cell_type": "code",
   "execution_count": 6,
   "metadata": {},
   "outputs": [
    {
     "data": {
      "text/plain": [
       "{'RIDAGEYR': 'Age in years at screening ',\n",
       " 'RIDRETH1': 'Race/Hispanic origin',\n",
       " 'INDFMPIR': 'Ratio of family income to poverty',\n",
       " 'RIAGENDR': 'Gender'}"
      ]
     },
     "execution_count": 6,
     "metadata": {},
     "output_type": "execute_result"
    }
   ],
   "source": [
    "meta_demo # these are the columns in the df"
   ]
  },
  {
   "cell_type": "code",
   "execution_count": 7,
   "metadata": {},
   "outputs": [
    {
     "data": {
      "text/html": [
       "<div>\n",
       "<style scoped>\n",
       "    .dataframe tbody tr th:only-of-type {\n",
       "        vertical-align: middle;\n",
       "    }\n",
       "\n",
       "    .dataframe tbody tr th {\n",
       "        vertical-align: top;\n",
       "    }\n",
       "\n",
       "    .dataframe thead th {\n",
       "        text-align: right;\n",
       "    }\n",
       "</style>\n",
       "<table border=\"1\" class=\"dataframe\">\n",
       "  <thead>\n",
       "    <tr style=\"text-align: right;\">\n",
       "      <th></th>\n",
       "      <th>RIDAGEYR</th>\n",
       "      <th>RIDRETH1</th>\n",
       "      <th>INDFMPIR</th>\n",
       "      <th>RIAGENDR</th>\n",
       "      <th>year</th>\n",
       "      <th>SEQN</th>\n",
       "    </tr>\n",
       "  </thead>\n",
       "  <tbody>\n",
       "    <tr>\n",
       "      <th>0</th>\n",
       "      <td>2.0</td>\n",
       "      <td>4.0</td>\n",
       "      <td>0.86</td>\n",
       "      <td>2.0</td>\n",
       "      <td>1999-2000</td>\n",
       "      <td>1</td>\n",
       "    </tr>\n",
       "    <tr>\n",
       "      <th>1</th>\n",
       "      <td>77.0</td>\n",
       "      <td>3.0</td>\n",
       "      <td>5.00</td>\n",
       "      <td>1.0</td>\n",
       "      <td>1999-2000</td>\n",
       "      <td>2</td>\n",
       "    </tr>\n",
       "    <tr>\n",
       "      <th>2</th>\n",
       "      <td>10.0</td>\n",
       "      <td>3.0</td>\n",
       "      <td>1.47</td>\n",
       "      <td>2.0</td>\n",
       "      <td>1999-2000</td>\n",
       "      <td>3</td>\n",
       "    </tr>\n",
       "    <tr>\n",
       "      <th>3</th>\n",
       "      <td>1.0</td>\n",
       "      <td>4.0</td>\n",
       "      <td>0.57</td>\n",
       "      <td>1.0</td>\n",
       "      <td>1999-2000</td>\n",
       "      <td>4</td>\n",
       "    </tr>\n",
       "    <tr>\n",
       "      <th>4</th>\n",
       "      <td>49.0</td>\n",
       "      <td>3.0</td>\n",
       "      <td>5.00</td>\n",
       "      <td>1.0</td>\n",
       "      <td>1999-2000</td>\n",
       "      <td>5</td>\n",
       "    </tr>\n",
       "  </tbody>\n",
       "</table>\n",
       "</div>"
      ],
      "text/plain": [
       "   RIDAGEYR  RIDRETH1  INDFMPIR  RIAGENDR       year  SEQN\n",
       "0       2.0       4.0      0.86       2.0  1999-2000     1\n",
       "1      77.0       3.0      5.00       1.0  1999-2000     2\n",
       "2      10.0       3.0      1.47       2.0  1999-2000     3\n",
       "3       1.0       4.0      0.57       1.0  1999-2000     4\n",
       "4      49.0       3.0      5.00       1.0  1999-2000     5"
      ]
     },
     "execution_count": 7,
     "metadata": {},
     "output_type": "execute_result"
    }
   ],
   "source": [
    "df_demo.head()"
   ]
  },
  {
   "cell_type": "code",
   "execution_count": 8,
   "metadata": {},
   "outputs": [
    {
     "data": {
      "text/html": [
       "<div>\n",
       "<style scoped>\n",
       "    .dataframe tbody tr th:only-of-type {\n",
       "        vertical-align: middle;\n",
       "    }\n",
       "\n",
       "    .dataframe tbody tr th {\n",
       "        vertical-align: top;\n",
       "    }\n",
       "\n",
       "    .dataframe thead th {\n",
       "        text-align: right;\n",
       "    }\n",
       "</style>\n",
       "<table border=\"1\" class=\"dataframe\">\n",
       "  <thead>\n",
       "    <tr style=\"text-align: right;\">\n",
       "      <th></th>\n",
       "      <th>RIDAGEYR</th>\n",
       "      <th>RIDRETH1</th>\n",
       "      <th>INDFMPIR</th>\n",
       "      <th>RIAGENDR</th>\n",
       "      <th>SEQN</th>\n",
       "    </tr>\n",
       "  </thead>\n",
       "  <tbody>\n",
       "    <tr>\n",
       "      <th>count</th>\n",
       "      <td>1.013160e+05</td>\n",
       "      <td>101316.000000</td>\n",
       "      <td>9.212000e+04</td>\n",
       "      <td>101316.000000</td>\n",
       "      <td>101316.000000</td>\n",
       "    </tr>\n",
       "    <tr>\n",
       "      <th>mean</th>\n",
       "      <td>3.112829e+01</td>\n",
       "      <td>2.895831</td>\n",
       "      <td>2.272155e+00</td>\n",
       "      <td>1.507551</td>\n",
       "      <td>51134.397193</td>\n",
       "    </tr>\n",
       "    <tr>\n",
       "      <th>std</th>\n",
       "      <td>2.494308e+01</td>\n",
       "      <td>1.251255</td>\n",
       "      <td>1.601358e+00</td>\n",
       "      <td>0.499945</td>\n",
       "      <td>29836.192620</td>\n",
       "    </tr>\n",
       "    <tr>\n",
       "      <th>min</th>\n",
       "      <td>5.397605e-79</td>\n",
       "      <td>1.000000</td>\n",
       "      <td>5.397605e-79</td>\n",
       "      <td>1.000000</td>\n",
       "      <td>1.000000</td>\n",
       "    </tr>\n",
       "    <tr>\n",
       "      <th>25%</th>\n",
       "      <td>1.000000e+01</td>\n",
       "      <td>2.000000</td>\n",
       "      <td>9.400000e-01</td>\n",
       "      <td>1.000000</td>\n",
       "      <td>25329.750000</td>\n",
       "    </tr>\n",
       "    <tr>\n",
       "      <th>50%</th>\n",
       "      <td>2.400000e+01</td>\n",
       "      <td>3.000000</td>\n",
       "      <td>1.790000e+00</td>\n",
       "      <td>2.000000</td>\n",
       "      <td>50658.500000</td>\n",
       "    </tr>\n",
       "    <tr>\n",
       "      <th>75%</th>\n",
       "      <td>5.200000e+01</td>\n",
       "      <td>4.000000</td>\n",
       "      <td>3.570000e+00</td>\n",
       "      <td>2.000000</td>\n",
       "      <td>77627.250000</td>\n",
       "    </tr>\n",
       "    <tr>\n",
       "      <th>max</th>\n",
       "      <td>8.500000e+01</td>\n",
       "      <td>5.000000</td>\n",
       "      <td>5.000000e+00</td>\n",
       "      <td>2.000000</td>\n",
       "      <td>102956.000000</td>\n",
       "    </tr>\n",
       "  </tbody>\n",
       "</table>\n",
       "</div>"
      ],
      "text/plain": [
       "           RIDAGEYR       RIDRETH1      INDFMPIR       RIAGENDR           SEQN\n",
       "count  1.013160e+05  101316.000000  9.212000e+04  101316.000000  101316.000000\n",
       "mean   3.112829e+01       2.895831  2.272155e+00       1.507551   51134.397193\n",
       "std    2.494308e+01       1.251255  1.601358e+00       0.499945   29836.192620\n",
       "min    5.397605e-79       1.000000  5.397605e-79       1.000000       1.000000\n",
       "25%    1.000000e+01       2.000000  9.400000e-01       1.000000   25329.750000\n",
       "50%    2.400000e+01       3.000000  1.790000e+00       2.000000   50658.500000\n",
       "75%    5.200000e+01       4.000000  3.570000e+00       2.000000   77627.250000\n",
       "max    8.500000e+01       5.000000  5.000000e+00       2.000000  102956.000000"
      ]
     },
     "execution_count": 8,
     "metadata": {},
     "output_type": "execute_result"
    }
   ],
   "source": [
    "df_demo.describe()"
   ]
  },
  {
   "cell_type": "code",
   "execution_count": 9,
   "metadata": {},
   "outputs": [
    {
     "name": "stdout",
     "output_type": "stream",
     "text": [
      "<class 'pandas.core.frame.DataFrame'>\n",
      "Int64Index: 101316 entries, 0 to 9253\n",
      "Data columns (total 6 columns):\n",
      " #   Column    Non-Null Count   Dtype  \n",
      "---  ------    --------------   -----  \n",
      " 0   RIDAGEYR  101316 non-null  float64\n",
      " 1   RIDRETH1  101316 non-null  float64\n",
      " 2   INDFMPIR  92120 non-null   float64\n",
      " 3   RIAGENDR  101316 non-null  float64\n",
      " 4   year      101316 non-null  object \n",
      " 5   SEQN      101316 non-null  int32  \n",
      "dtypes: float64(4), int32(1), object(1)\n",
      "memory usage: 5.0+ MB\n"
     ]
    }
   ],
   "source": [
    "df_demo.info()"
   ]
  },
  {
   "cell_type": "code",
   "execution_count": 10,
   "metadata": {},
   "outputs": [
    {
     "data": {
      "text/plain": [
       "1999-2000     9965\n",
       "2001-2002    11039\n",
       "2003-2004    10122\n",
       "2005-2006    10348\n",
       "2007-2008    10149\n",
       "2009-2010    10537\n",
       "2011-2012     9756\n",
       "2013-2014    10175\n",
       "2015-2016     9971\n",
       "2017-2018     9254\n",
       "Name: year, dtype: int64"
      ]
     },
     "execution_count": 10,
     "metadata": {},
     "output_type": "execute_result"
    }
   ],
   "source": [
    "df_demo['year'].value_counts().sort_index()\n",
    "# approx 10,000 people per year"
   ]
  },
  {
   "cell_type": "code",
   "execution_count": 11,
   "metadata": {},
   "outputs": [
    {
     "data": {
      "image/png": "[encoded data removed]",
      "text/plain": [
       "<Figure size 1152x576 with 1 Axes>"
      ]
     },
     "metadata": {
      "needs_background": "light"
     },
     "output_type": "display_data"
    }
   ],
   "source": [
    "ages = df_demo['RIDAGEYR'].astype(int).value_counts().sort_index()\n",
    "\n",
    "# plot ages of all people\n",
    "fig = plt.figure(figsize=(16, 8))\n",
    "plt.bar(ages.index, ages)\n",
    "plt.show()  # lots of 80 year olds??"
   ]
  },
  {
   "cell_type": "code",
   "execution_count": 12,
   "metadata": {},
   "outputs": [
    {
     "data": {
      "image/png": "[encoded data removed]",
      "text/plain": [
       "<Figure size 1152x576 with 1 Axes>"
      ]
     },
     "metadata": {
      "needs_background": "light"
     },
     "output_type": "display_data"
    }
   ],
   "source": [
    "na_count = df_demo.isna().sum().sort_values()\n",
    "\n",
    "# plot ages of all people\n",
    "fig = plt.figure(figsize=(16, 8))\n",
    "plt.barh(na_count.index, na_count)\n",
    "plt.show()  # lots of 80 year olds??"
   ]
  },
  {
   "cell_type": "code",
   "execution_count": 13,
   "metadata": {},
   "outputs": [
    {
     "data": {
      "text/plain": [
       "2.0    51423\n",
       "1.0    49893\n",
       "Name: RIAGENDR, dtype: int64"
      ]
     },
     "execution_count": 13,
     "metadata": {},
     "output_type": "execute_result"
    }
   ],
   "source": [
    "# 1: male\n",
    "# 2: female\n",
    "df_demo['RIAGENDR'].value_counts()"
   ]
  },
  {
   "cell_type": "markdown",
   "metadata": {},
   "source": [
    "# Questionaire"
   ]
  },
  {
   "cell_type": "code",
   "execution_count": 14,
   "metadata": {},
   "outputs": [],
   "source": [
    "cols_ques1 = ['MCQ160B', 'MCQ160C', 'MCQ160D', 'MCQ160E', 'MCQ160F']\n",
    "cols_ques2 = ['SMQ040']\n",
    "cols_ques3 = ['DIQ010']"
   ]
  },
  {
   "cell_type": "code",
   "execution_count": 15,
   "metadata": {},
   "outputs": [
    {
     "name": "stderr",
     "output_type": "stream",
     "text": [
      "2020-10-18 23:14:32 [ParseNHANES] INFO: Getting Component.QUESTIONAIRE\n"
     ]
    }
   ],
   "source": [
    "df_ques1, meta_ques1 = nhanes.get_component(Component.QUESTIONAIRE, expr=r'MCQ(|_[A-Z]).XPT', columns=cols_ques1)"
   ]
  },
  {
   "cell_type": "code",
   "execution_count": 16,
   "metadata": {},
   "outputs": [
    {
     "name": "stderr",
     "output_type": "stream",
     "text": [
      "2020-10-18 23:14:44 [ParseNHANES] INFO: Getting Component.QUESTIONAIRE\n"
     ]
    }
   ],
   "source": [
    "df_ques2, meta_ques2 = nhanes.get_component(Component.QUESTIONAIRE, expr=r'SMQ(|_[A-Z]).XPT', columns=cols_ques2)"
   ]
  },
  {
   "cell_type": "code",
   "execution_count": 17,
   "metadata": {},
   "outputs": [
    {
     "name": "stderr",
     "output_type": "stream",
     "text": [
      "2020-10-18 23:14:48 [ParseNHANES] INFO: Getting Component.QUESTIONAIRE\n"
     ]
    }
   ],
   "source": [
    "df_ques3, meta_ques3 = nhanes.get_component(Component.QUESTIONAIRE, expr=r'DIQ(|_[A-Z]).XPT', columns=cols_ques3)"
   ]
  },
  {
   "cell_type": "code",
   "execution_count": 18,
   "metadata": {},
   "outputs": [
    {
     "name": "stderr",
     "output_type": "stream",
     "text": [
      "2020-10-18 23:14:51 [ParseNHANES] INFO: Getting Component.QUESTIONAIRE\n"
     ]
    }
   ],
   "source": [
    "df_ques4, meta_ques4 = nhanes.get_component(Component.QUESTIONAIRE, expr=r'ALQ(|_[A-Z]).XPT', columns=['ALQ120Q'])"
   ]
  },
  {
   "cell_type": "code",
   "execution_count": 19,
   "metadata": {},
   "outputs": [
    {
     "data": {
      "text/plain": [
       "{'MCQ160B': 'Ever told had congestive heart failure',\n",
       " 'MCQ160C': 'Ever told you had coronary heart disease',\n",
       " 'MCQ160D': 'Ever told you had angina/angina pectoris',\n",
       " 'MCQ160E': 'Ever told you had heart attack',\n",
       " 'MCQ160F': 'Ever told you had a stroke',\n",
       " 'SMQ040': 'Do you now smoke cigarettes?',\n",
       " 'DIQ010': 'Doctor told you have diabetes',\n",
       " 'ALQ120Q': 'How often drink alcohol over past 12 mos'}"
      ]
     },
     "execution_count": 19,
     "metadata": {},
     "output_type": "execute_result"
    }
   ],
   "source": [
    "meta_ques = {**meta_ques1, **meta_ques2, **meta_ques3, **meta_ques4}\n",
    "meta_ques"
   ]
  },
  {
   "cell_type": "code",
   "execution_count": 20,
   "metadata": {},
   "outputs": [
    {
     "name": "stdout",
     "output_type": "stream",
     "text": [
      "<class 'pandas.core.frame.DataFrame'>\n",
      "Int64Index: 96811 entries, 0 to 8896\n",
      "Data columns (total 7 columns):\n",
      " #   Column   Non-Null Count  Dtype  \n",
      "---  ------   --------------  -----  \n",
      " 0   MCQ160B  55078 non-null  float64\n",
      " 1   MCQ160C  55078 non-null  float64\n",
      " 2   MCQ160D  55078 non-null  float64\n",
      " 3   MCQ160E  55078 non-null  float64\n",
      " 4   MCQ160F  55078 non-null  float64\n",
      " 5   year     96811 non-null  object \n",
      " 6   SEQN     96811 non-null  int32  \n",
      "dtypes: float64(5), int32(1), object(1)\n",
      "memory usage: 5.5+ MB\n"
     ]
    }
   ],
   "source": [
    "df_ques1.info()"
   ]
  },
  {
   "cell_type": "code",
   "execution_count": 21,
   "metadata": {},
   "outputs": [
    {
     "data": {
      "text/html": [
       "<div>\n",
       "<style scoped>\n",
       "    .dataframe tbody tr th:only-of-type {\n",
       "        vertical-align: middle;\n",
       "    }\n",
       "\n",
       "    .dataframe tbody tr th {\n",
       "        vertical-align: top;\n",
       "    }\n",
       "\n",
       "    .dataframe thead th {\n",
       "        text-align: right;\n",
       "    }\n",
       "</style>\n",
       "<table border=\"1\" class=\"dataframe\">\n",
       "  <thead>\n",
       "    <tr style=\"text-align: right;\">\n",
       "      <th></th>\n",
       "      <th>MCQ160B</th>\n",
       "      <th>MCQ160C</th>\n",
       "      <th>MCQ160D</th>\n",
       "      <th>MCQ160E</th>\n",
       "      <th>MCQ160F</th>\n",
       "      <th>year</th>\n",
       "      <th>SEQN</th>\n",
       "      <th>SMQ040</th>\n",
       "      <th>DIQ010</th>\n",
       "      <th>ALQ120Q</th>\n",
       "    </tr>\n",
       "  </thead>\n",
       "  <tbody>\n",
       "    <tr>\n",
       "      <th>0</th>\n",
       "      <td>NaN</td>\n",
       "      <td>NaN</td>\n",
       "      <td>NaN</td>\n",
       "      <td>NaN</td>\n",
       "      <td>NaN</td>\n",
       "      <td>1999-2000</td>\n",
       "      <td>1</td>\n",
       "      <td>NaN</td>\n",
       "      <td>2.0</td>\n",
       "      <td>NaN</td>\n",
       "    </tr>\n",
       "    <tr>\n",
       "      <th>1</th>\n",
       "      <td>2.0</td>\n",
       "      <td>2.0</td>\n",
       "      <td>2.0</td>\n",
       "      <td>2.0</td>\n",
       "      <td>2.0</td>\n",
       "      <td>1999-2000</td>\n",
       "      <td>2</td>\n",
       "      <td>NaN</td>\n",
       "      <td>2.0</td>\n",
       "      <td>24.0</td>\n",
       "    </tr>\n",
       "    <tr>\n",
       "      <th>2</th>\n",
       "      <td>NaN</td>\n",
       "      <td>NaN</td>\n",
       "      <td>NaN</td>\n",
       "      <td>NaN</td>\n",
       "      <td>NaN</td>\n",
       "      <td>1999-2000</td>\n",
       "      <td>3</td>\n",
       "      <td>NaN</td>\n",
       "      <td>2.0</td>\n",
       "      <td>NaN</td>\n",
       "    </tr>\n",
       "    <tr>\n",
       "      <th>3</th>\n",
       "      <td>NaN</td>\n",
       "      <td>NaN</td>\n",
       "      <td>NaN</td>\n",
       "      <td>NaN</td>\n",
       "      <td>NaN</td>\n",
       "      <td>1999-2000</td>\n",
       "      <td>4</td>\n",
       "      <td>NaN</td>\n",
       "      <td>2.0</td>\n",
       "      <td>NaN</td>\n",
       "    </tr>\n",
       "    <tr>\n",
       "      <th>4</th>\n",
       "      <td>2.0</td>\n",
       "      <td>2.0</td>\n",
       "      <td>2.0</td>\n",
       "      <td>2.0</td>\n",
       "      <td>2.0</td>\n",
       "      <td>1999-2000</td>\n",
       "      <td>5</td>\n",
       "      <td>3.0</td>\n",
       "      <td>2.0</td>\n",
       "      <td>4.0</td>\n",
       "    </tr>\n",
       "  </tbody>\n",
       "</table>\n",
       "</div>"
      ],
      "text/plain": [
       "   MCQ160B  MCQ160C  MCQ160D  MCQ160E  MCQ160F       year  SEQN  SMQ040  \\\n",
       "0      NaN      NaN      NaN      NaN      NaN  1999-2000     1     NaN   \n",
       "1      2.0      2.0      2.0      2.0      2.0  1999-2000     2     NaN   \n",
       "2      NaN      NaN      NaN      NaN      NaN  1999-2000     3     NaN   \n",
       "3      NaN      NaN      NaN      NaN      NaN  1999-2000     4     NaN   \n",
       "4      2.0      2.0      2.0      2.0      2.0  1999-2000     5     3.0   \n",
       "\n",
       "   DIQ010  ALQ120Q  \n",
       "0     2.0      NaN  \n",
       "1     2.0     24.0  \n",
       "2     2.0      NaN  \n",
       "3     2.0      NaN  \n",
       "4     2.0      4.0  "
      ]
     },
     "execution_count": 21,
     "metadata": {},
     "output_type": "execute_result"
    }
   ],
   "source": [
    "df_ques = multi_merge(data_frames=[df_ques1, df_ques2, df_ques3, df_ques4])\n",
    "df_ques.head()"
   ]
  },
  {
   "cell_type": "code",
   "execution_count": 22,
   "metadata": {},
   "outputs": [
    {
     "data": {
      "text/html": [
       "<div>\n",
       "<style scoped>\n",
       "    .dataframe tbody tr th:only-of-type {\n",
       "        vertical-align: middle;\n",
       "    }\n",
       "\n",
       "    .dataframe tbody tr th {\n",
       "        vertical-align: top;\n",
       "    }\n",
       "\n",
       "    .dataframe thead th {\n",
       "        text-align: right;\n",
       "    }\n",
       "</style>\n",
       "<table border=\"1\" class=\"dataframe\">\n",
       "  <thead>\n",
       "    <tr style=\"text-align: right;\">\n",
       "      <th>year</th>\n",
       "      <th>1999-2000</th>\n",
       "      <th>2001-2002</th>\n",
       "      <th>2003-2004</th>\n",
       "      <th>2005-2006</th>\n",
       "      <th>2007-2008</th>\n",
       "      <th>2009-2010</th>\n",
       "      <th>2011-2012</th>\n",
       "      <th>2013-2014</th>\n",
       "      <th>2015-2016</th>\n",
       "      <th>2017-2018</th>\n",
       "    </tr>\n",
       "  </thead>\n",
       "  <tbody>\n",
       "    <tr>\n",
       "      <th>MCQ160B</th>\n",
       "      <td>4613.0</td>\n",
       "      <td>5060.0</td>\n",
       "      <td>4605.0</td>\n",
       "      <td>4843.0</td>\n",
       "      <td>3731.0</td>\n",
       "      <td>3891.0</td>\n",
       "      <td>3805.0</td>\n",
       "      <td>4001.0</td>\n",
       "      <td>3856.0</td>\n",
       "      <td>3328.0</td>\n",
       "    </tr>\n",
       "    <tr>\n",
       "      <th>MCQ160C</th>\n",
       "      <td>4613.0</td>\n",
       "      <td>5060.0</td>\n",
       "      <td>4605.0</td>\n",
       "      <td>4843.0</td>\n",
       "      <td>3731.0</td>\n",
       "      <td>3891.0</td>\n",
       "      <td>3805.0</td>\n",
       "      <td>4001.0</td>\n",
       "      <td>3856.0</td>\n",
       "      <td>3328.0</td>\n",
       "    </tr>\n",
       "    <tr>\n",
       "      <th>MCQ160D</th>\n",
       "      <td>4613.0</td>\n",
       "      <td>5060.0</td>\n",
       "      <td>4605.0</td>\n",
       "      <td>4843.0</td>\n",
       "      <td>3731.0</td>\n",
       "      <td>3891.0</td>\n",
       "      <td>3805.0</td>\n",
       "      <td>4001.0</td>\n",
       "      <td>3856.0</td>\n",
       "      <td>3328.0</td>\n",
       "    </tr>\n",
       "    <tr>\n",
       "      <th>MCQ160E</th>\n",
       "      <td>4613.0</td>\n",
       "      <td>5060.0</td>\n",
       "      <td>4605.0</td>\n",
       "      <td>4843.0</td>\n",
       "      <td>3731.0</td>\n",
       "      <td>3891.0</td>\n",
       "      <td>3805.0</td>\n",
       "      <td>4001.0</td>\n",
       "      <td>3856.0</td>\n",
       "      <td>3328.0</td>\n",
       "    </tr>\n",
       "    <tr>\n",
       "      <th>MCQ160F</th>\n",
       "      <td>4613.0</td>\n",
       "      <td>5060.0</td>\n",
       "      <td>4605.0</td>\n",
       "      <td>4843.0</td>\n",
       "      <td>3731.0</td>\n",
       "      <td>3891.0</td>\n",
       "      <td>3805.0</td>\n",
       "      <td>4001.0</td>\n",
       "      <td>3856.0</td>\n",
       "      <td>3328.0</td>\n",
       "    </tr>\n",
       "    <tr>\n",
       "      <th>SEQN</th>\n",
       "      <td>0.0</td>\n",
       "      <td>0.0</td>\n",
       "      <td>0.0</td>\n",
       "      <td>0.0</td>\n",
       "      <td>0.0</td>\n",
       "      <td>0.0</td>\n",
       "      <td>0.0</td>\n",
       "      <td>0.0</td>\n",
       "      <td>0.0</td>\n",
       "      <td>0.0</td>\n",
       "    </tr>\n",
       "    <tr>\n",
       "      <th>SMQ040</th>\n",
       "      <td>7194.0</td>\n",
       "      <td>7874.0</td>\n",
       "      <td>7149.0</td>\n",
       "      <td>7474.0</td>\n",
       "      <td>6864.0</td>\n",
       "      <td>7243.0</td>\n",
       "      <td>6995.0</td>\n",
       "      <td>7191.0</td>\n",
       "      <td>7153.0</td>\n",
       "      <td>6538.0</td>\n",
       "    </tr>\n",
       "    <tr>\n",
       "      <th>DIQ010</th>\n",
       "      <td>5.0</td>\n",
       "      <td>2.0</td>\n",
       "      <td>0.0</td>\n",
       "      <td>0.0</td>\n",
       "      <td>0.0</td>\n",
       "      <td>0.0</td>\n",
       "      <td>1.0</td>\n",
       "      <td>1.0</td>\n",
       "      <td>0.0</td>\n",
       "      <td>0.0</td>\n",
       "    </tr>\n",
       "    <tr>\n",
       "      <th>ALQ120Q</th>\n",
       "      <td>5974.0</td>\n",
       "      <td>6574.0</td>\n",
       "      <td>5966.0</td>\n",
       "      <td>6075.0</td>\n",
       "      <td>5232.0</td>\n",
       "      <td>5457.0</td>\n",
       "      <td>5176.0</td>\n",
       "      <td>5291.0</td>\n",
       "      <td>5351.0</td>\n",
       "      <td>8897.0</td>\n",
       "    </tr>\n",
       "  </tbody>\n",
       "</table>\n",
       "</div>"
      ],
      "text/plain": [
       "year     1999-2000  2001-2002  2003-2004  2005-2006  2007-2008  2009-2010  \\\n",
       "MCQ160B     4613.0     5060.0     4605.0     4843.0     3731.0     3891.0   \n",
       "MCQ160C     4613.0     5060.0     4605.0     4843.0     3731.0     3891.0   \n",
       "MCQ160D     4613.0     5060.0     4605.0     4843.0     3731.0     3891.0   \n",
       "MCQ160E     4613.0     5060.0     4605.0     4843.0     3731.0     3891.0   \n",
       "MCQ160F     4613.0     5060.0     4605.0     4843.0     3731.0     3891.0   \n",
       "SEQN           0.0        0.0        0.0        0.0        0.0        0.0   \n",
       "SMQ040      7194.0     7874.0     7149.0     7474.0     6864.0     7243.0   \n",
       "DIQ010         5.0        2.0        0.0        0.0        0.0        0.0   \n",
       "ALQ120Q     5974.0     6574.0     5966.0     6075.0     5232.0     5457.0   \n",
       "\n",
       "year     2011-2012  2013-2014  2015-2016  2017-2018  \n",
       "MCQ160B     3805.0     4001.0     3856.0     3328.0  \n",
       "MCQ160C     3805.0     4001.0     3856.0     3328.0  \n",
       "MCQ160D     3805.0     4001.0     3856.0     3328.0  \n",
       "MCQ160E     3805.0     4001.0     3856.0     3328.0  \n",
       "MCQ160F     3805.0     4001.0     3856.0     3328.0  \n",
       "SEQN           0.0        0.0        0.0        0.0  \n",
       "SMQ040      6995.0     7191.0     7153.0     6538.0  \n",
       "DIQ010         1.0        1.0        0.0        0.0  \n",
       "ALQ120Q     5176.0     5291.0     5351.0     8897.0  "
      ]
     },
     "execution_count": 22,
     "metadata": {},
     "output_type": "execute_result"
    }
   ],
   "source": [
    "df_na = df_ques.isna()\n",
    "df_na['year'] = df_ques['year']\n",
    "df_na_year = df_na.groupby('year').sum()\n",
    "df_na_year.T"
   ]
  },
  {
   "cell_type": "code",
   "execution_count": 23,
   "metadata": {},
   "outputs": [
    {
     "data": {
      "text/plain": [
       "<matplotlib.axes._subplots.AxesSubplot at 0x16e27493c10>"
      ]
     },
     "execution_count": 23,
     "metadata": {},
     "output_type": "execute_result"
    },
    {
     "data": {
      "image/png": "[encoded data removed]",
      "text/plain": [
       "<Figure size 1152x720 with 1 Axes>"
      ]
     },
     "metadata": {
      "needs_background": "light"
     },
     "output_type": "display_data"
    }
   ],
   "source": [
    "df_na_year.T.plot.barh(stacked=True, figsize=(16, 10))"
   ]
  },
  {
   "cell_type": "code",
   "execution_count": 24,
   "metadata": {},
   "outputs": [
    {
     "name": "stdout",
     "output_type": "stream",
     "text": [
      "<class 'pandas.core.frame.DataFrame'>\n",
      "Int64Index: 96811 entries, 0 to 96810\n",
      "Data columns (total 10 columns):\n",
      " #   Column   Non-Null Count  Dtype  \n",
      "---  ------   --------------  -----  \n",
      " 0   MCQ160B  55078 non-null  float64\n",
      " 1   MCQ160C  55078 non-null  float64\n",
      " 2   MCQ160D  55078 non-null  float64\n",
      " 3   MCQ160E  55078 non-null  float64\n",
      " 4   MCQ160F  55078 non-null  float64\n",
      " 5   year     96811 non-null  object \n",
      " 6   SEQN     96811 non-null  int32  \n",
      " 7   SMQ040   25136 non-null  float64\n",
      " 8   DIQ010   96802 non-null  float64\n",
      " 9   ALQ120Q  36818 non-null  float64\n",
      "dtypes: float64(8), int32(1), object(1)\n",
      "memory usage: 7.8+ MB\n"
     ]
    }
   ],
   "source": [
    "df_ques.info()"
   ]
  },
  {
   "cell_type": "code",
   "execution_count": 25,
   "metadata": {},
   "outputs": [
    {
     "data": {
      "text/plain": [
       "96811"
      ]
     },
     "execution_count": 25,
     "metadata": {},
     "output_type": "execute_result"
    }
   ],
   "source": [
    "df_ques['SEQN'].nunique()"
   ]
  },
  {
   "cell_type": "markdown",
   "metadata": {},
   "source": [
    "# Laboratory"
   ]
  },
  {
   "cell_type": "code",
   "execution_count": 26,
   "metadata": {},
   "outputs": [],
   "source": [
    "cols_labo = ['LBXSNASI', 'LBXSCH']"
   ]
  },
  {
   "cell_type": "code",
   "execution_count": 27,
   "metadata": {},
   "outputs": [
    {
     "name": "stderr",
     "output_type": "stream",
     "text": [
      "2020-10-18 23:14:53 [ParseNHANES] INFO: Getting Component.LABORATORY\n"
     ]
    }
   ],
   "source": [
    "df_labo, meta_labo = nhanes.get_component(Component.LABORATORY, expr=r'(BIOPRO_[A-Z]|L40_.*|LAB18).XPT', columns=cols_labo)"
   ]
  },
  {
   "cell_type": "code",
   "execution_count": 28,
   "metadata": {},
   "outputs": [
    {
     "data": {
      "text/plain": [
       "{'LBXSNASI': 'Sodium (mmol/L)',\n",
       " 'LBXSCH': 'Cholesterol, refrigerated serum (mg/dL)'}"
      ]
     },
     "execution_count": 28,
     "metadata": {},
     "output_type": "execute_result"
    }
   ],
   "source": [
    "meta_labo"
   ]
  },
  {
   "cell_type": "code",
   "execution_count": 29,
   "metadata": {},
   "outputs": [
    {
     "name": "stdout",
     "output_type": "stream",
     "text": [
      "<class 'pandas.core.frame.DataFrame'>\n",
      "Int64Index: 69678 entries, 0 to 6400\n",
      "Data columns (total 4 columns):\n",
      " #   Column    Non-Null Count  Dtype  \n",
      "---  ------    --------------  -----  \n",
      " 0   LBXSNASI  63969 non-null  float64\n",
      " 1   LBXSCH    63965 non-null  float64\n",
      " 2   year      69678 non-null  object \n",
      " 3   SEQN      69678 non-null  int32  \n",
      "dtypes: float64(2), int32(1), object(1)\n",
      "memory usage: 2.4+ MB\n"
     ]
    }
   ],
   "source": [
    "df_labo.info()"
   ]
  },
  {
   "cell_type": "code",
   "execution_count": 30,
   "metadata": {},
   "outputs": [
    {
     "data": {
      "text/html": [
       "<div>\n",
       "<style scoped>\n",
       "    .dataframe tbody tr th:only-of-type {\n",
       "        vertical-align: middle;\n",
       "    }\n",
       "\n",
       "    .dataframe tbody tr th {\n",
       "        vertical-align: top;\n",
       "    }\n",
       "\n",
       "    .dataframe thead th {\n",
       "        text-align: right;\n",
       "    }\n",
       "</style>\n",
       "<table border=\"1\" class=\"dataframe\">\n",
       "  <thead>\n",
       "    <tr style=\"text-align: right;\">\n",
       "      <th></th>\n",
       "      <th>LBXSNASI</th>\n",
       "      <th>LBXSCH</th>\n",
       "      <th>year</th>\n",
       "      <th>SEQN</th>\n",
       "    </tr>\n",
       "  </thead>\n",
       "  <tbody>\n",
       "    <tr>\n",
       "      <th>0</th>\n",
       "      <td>144.1</td>\n",
       "      <td>203.0</td>\n",
       "      <td>1999-2000</td>\n",
       "      <td>2</td>\n",
       "    </tr>\n",
       "    <tr>\n",
       "      <th>1</th>\n",
       "      <td>137.5</td>\n",
       "      <td>277.0</td>\n",
       "      <td>1999-2000</td>\n",
       "      <td>5</td>\n",
       "    </tr>\n",
       "    <tr>\n",
       "      <th>2</th>\n",
       "      <td>139.9</td>\n",
       "      <td>148.0</td>\n",
       "      <td>1999-2000</td>\n",
       "      <td>6</td>\n",
       "    </tr>\n",
       "    <tr>\n",
       "      <th>3</th>\n",
       "      <td>143.2</td>\n",
       "      <td>244.0</td>\n",
       "      <td>1999-2000</td>\n",
       "      <td>7</td>\n",
       "    </tr>\n",
       "    <tr>\n",
       "      <th>4</th>\n",
       "      <td>136.8</td>\n",
       "      <td>157.0</td>\n",
       "      <td>1999-2000</td>\n",
       "      <td>8</td>\n",
       "    </tr>\n",
       "  </tbody>\n",
       "</table>\n",
       "</div>"
      ],
      "text/plain": [
       "   LBXSNASI  LBXSCH       year  SEQN\n",
       "0     144.1   203.0  1999-2000     2\n",
       "1     137.5   277.0  1999-2000     5\n",
       "2     139.9   148.0  1999-2000     6\n",
       "3     143.2   244.0  1999-2000     7\n",
       "4     136.8   157.0  1999-2000     8"
      ]
     },
     "execution_count": 30,
     "metadata": {},
     "output_type": "execute_result"
    }
   ],
   "source": [
    "df_labo.head()"
   ]
  },
  {
   "cell_type": "markdown",
   "metadata": {},
   "source": [
    "# Examination"
   ]
  },
  {
   "cell_type": "code",
   "execution_count": 31,
   "metadata": {},
   "outputs": [],
   "source": [
    "cols_exam1 = ['BPXPLS', 'BPXSY1', 'BPXDI1', 'BPXSY2', 'BPXDI2', 'BPXSY3', 'BPXDI3', 'BPXSY4', 'BPXDI4']\n",
    "cols_exam2 = ['BMXWT', 'BMXHT', 'BMXWAIST', 'BMXARMC']"
   ]
  },
  {
   "cell_type": "code",
   "execution_count": 32,
   "metadata": {},
   "outputs": [
    {
     "name": "stderr",
     "output_type": "stream",
     "text": [
      "2020-10-18 23:14:57 [ParseNHANES] INFO: Getting Component.EXAMINATION\n"
     ]
    }
   ],
   "source": [
    "df_exam1, meta_exam1 = nhanes.get_component(Component.EXAMINATION, expr=r'BPX(|_[A-Z]).XPT', columns=cols_exam1)"
   ]
  },
  {
   "cell_type": "code",
   "execution_count": 33,
   "metadata": {},
   "outputs": [
    {
     "name": "stderr",
     "output_type": "stream",
     "text": [
      "2020-10-18 23:14:59 [ParseNHANES] INFO: Getting Component.EXAMINATION\n"
     ]
    }
   ],
   "source": [
    "df_exam2, meta_exam2 = nhanes.get_component(Component.EXAMINATION, expr=r'BMX(|_[A-Z]).XPT', columns=cols_exam2)"
   ]
  },
  {
   "cell_type": "code",
   "execution_count": 34,
   "metadata": {},
   "outputs": [
    {
     "data": {
      "text/plain": [
       "{'BPXPLS': '60 sec. pulse (30 sec. pulse * 2)',\n",
       " 'BPXSY1': 'Systolic: Blood pres (1st rdg) mm Hg',\n",
       " 'BPXDI1': 'Diastolic: Blood pres (1st rdg) mm Hg',\n",
       " 'BPXSY2': 'Systolic: Blood pres (2nd rdg) mm Hg',\n",
       " 'BPXDI2': 'Diastolic: Blood pres (2nd rdg) mm Hg',\n",
       " 'BPXSY3': 'Systolic: Blood pres (3rd rdg) mm Hg',\n",
       " 'BPXDI3': 'Diastolic: Blood pres (3rd rdg) mm Hg',\n",
       " 'BPXSY4': 'Systolic: Blood pres (4th rdg) mm Hg',\n",
       " 'BPXDI4': 'Diastolic: Blood pres (4th rdg) mm Hg',\n",
       " 'BMXWT': 'Weight (kg)',\n",
       " 'BMXHT': 'Standing Height (cm)',\n",
       " 'BMXWAIST': 'Waist Circumference (cm)',\n",
       " 'BMXARMC': 'Arm Circumference (cm)'}"
      ]
     },
     "execution_count": 34,
     "metadata": {},
     "output_type": "execute_result"
    }
   ],
   "source": [
    "meta_exam = {**meta_exam1, **meta_exam2}\n",
    "meta_exam"
   ]
  },
  {
   "cell_type": "code",
   "execution_count": 35,
   "metadata": {},
   "outputs": [],
   "source": [
    "df_exam = multi_merge([df_exam1, df_exam2])"
   ]
  },
  {
   "cell_type": "code",
   "execution_count": 36,
   "metadata": {},
   "outputs": [
    {
     "data": {
      "text/html": [
       "<div>\n",
       "<style scoped>\n",
       "    .dataframe tbody tr th:only-of-type {\n",
       "        vertical-align: middle;\n",
       "    }\n",
       "\n",
       "    .dataframe tbody tr th {\n",
       "        vertical-align: top;\n",
       "    }\n",
       "\n",
       "    .dataframe thead th {\n",
       "        text-align: right;\n",
       "    }\n",
       "</style>\n",
       "<table border=\"1\" class=\"dataframe\">\n",
       "  <thead>\n",
       "    <tr style=\"text-align: right;\">\n",
       "      <th></th>\n",
       "      <th>BPXPLS</th>\n",
       "      <th>BPXSY1</th>\n",
       "      <th>BPXDI1</th>\n",
       "      <th>BPXSY2</th>\n",
       "      <th>BPXDI2</th>\n",
       "      <th>BPXSY3</th>\n",
       "      <th>BPXDI3</th>\n",
       "      <th>BPXSY4</th>\n",
       "      <th>BPXDI4</th>\n",
       "      <th>year</th>\n",
       "      <th>SEQN</th>\n",
       "      <th>BMXWT</th>\n",
       "      <th>BMXHT</th>\n",
       "      <th>BMXWAIST</th>\n",
       "      <th>BMXARMC</th>\n",
       "    </tr>\n",
       "  </thead>\n",
       "  <tbody>\n",
       "    <tr>\n",
       "      <th>0</th>\n",
       "      <td>NaN</td>\n",
       "      <td>NaN</td>\n",
       "      <td>NaN</td>\n",
       "      <td>NaN</td>\n",
       "      <td>NaN</td>\n",
       "      <td>NaN</td>\n",
       "      <td>NaN</td>\n",
       "      <td>NaN</td>\n",
       "      <td>NaN</td>\n",
       "      <td>1999-2000</td>\n",
       "      <td>1</td>\n",
       "      <td>12.5</td>\n",
       "      <td>91.6</td>\n",
       "      <td>45.7</td>\n",
       "      <td>15.2</td>\n",
       "    </tr>\n",
       "    <tr>\n",
       "      <th>1</th>\n",
       "      <td>68.0</td>\n",
       "      <td>106.0</td>\n",
       "      <td>58.0</td>\n",
       "      <td>98.0</td>\n",
       "      <td>56.0</td>\n",
       "      <td>98.0</td>\n",
       "      <td>56.0</td>\n",
       "      <td>NaN</td>\n",
       "      <td>NaN</td>\n",
       "      <td>1999-2000</td>\n",
       "      <td>2</td>\n",
       "      <td>75.4</td>\n",
       "      <td>174.0</td>\n",
       "      <td>98.0</td>\n",
       "      <td>29.8</td>\n",
       "    </tr>\n",
       "    <tr>\n",
       "      <th>2</th>\n",
       "      <td>104.0</td>\n",
       "      <td>110.0</td>\n",
       "      <td>60.0</td>\n",
       "      <td>104.0</td>\n",
       "      <td>64.0</td>\n",
       "      <td>112.0</td>\n",
       "      <td>62.0</td>\n",
       "      <td>NaN</td>\n",
       "      <td>NaN</td>\n",
       "      <td>1999-2000</td>\n",
       "      <td>3</td>\n",
       "      <td>32.9</td>\n",
       "      <td>136.6</td>\n",
       "      <td>64.7</td>\n",
       "      <td>19.7</td>\n",
       "    </tr>\n",
       "    <tr>\n",
       "      <th>3</th>\n",
       "      <td>NaN</td>\n",
       "      <td>NaN</td>\n",
       "      <td>NaN</td>\n",
       "      <td>NaN</td>\n",
       "      <td>NaN</td>\n",
       "      <td>NaN</td>\n",
       "      <td>NaN</td>\n",
       "      <td>NaN</td>\n",
       "      <td>NaN</td>\n",
       "      <td>1999-2000</td>\n",
       "      <td>4</td>\n",
       "      <td>13.3</td>\n",
       "      <td>NaN</td>\n",
       "      <td>NaN</td>\n",
       "      <td>16.4</td>\n",
       "    </tr>\n",
       "    <tr>\n",
       "      <th>4</th>\n",
       "      <td>66.0</td>\n",
       "      <td>122.0</td>\n",
       "      <td>82.0</td>\n",
       "      <td>122.0</td>\n",
       "      <td>84.0</td>\n",
       "      <td>122.0</td>\n",
       "      <td>82.0</td>\n",
       "      <td>NaN</td>\n",
       "      <td>NaN</td>\n",
       "      <td>1999-2000</td>\n",
       "      <td>5</td>\n",
       "      <td>92.5</td>\n",
       "      <td>178.3</td>\n",
       "      <td>99.9</td>\n",
       "      <td>35.8</td>\n",
       "    </tr>\n",
       "  </tbody>\n",
       "</table>\n",
       "</div>"
      ],
      "text/plain": [
       "   BPXPLS  BPXSY1  BPXDI1  BPXSY2  BPXDI2  BPXSY3  BPXDI3  BPXSY4  BPXDI4  \\\n",
       "0     NaN     NaN     NaN     NaN     NaN     NaN     NaN     NaN     NaN   \n",
       "1    68.0   106.0    58.0    98.0    56.0    98.0    56.0     NaN     NaN   \n",
       "2   104.0   110.0    60.0   104.0    64.0   112.0    62.0     NaN     NaN   \n",
       "3     NaN     NaN     NaN     NaN     NaN     NaN     NaN     NaN     NaN   \n",
       "4    66.0   122.0    82.0   122.0    84.0   122.0    82.0     NaN     NaN   \n",
       "\n",
       "        year  SEQN  BMXWT  BMXHT  BMXWAIST  BMXARMC  \n",
       "0  1999-2000     1   12.5   91.6      45.7     15.2  \n",
       "1  1999-2000     2   75.4  174.0      98.0     29.8  \n",
       "2  1999-2000     3   32.9  136.6      64.7     19.7  \n",
       "3  1999-2000     4   13.3    NaN       NaN     16.4  \n",
       "4  1999-2000     5   92.5  178.3      99.9     35.8  "
      ]
     },
     "execution_count": 36,
     "metadata": {},
     "output_type": "execute_result"
    }
   ],
   "source": [
    "df_exam.head()"
   ]
  },
  {
   "cell_type": "code",
   "execution_count": 37,
   "metadata": {},
   "outputs": [
    {
     "name": "stdout",
     "output_type": "stream",
     "text": [
      "<class 'pandas.core.frame.DataFrame'>\n",
      "Int64Index: 96766 entries, 0 to 96765\n",
      "Data columns (total 15 columns):\n",
      " #   Column    Non-Null Count  Dtype  \n",
      "---  ------    --------------  -----  \n",
      " 0   BPXPLS    73876 non-null  float64\n",
      " 1   BPXSY1    68576 non-null  float64\n",
      " 2   BPXDI1    68576 non-null  float64\n",
      " 3   BPXSY2    67934 non-null  float64\n",
      " 4   BPXDI2    67934 non-null  float64\n",
      " 5   BPXSY3    67328 non-null  float64\n",
      " 6   BPXDI3    67327 non-null  float64\n",
      " 7   BPXSY4    8466 non-null   float64\n",
      " 8   BPXDI4    8466 non-null   float64\n",
      " 9   year      96766 non-null  object \n",
      " 10  SEQN      96766 non-null  int32  \n",
      " 11  BMXWT     95182 non-null  float64\n",
      " 12  BMXHT     88239 non-null  float64\n",
      " 13  BMXWAIST  84699 non-null  float64\n",
      " 14  BMXARMC   91790 non-null  float64\n",
      "dtypes: float64(13), int32(1), object(1)\n",
      "memory usage: 11.4+ MB\n"
     ]
    }
   ],
   "source": [
    "df_exam.info()"
   ]
  },
  {
   "cell_type": "markdown",
   "metadata": {},
   "source": [
    "\n",
    "# Merge Components"
   ]
  },
  {
   "cell_type": "code",
   "execution_count": 38,
   "metadata": {},
   "outputs": [
    {
     "name": "stdout",
     "output_type": "stream",
     "text": [
      "<class 'pandas.core.frame.DataFrame'>\n",
      "Int64Index: 101862 entries, 0 to 101861\n",
      "Data columns (total 29 columns):\n",
      " #   Column    Non-Null Count   Dtype  \n",
      "---  ------    --------------   -----  \n",
      " 0   RIDAGEYR  101862 non-null  float64\n",
      " 1   RIDRETH1  101862 non-null  float64\n",
      " 2   INDFMPIR  92636 non-null   float64\n",
      " 3   RIAGENDR  101862 non-null  float64\n",
      " 4   year      101862 non-null  object \n",
      " 5   SEQN      101862 non-null  int32  \n",
      " 6   BPXPLS    74418 non-null   float64\n",
      " 7   BPXSY1    69081 non-null   float64\n",
      " 8   BPXDI1    69081 non-null   float64\n",
      " 9   BPXSY2    68425 non-null   float64\n",
      " 10  BPXDI2    68425 non-null   float64\n",
      " 11  BPXSY3    67802 non-null   float64\n",
      " 12  BPXDI3    67801 non-null   float64\n",
      " 13  BPXSY4    8568 non-null    float64\n",
      " 14  BPXDI4    8568 non-null    float64\n",
      " 15  BMXWT     95718 non-null   float64\n",
      " 16  BMXHT     88783 non-null   float64\n",
      " 17  BMXWAIST  85237 non-null   float64\n",
      " 18  BMXARMC   92332 non-null   float64\n",
      " 19  MCQ160B   55529 non-null   float64\n",
      " 20  MCQ160C   55529 non-null   float64\n",
      " 21  MCQ160D   55529 non-null   float64\n",
      " 22  MCQ160E   55529 non-null   float64\n",
      " 23  MCQ160F   55529 non-null   float64\n",
      " 24  SMQ040    25356 non-null   float64\n",
      " 25  DIQ010    97348 non-null   float64\n",
      " 26  ALQ120Q   37206 non-null   float64\n",
      " 27  LBXSNASI  63969 non-null   float64\n",
      " 28  LBXSCH    63965 non-null   float64\n",
      "dtypes: float64(27), int32(1), object(1)\n",
      "memory usage: 22.9+ MB\n"
     ]
    }
   ],
   "source": [
    "df_merged = multi_merge(data_frames=[df_demo, df_exam, df_ques, df_labo])\n",
    "df_merged.info()"
   ]
  },
  {
   "cell_type": "code",
   "execution_count": 39,
   "metadata": {},
   "outputs": [],
   "source": [
    "df_merged.set_index('SEQN', inplace=True)"
   ]
  },
  {
   "cell_type": "code",
   "execution_count": 40,
   "metadata": {},
   "outputs": [],
   "source": [
    "# Replace numeric categorical values with text\n",
    "df_merged['SMQ040'].replace({1: 'Every day',\n",
    "                             2: 'Some days',\n",
    "                             3: 'Not at all',\n",
    "                             7: 'Refused',\n",
    "                             9: \"Don't know\"}, inplace=True)\n",
    "df_merged['RIDRETH1'].replace({1: \"Mexican American\",\n",
    "                               2: \"Other Hispanic\",\n",
    "                               3: \"Non-Hispanic White\",\n",
    "                               4: \"Non-Hispanic Black\",\n",
    "                               5: \"Other Race - Including Multi-Racial\"}, inplace=True)\n",
    "\n",
    "df_merged['RIAGENDR'].replace({1: \"Male\", 2: \"Female\"}, inplace=True)\n",
    "df_merged['MCQ160B'].replace({1: \"Yes\", 2: \"No\", 7: \"Refused\", 9: \"Don't know\"}, inplace=True)\n",
    "df_merged['MCQ160F'].replace({1: \"Yes\", 2: \"No\", 7: \"Refused\", 9: \"Don't know\"}, inplace=True)\n",
    "df_merged['MCQ160D'].replace({1: \"Yes\", 2: \"No\", 7: \"Refused\", 9: \"Don't know\"}, inplace=True)\n",
    "df_merged['MCQ160C'].replace({1: \"Yes\", 2: \"No\", 7: \"Refused\", 9: \"Don't know\"}, inplace=True)\n",
    "df_merged['MCQ160E'].replace({1: \"Yes\", 2: \"No\", 7: \"Refused\", 9: \"Don't know\"}, inplace=True)\n",
    "df_merged['DIQ010'].replace({1: \"Yes\", 2: \"No\", 3: \"Borderline\", 7: \"Refused\", 9: \"Don't know\"}, inplace=True)"
   ]
  },
  {
   "cell_type": "code",
   "execution_count": 41,
   "metadata": {},
   "outputs": [
    {
     "data": {
      "text/plain": [
       "['BPXDI1',\n",
       " 'BPXDI2',\n",
       " 'BPXDI3',\n",
       " 'BPXDI4',\n",
       " 'BPXSY1',\n",
       " 'BPXSY2',\n",
       " 'BPXSY3',\n",
       " 'BPXSY4']"
      ]
     },
     "execution_count": 41,
     "metadata": {},
     "output_type": "execute_result"
    }
   ],
   "source": [
    "cols_BPXSY = ['BPXSY' + str(x) for x in range(1, 5)]\n",
    "cols_BPXDI = ['BPXDI' + str(x) for x in range(1, 5)]\n",
    "cols_BPXDI + cols_BPXSY"
   ]
  },
  {
   "cell_type": "code",
   "execution_count": 42,
   "metadata": {},
   "outputs": [],
   "source": [
    "def average_blood_pressure(row, typ):\n",
    "    if typ.lower() == 'systolic':\n",
    "        cols = cols_BPXSY\n",
    "    elif typ.lower() == 'diastolic':\n",
    "        cols = cols_BPXDI\n",
    "    else:\n",
    "        raise ValueError()\n",
    "\n",
    "    return row[cols].mean()"
   ]
  },
  {
   "cell_type": "code",
   "execution_count": 43,
   "metadata": {},
   "outputs": [],
   "source": [
    "df_merged['avg_systolic_blood_pres'] = df_merged.apply(lambda row: average_blood_pressure(row, 'Systolic'), axis=1)\n",
    "df_merged['avg_diastolic_blood_pres'] = df_merged.apply(lambda row: average_blood_pressure(row, 'Diastolic'), axis=1)"
   ]
  },
  {
   "cell_type": "code",
   "execution_count": 44,
   "metadata": {},
   "outputs": [],
   "source": [
    "cols_drop = cols_BPXSY + cols_BPXDI\n",
    "df_merged.drop(labels=cols_drop, axis=1, inplace=True)"
   ]
  },
  {
   "cell_type": "code",
   "execution_count": 45,
   "metadata": {},
   "outputs": [
    {
     "data": {
      "text/html": [
       "<div>\n",
       "<style scoped>\n",
       "    .dataframe tbody tr th:only-of-type {\n",
       "        vertical-align: middle;\n",
       "    }\n",
       "\n",
       "    .dataframe tbody tr th {\n",
       "        vertical-align: top;\n",
       "    }\n",
       "\n",
       "    .dataframe thead th {\n",
       "        text-align: right;\n",
       "    }\n",
       "</style>\n",
       "<table border=\"1\" class=\"dataframe\">\n",
       "  <thead>\n",
       "    <tr style=\"text-align: right;\">\n",
       "      <th></th>\n",
       "      <th>RIDAGEYR</th>\n",
       "      <th>RIDRETH1</th>\n",
       "      <th>INDFMPIR</th>\n",
       "      <th>RIAGENDR</th>\n",
       "      <th>year</th>\n",
       "      <th>BPXPLS</th>\n",
       "      <th>BMXWT</th>\n",
       "      <th>BMXHT</th>\n",
       "      <th>BMXWAIST</th>\n",
       "      <th>BMXARMC</th>\n",
       "      <th>MCQ160B</th>\n",
       "      <th>MCQ160C</th>\n",
       "      <th>MCQ160D</th>\n",
       "      <th>MCQ160E</th>\n",
       "      <th>MCQ160F</th>\n",
       "      <th>SMQ040</th>\n",
       "      <th>DIQ010</th>\n",
       "      <th>ALQ120Q</th>\n",
       "      <th>LBXSNASI</th>\n",
       "      <th>LBXSCH</th>\n",
       "      <th>avg_systolic_blood_pres</th>\n",
       "      <th>avg_diastolic_blood_pres</th>\n",
       "    </tr>\n",
       "    <tr>\n",
       "      <th>SEQN</th>\n",
       "      <th></th>\n",
       "      <th></th>\n",
       "      <th></th>\n",
       "      <th></th>\n",
       "      <th></th>\n",
       "      <th></th>\n",
       "      <th></th>\n",
       "      <th></th>\n",
       "      <th></th>\n",
       "      <th></th>\n",
       "      <th></th>\n",
       "      <th></th>\n",
       "      <th></th>\n",
       "      <th></th>\n",
       "      <th></th>\n",
       "      <th></th>\n",
       "      <th></th>\n",
       "      <th></th>\n",
       "      <th></th>\n",
       "      <th></th>\n",
       "      <th></th>\n",
       "      <th></th>\n",
       "    </tr>\n",
       "  </thead>\n",
       "  <tbody>\n",
       "    <tr>\n",
       "      <th>1</th>\n",
       "      <td>2.0</td>\n",
       "      <td>Non-Hispanic Black</td>\n",
       "      <td>0.86</td>\n",
       "      <td>Female</td>\n",
       "      <td>1999-2000</td>\n",
       "      <td>NaN</td>\n",
       "      <td>12.5</td>\n",
       "      <td>91.6</td>\n",
       "      <td>45.7</td>\n",
       "      <td>15.2</td>\n",
       "      <td>NaN</td>\n",
       "      <td>NaN</td>\n",
       "      <td>NaN</td>\n",
       "      <td>NaN</td>\n",
       "      <td>NaN</td>\n",
       "      <td>NaN</td>\n",
       "      <td>No</td>\n",
       "      <td>NaN</td>\n",
       "      <td>NaN</td>\n",
       "      <td>NaN</td>\n",
       "      <td>NaN</td>\n",
       "      <td>NaN</td>\n",
       "    </tr>\n",
       "    <tr>\n",
       "      <th>2</th>\n",
       "      <td>77.0</td>\n",
       "      <td>Non-Hispanic White</td>\n",
       "      <td>5.00</td>\n",
       "      <td>Male</td>\n",
       "      <td>1999-2000</td>\n",
       "      <td>68.0</td>\n",
       "      <td>75.4</td>\n",
       "      <td>174.0</td>\n",
       "      <td>98.0</td>\n",
       "      <td>29.8</td>\n",
       "      <td>No</td>\n",
       "      <td>No</td>\n",
       "      <td>No</td>\n",
       "      <td>No</td>\n",
       "      <td>No</td>\n",
       "      <td>NaN</td>\n",
       "      <td>No</td>\n",
       "      <td>24.0</td>\n",
       "      <td>144.1</td>\n",
       "      <td>203.0</td>\n",
       "      <td>100.666667</td>\n",
       "      <td>56.666667</td>\n",
       "    </tr>\n",
       "    <tr>\n",
       "      <th>3</th>\n",
       "      <td>10.0</td>\n",
       "      <td>Non-Hispanic White</td>\n",
       "      <td>1.47</td>\n",
       "      <td>Female</td>\n",
       "      <td>1999-2000</td>\n",
       "      <td>104.0</td>\n",
       "      <td>32.9</td>\n",
       "      <td>136.6</td>\n",
       "      <td>64.7</td>\n",
       "      <td>19.7</td>\n",
       "      <td>NaN</td>\n",
       "      <td>NaN</td>\n",
       "      <td>NaN</td>\n",
       "      <td>NaN</td>\n",
       "      <td>NaN</td>\n",
       "      <td>NaN</td>\n",
       "      <td>No</td>\n",
       "      <td>NaN</td>\n",
       "      <td>NaN</td>\n",
       "      <td>NaN</td>\n",
       "      <td>108.666667</td>\n",
       "      <td>62.000000</td>\n",
       "    </tr>\n",
       "    <tr>\n",
       "      <th>4</th>\n",
       "      <td>1.0</td>\n",
       "      <td>Non-Hispanic Black</td>\n",
       "      <td>0.57</td>\n",
       "      <td>Male</td>\n",
       "      <td>1999-2000</td>\n",
       "      <td>NaN</td>\n",
       "      <td>13.3</td>\n",
       "      <td>NaN</td>\n",
       "      <td>NaN</td>\n",
       "      <td>16.4</td>\n",
       "      <td>NaN</td>\n",
       "      <td>NaN</td>\n",
       "      <td>NaN</td>\n",
       "      <td>NaN</td>\n",
       "      <td>NaN</td>\n",
       "      <td>NaN</td>\n",
       "      <td>No</td>\n",
       "      <td>NaN</td>\n",
       "      <td>NaN</td>\n",
       "      <td>NaN</td>\n",
       "      <td>NaN</td>\n",
       "      <td>NaN</td>\n",
       "    </tr>\n",
       "    <tr>\n",
       "      <th>5</th>\n",
       "      <td>49.0</td>\n",
       "      <td>Non-Hispanic White</td>\n",
       "      <td>5.00</td>\n",
       "      <td>Male</td>\n",
       "      <td>1999-2000</td>\n",
       "      <td>66.0</td>\n",
       "      <td>92.5</td>\n",
       "      <td>178.3</td>\n",
       "      <td>99.9</td>\n",
       "      <td>35.8</td>\n",
       "      <td>No</td>\n",
       "      <td>No</td>\n",
       "      <td>No</td>\n",
       "      <td>No</td>\n",
       "      <td>No</td>\n",
       "      <td>Not at all</td>\n",
       "      <td>No</td>\n",
       "      <td>4.0</td>\n",
       "      <td>137.5</td>\n",
       "      <td>277.0</td>\n",
       "      <td>122.000000</td>\n",
       "      <td>82.666667</td>\n",
       "    </tr>\n",
       "  </tbody>\n",
       "</table>\n",
       "</div>"
      ],
      "text/plain": [
       "      RIDAGEYR            RIDRETH1  INDFMPIR RIAGENDR       year  BPXPLS  \\\n",
       "SEQN                                                                       \n",
       "1          2.0  Non-Hispanic Black      0.86   Female  1999-2000     NaN   \n",
       "2         77.0  Non-Hispanic White      5.00     Male  1999-2000    68.0   \n",
       "3         10.0  Non-Hispanic White      1.47   Female  1999-2000   104.0   \n",
       "4          1.0  Non-Hispanic Black      0.57     Male  1999-2000     NaN   \n",
       "5         49.0  Non-Hispanic White      5.00     Male  1999-2000    66.0   \n",
       "\n",
       "      BMXWT  BMXHT  BMXWAIST  BMXARMC MCQ160B MCQ160C MCQ160D MCQ160E MCQ160F  \\\n",
       "SEQN                                                                            \n",
       "1      12.5   91.6      45.7     15.2     NaN     NaN     NaN     NaN     NaN   \n",
       "2      75.4  174.0      98.0     29.8      No      No      No      No      No   \n",
       "3      32.9  136.6      64.7     19.7     NaN     NaN     NaN     NaN     NaN   \n",
       "4      13.3    NaN       NaN     16.4     NaN     NaN     NaN     NaN     NaN   \n",
       "5      92.5  178.3      99.9     35.8      No      No      No      No      No   \n",
       "\n",
       "          SMQ040 DIQ010  ALQ120Q  LBXSNASI  LBXSCH  avg_systolic_blood_pres  \\\n",
       "SEQN                                                                          \n",
       "1            NaN     No      NaN       NaN     NaN                      NaN   \n",
       "2            NaN     No     24.0     144.1   203.0               100.666667   \n",
       "3            NaN     No      NaN       NaN     NaN               108.666667   \n",
       "4            NaN     No      NaN       NaN     NaN                      NaN   \n",
       "5     Not at all     No      4.0     137.5   277.0               122.000000   \n",
       "\n",
       "      avg_diastolic_blood_pres  \n",
       "SEQN                            \n",
       "1                          NaN  \n",
       "2                    56.666667  \n",
       "3                    62.000000  \n",
       "4                          NaN  \n",
       "5                    82.666667  "
      ]
     },
     "execution_count": 45,
     "metadata": {},
     "output_type": "execute_result"
    }
   ],
   "source": [
    "df_merged.head()"
   ]
  },
  {
   "cell_type": "code",
   "execution_count": 46,
   "metadata": {},
   "outputs": [],
   "source": [
    "#df_merged.dropna(subset=['MCQ160B','MCQ160C','MCQ160E', 'MCQ160F'])"
   ]
  },
  {
   "cell_type": "code",
   "execution_count": 47,
   "metadata": {},
   "outputs": [
    {
     "data": {
      "text/html": [
       "<div>\n",
       "<style scoped>\n",
       "    .dataframe tbody tr th:only-of-type {\n",
       "        vertical-align: middle;\n",
       "    }\n",
       "\n",
       "    .dataframe tbody tr th {\n",
       "        vertical-align: top;\n",
       "    }\n",
       "\n",
       "    .dataframe thead th {\n",
       "        text-align: right;\n",
       "    }\n",
       "</style>\n",
       "<table border=\"1\" class=\"dataframe\">\n",
       "  <thead>\n",
       "    <tr style=\"text-align: right;\">\n",
       "      <th></th>\n",
       "      <th>RIDAGEYR</th>\n",
       "      <th>RIDRETH1</th>\n",
       "      <th>INDFMPIR</th>\n",
       "      <th>RIAGENDR</th>\n",
       "      <th>BPXPLS</th>\n",
       "      <th>BMXWT</th>\n",
       "      <th>BMXHT</th>\n",
       "      <th>BMXWAIST</th>\n",
       "      <th>BMXARMC</th>\n",
       "      <th>MCQ160B</th>\n",
       "      <th>MCQ160C</th>\n",
       "      <th>MCQ160D</th>\n",
       "      <th>MCQ160E</th>\n",
       "      <th>MCQ160F</th>\n",
       "      <th>SMQ040</th>\n",
       "      <th>DIQ010</th>\n",
       "      <th>ALQ120Q</th>\n",
       "      <th>LBXSNASI</th>\n",
       "      <th>LBXSCH</th>\n",
       "      <th>avg_systolic_blood_pres</th>\n",
       "      <th>avg_diastolic_blood_pres</th>\n",
       "    </tr>\n",
       "    <tr>\n",
       "      <th>year</th>\n",
       "      <th></th>\n",
       "      <th></th>\n",
       "      <th></th>\n",
       "      <th></th>\n",
       "      <th></th>\n",
       "      <th></th>\n",
       "      <th></th>\n",
       "      <th></th>\n",
       "      <th></th>\n",
       "      <th></th>\n",
       "      <th></th>\n",
       "      <th></th>\n",
       "      <th></th>\n",
       "      <th></th>\n",
       "      <th></th>\n",
       "      <th></th>\n",
       "      <th></th>\n",
       "      <th></th>\n",
       "      <th></th>\n",
       "      <th></th>\n",
       "      <th></th>\n",
       "    </tr>\n",
       "  </thead>\n",
       "  <tbody>\n",
       "    <tr>\n",
       "      <th>1999-2000</th>\n",
       "      <td>0.0</td>\n",
       "      <td>0.0</td>\n",
       "      <td>1483.0</td>\n",
       "      <td>0.0</td>\n",
       "      <td>2712.0</td>\n",
       "      <td>768.0</td>\n",
       "      <td>1501.0</td>\n",
       "      <td>1681.0</td>\n",
       "      <td>980.0</td>\n",
       "      <td>5085.0</td>\n",
       "      <td>5085.0</td>\n",
       "      <td>5085.0</td>\n",
       "      <td>5085.0</td>\n",
       "      <td>5085.0</td>\n",
       "      <td>7666.0</td>\n",
       "      <td>477.0</td>\n",
       "      <td>6446.0</td>\n",
       "      <td>3735.0</td>\n",
       "      <td>3733.0</td>\n",
       "      <td>2750.0</td>\n",
       "      <td>2750.0</td>\n",
       "    </tr>\n",
       "    <tr>\n",
       "      <th>2001-2002</th>\n",
       "      <td>0.0</td>\n",
       "      <td>0.0</td>\n",
       "      <td>824.0</td>\n",
       "      <td>0.0</td>\n",
       "      <td>3146.0</td>\n",
       "      <td>1224.0</td>\n",
       "      <td>1678.0</td>\n",
       "      <td>1991.0</td>\n",
       "      <td>1175.0</td>\n",
       "      <td>5724.0</td>\n",
       "      <td>5724.0</td>\n",
       "      <td>5724.0</td>\n",
       "      <td>5724.0</td>\n",
       "      <td>5724.0</td>\n",
       "      <td>8769.0</td>\n",
       "      <td>571.0</td>\n",
       "      <td>7301.0</td>\n",
       "      <td>4694.0</td>\n",
       "      <td>4694.0</td>\n",
       "      <td>3207.0</td>\n",
       "      <td>3207.0</td>\n",
       "    </tr>\n",
       "    <tr>\n",
       "      <th>2003-2004</th>\n",
       "      <td>0.0</td>\n",
       "      <td>0.0</td>\n",
       "      <td>587.0</td>\n",
       "      <td>0.0</td>\n",
       "      <td>2761.0</td>\n",
       "      <td>593.0</td>\n",
       "      <td>1432.0</td>\n",
       "      <td>1725.0</td>\n",
       "      <td>935.0</td>\n",
       "      <td>5082.0</td>\n",
       "      <td>5082.0</td>\n",
       "      <td>5082.0</td>\n",
       "      <td>5082.0</td>\n",
       "      <td>5082.0</td>\n",
       "      <td>7626.0</td>\n",
       "      <td>477.0</td>\n",
       "      <td>6443.0</td>\n",
       "      <td>3631.0</td>\n",
       "      <td>3630.0</td>\n",
       "      <td>2908.0</td>\n",
       "      <td>2908.0</td>\n",
       "    </tr>\n",
       "    <tr>\n",
       "      <th>2005-2006</th>\n",
       "      <td>0.0</td>\n",
       "      <td>0.0</td>\n",
       "      <td>534.0</td>\n",
       "      <td>0.0</td>\n",
       "      <td>2907.0</td>\n",
       "      <td>501.0</td>\n",
       "      <td>1386.0</td>\n",
       "      <td>1676.0</td>\n",
       "      <td>854.0</td>\n",
       "      <td>5369.0</td>\n",
       "      <td>5369.0</td>\n",
       "      <td>5369.0</td>\n",
       "      <td>5369.0</td>\n",
       "      <td>5369.0</td>\n",
       "      <td>8000.0</td>\n",
       "      <td>526.0</td>\n",
       "      <td>6601.0</td>\n",
       "      <td>3914.0</td>\n",
       "      <td>3915.0</td>\n",
       "      <td>2989.0</td>\n",
       "      <td>2989.0</td>\n",
       "    </tr>\n",
       "    <tr>\n",
       "      <th>2007-2008</th>\n",
       "      <td>0.0</td>\n",
       "      <td>0.0</td>\n",
       "      <td>894.0</td>\n",
       "      <td>0.0</td>\n",
       "      <td>2788.0</td>\n",
       "      <td>518.0</td>\n",
       "      <td>1276.0</td>\n",
       "      <td>1611.0</td>\n",
       "      <td>868.0</td>\n",
       "      <td>4214.0</td>\n",
       "      <td>4214.0</td>\n",
       "      <td>4214.0</td>\n",
       "      <td>4214.0</td>\n",
       "      <td>4214.0</td>\n",
       "      <td>7347.0</td>\n",
       "      <td>483.0</td>\n",
       "      <td>5715.0</td>\n",
       "      <td>3774.0</td>\n",
       "      <td>3774.0</td>\n",
       "      <td>2799.0</td>\n",
       "      <td>2799.0</td>\n",
       "    </tr>\n",
       "    <tr>\n",
       "      <th>2009-2010</th>\n",
       "      <td>0.0</td>\n",
       "      <td>0.0</td>\n",
       "      <td>996.0</td>\n",
       "      <td>0.0</td>\n",
       "      <td>2701.0</td>\n",
       "      <td>375.0</td>\n",
       "      <td>1117.0</td>\n",
       "      <td>1564.0</td>\n",
       "      <td>838.0</td>\n",
       "      <td>4319.0</td>\n",
       "      <td>4319.0</td>\n",
       "      <td>4319.0</td>\n",
       "      <td>4319.0</td>\n",
       "      <td>4319.0</td>\n",
       "      <td>7671.0</td>\n",
       "      <td>428.0</td>\n",
       "      <td>5885.0</td>\n",
       "      <td>3677.0</td>\n",
       "      <td>3677.0</td>\n",
       "      <td>2719.0</td>\n",
       "      <td>2719.0</td>\n",
       "    </tr>\n",
       "    <tr>\n",
       "      <th>2011-2012</th>\n",
       "      <td>0.0</td>\n",
       "      <td>0.0</td>\n",
       "      <td>840.0</td>\n",
       "      <td>0.0</td>\n",
       "      <td>2696.0</td>\n",
       "      <td>513.0</td>\n",
       "      <td>1141.0</td>\n",
       "      <td>1552.0</td>\n",
       "      <td>930.0</td>\n",
       "      <td>4197.0</td>\n",
       "      <td>4197.0</td>\n",
       "      <td>4197.0</td>\n",
       "      <td>4197.0</td>\n",
       "      <td>4197.0</td>\n",
       "      <td>7387.0</td>\n",
       "      <td>393.0</td>\n",
       "      <td>5568.0</td>\n",
       "      <td>3782.0</td>\n",
       "      <td>3782.0</td>\n",
       "      <td>2701.0</td>\n",
       "      <td>2701.0</td>\n",
       "    </tr>\n",
       "    <tr>\n",
       "      <th>2013-2014</th>\n",
       "      <td>0.0</td>\n",
       "      <td>0.0</td>\n",
       "      <td>785.0</td>\n",
       "      <td>0.0</td>\n",
       "      <td>2626.0</td>\n",
       "      <td>452.0</td>\n",
       "      <td>1108.0</td>\n",
       "      <td>1514.0</td>\n",
       "      <td>874.0</td>\n",
       "      <td>4406.0</td>\n",
       "      <td>4406.0</td>\n",
       "      <td>4406.0</td>\n",
       "      <td>4406.0</td>\n",
       "      <td>4406.0</td>\n",
       "      <td>7596.0</td>\n",
       "      <td>406.0</td>\n",
       "      <td>5696.0</td>\n",
       "      <td>3622.0</td>\n",
       "      <td>3624.0</td>\n",
       "      <td>2644.0</td>\n",
       "      <td>2644.0</td>\n",
       "    </tr>\n",
       "    <tr>\n",
       "      <th>2015-2016</th>\n",
       "      <td>0.0</td>\n",
       "      <td>0.0</td>\n",
       "      <td>1052.0</td>\n",
       "      <td>0.0</td>\n",
       "      <td>2595.0</td>\n",
       "      <td>526.0</td>\n",
       "      <td>1202.0</td>\n",
       "      <td>1658.0</td>\n",
       "      <td>995.0</td>\n",
       "      <td>4252.0</td>\n",
       "      <td>4252.0</td>\n",
       "      <td>4252.0</td>\n",
       "      <td>4252.0</td>\n",
       "      <td>4252.0</td>\n",
       "      <td>7549.0</td>\n",
       "      <td>396.0</td>\n",
       "      <td>5747.0</td>\n",
       "      <td>3714.0</td>\n",
       "      <td>3717.0</td>\n",
       "      <td>2608.0</td>\n",
       "      <td>2608.0</td>\n",
       "    </tr>\n",
       "    <tr>\n",
       "      <th>2017-2018</th>\n",
       "      <td>0.0</td>\n",
       "      <td>0.0</td>\n",
       "      <td>1231.0</td>\n",
       "      <td>0.0</td>\n",
       "      <td>2512.0</td>\n",
       "      <td>674.0</td>\n",
       "      <td>1238.0</td>\n",
       "      <td>1653.0</td>\n",
       "      <td>1081.0</td>\n",
       "      <td>3685.0</td>\n",
       "      <td>3685.0</td>\n",
       "      <td>3685.0</td>\n",
       "      <td>3685.0</td>\n",
       "      <td>3685.0</td>\n",
       "      <td>6895.0</td>\n",
       "      <td>357.0</td>\n",
       "      <td>9254.0</td>\n",
       "      <td>3350.0</td>\n",
       "      <td>3351.0</td>\n",
       "      <td>2537.0</td>\n",
       "      <td>2537.0</td>\n",
       "    </tr>\n",
       "  </tbody>\n",
       "</table>\n",
       "</div>"
      ],
      "text/plain": [
       "           RIDAGEYR  RIDRETH1  INDFMPIR  RIAGENDR  BPXPLS   BMXWT   BMXHT  \\\n",
       "year                                                                        \n",
       "1999-2000       0.0       0.0    1483.0       0.0  2712.0   768.0  1501.0   \n",
       "2001-2002       0.0       0.0     824.0       0.0  3146.0  1224.0  1678.0   \n",
       "2003-2004       0.0       0.0     587.0       0.0  2761.0   593.0  1432.0   \n",
       "2005-2006       0.0       0.0     534.0       0.0  2907.0   501.0  1386.0   \n",
       "2007-2008       0.0       0.0     894.0       0.0  2788.0   518.0  1276.0   \n",
       "2009-2010       0.0       0.0     996.0       0.0  2701.0   375.0  1117.0   \n",
       "2011-2012       0.0       0.0     840.0       0.0  2696.0   513.0  1141.0   \n",
       "2013-2014       0.0       0.0     785.0       0.0  2626.0   452.0  1108.0   \n",
       "2015-2016       0.0       0.0    1052.0       0.0  2595.0   526.0  1202.0   \n",
       "2017-2018       0.0       0.0    1231.0       0.0  2512.0   674.0  1238.0   \n",
       "\n",
       "           BMXWAIST  BMXARMC  MCQ160B  MCQ160C  MCQ160D  MCQ160E  MCQ160F  \\\n",
       "year                                                                        \n",
       "1999-2000    1681.0    980.0   5085.0   5085.0   5085.0   5085.0   5085.0   \n",
       "2001-2002    1991.0   1175.0   5724.0   5724.0   5724.0   5724.0   5724.0   \n",
       "2003-2004    1725.0    935.0   5082.0   5082.0   5082.0   5082.0   5082.0   \n",
       "2005-2006    1676.0    854.0   5369.0   5369.0   5369.0   5369.0   5369.0   \n",
       "2007-2008    1611.0    868.0   4214.0   4214.0   4214.0   4214.0   4214.0   \n",
       "2009-2010    1564.0    838.0   4319.0   4319.0   4319.0   4319.0   4319.0   \n",
       "2011-2012    1552.0    930.0   4197.0   4197.0   4197.0   4197.0   4197.0   \n",
       "2013-2014    1514.0    874.0   4406.0   4406.0   4406.0   4406.0   4406.0   \n",
       "2015-2016    1658.0    995.0   4252.0   4252.0   4252.0   4252.0   4252.0   \n",
       "2017-2018    1653.0   1081.0   3685.0   3685.0   3685.0   3685.0   3685.0   \n",
       "\n",
       "           SMQ040  DIQ010  ALQ120Q  LBXSNASI  LBXSCH  avg_systolic_blood_pres  \\\n",
       "year                                                                            \n",
       "1999-2000  7666.0   477.0   6446.0    3735.0  3733.0                   2750.0   \n",
       "2001-2002  8769.0   571.0   7301.0    4694.0  4694.0                   3207.0   \n",
       "2003-2004  7626.0   477.0   6443.0    3631.0  3630.0                   2908.0   \n",
       "2005-2006  8000.0   526.0   6601.0    3914.0  3915.0                   2989.0   \n",
       "2007-2008  7347.0   483.0   5715.0    3774.0  3774.0                   2799.0   \n",
       "2009-2010  7671.0   428.0   5885.0    3677.0  3677.0                   2719.0   \n",
       "2011-2012  7387.0   393.0   5568.0    3782.0  3782.0                   2701.0   \n",
       "2013-2014  7596.0   406.0   5696.0    3622.0  3624.0                   2644.0   \n",
       "2015-2016  7549.0   396.0   5747.0    3714.0  3717.0                   2608.0   \n",
       "2017-2018  6895.0   357.0   9254.0    3350.0  3351.0                   2537.0   \n",
       "\n",
       "           avg_diastolic_blood_pres  \n",
       "year                                 \n",
       "1999-2000                    2750.0  \n",
       "2001-2002                    3207.0  \n",
       "2003-2004                    2908.0  \n",
       "2005-2006                    2989.0  \n",
       "2007-2008                    2799.0  \n",
       "2009-2010                    2719.0  \n",
       "2011-2012                    2701.0  \n",
       "2013-2014                    2644.0  \n",
       "2015-2016                    2608.0  \n",
       "2017-2018                    2537.0  "
      ]
     },
     "execution_count": 47,
     "metadata": {},
     "output_type": "execute_result"
    }
   ],
   "source": [
    "df_na = df_merged.isna()\n",
    "df_na['year'] = df_merged['year']\n",
    "df_na_year = df_na.groupby('year').sum()\n",
    "df_na_year"
   ]
  },
  {
   "cell_type": "code",
   "execution_count": 48,
   "metadata": {},
   "outputs": [
    {
     "name": "stdout",
     "output_type": "stream",
     "text": [
      "<class 'pandas.core.frame.DataFrame'>\n",
      "Int64Index: 15881 entries, 5 to 93685\n",
      "Data columns (total 22 columns):\n",
      " #   Column                    Non-Null Count  Dtype  \n",
      "---  ------                    --------------  -----  \n",
      " 0   RIDAGEYR                  15881 non-null  float64\n",
      " 1   RIDRETH1                  15881 non-null  object \n",
      " 2   INDFMPIR                  15881 non-null  float64\n",
      " 3   RIAGENDR                  15881 non-null  object \n",
      " 4   year                      15881 non-null  object \n",
      " 5   BPXPLS                    15881 non-null  float64\n",
      " 6   BMXWT                     15881 non-null  float64\n",
      " 7   BMXHT                     15881 non-null  float64\n",
      " 8   BMXWAIST                  15881 non-null  float64\n",
      " 9   BMXARMC                   15881 non-null  float64\n",
      " 10  MCQ160B                   15881 non-null  object \n",
      " 11  MCQ160C                   15881 non-null  object \n",
      " 12  MCQ160D                   15881 non-null  object \n",
      " 13  MCQ160E                   15881 non-null  object \n",
      " 14  MCQ160F                   15881 non-null  object \n",
      " 15  SMQ040                    15881 non-null  object \n",
      " 16  DIQ010                    15881 non-null  object \n",
      " 17  ALQ120Q                   15881 non-null  float64\n",
      " 18  LBXSNASI                  15881 non-null  float64\n",
      " 19  LBXSCH                    15881 non-null  float64\n",
      " 20  avg_systolic_blood_pres   15881 non-null  float64\n",
      " 21  avg_diastolic_blood_pres  15881 non-null  float64\n",
      "dtypes: float64(12), object(10)\n",
      "memory usage: 2.8+ MB\n"
     ]
    }
   ],
   "source": [
    "df_merged.dropna().info()"
   ]
  },
  {
   "cell_type": "code",
   "execution_count": 49,
   "metadata": {},
   "outputs": [
    {
     "data": {
      "text/plain": [
       "{'RIDAGEYR': 'Age in years at screening ',\n",
       " 'RIDRETH1': 'Race/Hispanic origin',\n",
       " 'INDFMPIR': 'Ratio of family income to poverty',\n",
       " 'RIAGENDR': 'Gender',\n",
       " 'MCQ160B': 'Ever told had congestive heart failure',\n",
       " 'MCQ160C': 'Ever told you had coronary heart disease',\n",
       " 'MCQ160D': 'Ever told you had angina/angina pectoris',\n",
       " 'MCQ160E': 'Ever told you had heart attack',\n",
       " 'MCQ160F': 'Ever told you had a stroke',\n",
       " 'SMQ040': 'Do you now smoke cigarettes?',\n",
       " 'DIQ010': 'Doctor told you have diabetes',\n",
       " 'ALQ120Q': 'How often drink alcohol over past 12 mos',\n",
       " 'BPXPLS': '60 sec. pulse (30 sec. pulse * 2)',\n",
       " 'BMXWT': 'Weight (kg)',\n",
       " 'BMXHT': 'Standing Height (cm)',\n",
       " 'BMXWAIST': 'Waist Circumference (cm)',\n",
       " 'BMXARMC': 'Arm Circumference (cm)',\n",
       " 'LBXSNASI': 'Sodium (mmol/L)',\n",
       " 'LBXSCH': 'Cholesterol, refrigerated serum (mg/dL)'}"
      ]
     },
     "execution_count": 49,
     "metadata": {},
     "output_type": "execute_result"
    }
   ],
   "source": [
    "meta = {**meta_demo, **meta_ques, **meta_exam, **meta_labo}\n",
    "meta_del = {k: v for k, v in meta.items() if k in df_merged.columns}\n",
    "meta_del"
   ]
  },
  {
   "cell_type": "code",
   "execution_count": 50,
   "metadata": {},
   "outputs": [
    {
     "data": {
      "text/html": [
       "<div>\n",
       "<style scoped>\n",
       "    .dataframe tbody tr th:only-of-type {\n",
       "        vertical-align: middle;\n",
       "    }\n",
       "\n",
       "    .dataframe tbody tr th {\n",
       "        vertical-align: top;\n",
       "    }\n",
       "\n",
       "    .dataframe thead th {\n",
       "        text-align: right;\n",
       "    }\n",
       "</style>\n",
       "<table border=\"1\" class=\"dataframe\">\n",
       "  <thead>\n",
       "    <tr style=\"text-align: right;\">\n",
       "      <th></th>\n",
       "      <th>Age in years at screening</th>\n",
       "      <th>Race/Hispanic origin</th>\n",
       "      <th>Ratio of family income to poverty</th>\n",
       "      <th>Gender</th>\n",
       "      <th>year</th>\n",
       "      <th>60 sec. pulse (30 sec. pulse * 2)</th>\n",
       "      <th>Weight (kg)</th>\n",
       "      <th>Standing Height (cm)</th>\n",
       "      <th>Waist Circumference (cm)</th>\n",
       "      <th>Arm Circumference (cm)</th>\n",
       "      <th>Ever told had congestive heart failure</th>\n",
       "      <th>Ever told you had coronary heart disease</th>\n",
       "      <th>Ever told you had angina/angina pectoris</th>\n",
       "      <th>Ever told you had heart attack</th>\n",
       "      <th>Ever told you had a stroke</th>\n",
       "      <th>Do you now smoke cigarettes?</th>\n",
       "      <th>Doctor told you have diabetes</th>\n",
       "      <th>How often drink alcohol over past 12 mos</th>\n",
       "      <th>Sodium (mmol/L)</th>\n",
       "      <th>Cholesterol, refrigerated serum (mg/dL)</th>\n",
       "      <th>avg_systolic_blood_pres</th>\n",
       "      <th>avg_diastolic_blood_pres</th>\n",
       "    </tr>\n",
       "    <tr>\n",
       "      <th>SEQN</th>\n",
       "      <th></th>\n",
       "      <th></th>\n",
       "      <th></th>\n",
       "      <th></th>\n",
       "      <th></th>\n",
       "      <th></th>\n",
       "      <th></th>\n",
       "      <th></th>\n",
       "      <th></th>\n",
       "      <th></th>\n",
       "      <th></th>\n",
       "      <th></th>\n",
       "      <th></th>\n",
       "      <th></th>\n",
       "      <th></th>\n",
       "      <th></th>\n",
       "      <th></th>\n",
       "      <th></th>\n",
       "      <th></th>\n",
       "      <th></th>\n",
       "      <th></th>\n",
       "      <th></th>\n",
       "    </tr>\n",
       "  </thead>\n",
       "  <tbody>\n",
       "    <tr>\n",
       "      <th>1</th>\n",
       "      <td>2.0</td>\n",
       "      <td>Non-Hispanic Black</td>\n",
       "      <td>0.86</td>\n",
       "      <td>Female</td>\n",
       "      <td>1999-2000</td>\n",
       "      <td>NaN</td>\n",
       "      <td>12.5</td>\n",
       "      <td>91.6</td>\n",
       "      <td>45.7</td>\n",
       "      <td>15.2</td>\n",
       "      <td>NaN</td>\n",
       "      <td>NaN</td>\n",
       "      <td>NaN</td>\n",
       "      <td>NaN</td>\n",
       "      <td>NaN</td>\n",
       "      <td>NaN</td>\n",
       "      <td>No</td>\n",
       "      <td>NaN</td>\n",
       "      <td>NaN</td>\n",
       "      <td>NaN</td>\n",
       "      <td>NaN</td>\n",
       "      <td>NaN</td>\n",
       "    </tr>\n",
       "    <tr>\n",
       "      <th>2</th>\n",
       "      <td>77.0</td>\n",
       "      <td>Non-Hispanic White</td>\n",
       "      <td>5.00</td>\n",
       "      <td>Male</td>\n",
       "      <td>1999-2000</td>\n",
       "      <td>68.0</td>\n",
       "      <td>75.4</td>\n",
       "      <td>174.0</td>\n",
       "      <td>98.0</td>\n",
       "      <td>29.8</td>\n",
       "      <td>No</td>\n",
       "      <td>No</td>\n",
       "      <td>No</td>\n",
       "      <td>No</td>\n",
       "      <td>No</td>\n",
       "      <td>NaN</td>\n",
       "      <td>No</td>\n",
       "      <td>24.0</td>\n",
       "      <td>144.1</td>\n",
       "      <td>203.0</td>\n",
       "      <td>100.666667</td>\n",
       "      <td>56.666667</td>\n",
       "    </tr>\n",
       "    <tr>\n",
       "      <th>3</th>\n",
       "      <td>10.0</td>\n",
       "      <td>Non-Hispanic White</td>\n",
       "      <td>1.47</td>\n",
       "      <td>Female</td>\n",
       "      <td>1999-2000</td>\n",
       "      <td>104.0</td>\n",
       "      <td>32.9</td>\n",
       "      <td>136.6</td>\n",
       "      <td>64.7</td>\n",
       "      <td>19.7</td>\n",
       "      <td>NaN</td>\n",
       "      <td>NaN</td>\n",
       "      <td>NaN</td>\n",
       "      <td>NaN</td>\n",
       "      <td>NaN</td>\n",
       "      <td>NaN</td>\n",
       "      <td>No</td>\n",
       "      <td>NaN</td>\n",
       "      <td>NaN</td>\n",
       "      <td>NaN</td>\n",
       "      <td>108.666667</td>\n",
       "      <td>62.000000</td>\n",
       "    </tr>\n",
       "    <tr>\n",
       "      <th>4</th>\n",
       "      <td>1.0</td>\n",
       "      <td>Non-Hispanic Black</td>\n",
       "      <td>0.57</td>\n",
       "      <td>Male</td>\n",
       "      <td>1999-2000</td>\n",
       "      <td>NaN</td>\n",
       "      <td>13.3</td>\n",
       "      <td>NaN</td>\n",
       "      <td>NaN</td>\n",
       "      <td>16.4</td>\n",
       "      <td>NaN</td>\n",
       "      <td>NaN</td>\n",
       "      <td>NaN</td>\n",
       "      <td>NaN</td>\n",
       "      <td>NaN</td>\n",
       "      <td>NaN</td>\n",
       "      <td>No</td>\n",
       "      <td>NaN</td>\n",
       "      <td>NaN</td>\n",
       "      <td>NaN</td>\n",
       "      <td>NaN</td>\n",
       "      <td>NaN</td>\n",
       "    </tr>\n",
       "    <tr>\n",
       "      <th>5</th>\n",
       "      <td>49.0</td>\n",
       "      <td>Non-Hispanic White</td>\n",
       "      <td>5.00</td>\n",
       "      <td>Male</td>\n",
       "      <td>1999-2000</td>\n",
       "      <td>66.0</td>\n",
       "      <td>92.5</td>\n",
       "      <td>178.3</td>\n",
       "      <td>99.9</td>\n",
       "      <td>35.8</td>\n",
       "      <td>No</td>\n",
       "      <td>No</td>\n",
       "      <td>No</td>\n",
       "      <td>No</td>\n",
       "      <td>No</td>\n",
       "      <td>Not at all</td>\n",
       "      <td>No</td>\n",
       "      <td>4.0</td>\n",
       "      <td>137.5</td>\n",
       "      <td>277.0</td>\n",
       "      <td>122.000000</td>\n",
       "      <td>82.666667</td>\n",
       "    </tr>\n",
       "  </tbody>\n",
       "</table>\n",
       "</div>"
      ],
      "text/plain": [
       "      Age in years at screening  Race/Hispanic origin  \\\n",
       "SEQN                                                    \n",
       "1                            2.0   Non-Hispanic Black   \n",
       "2                           77.0   Non-Hispanic White   \n",
       "3                           10.0   Non-Hispanic White   \n",
       "4                            1.0   Non-Hispanic Black   \n",
       "5                           49.0   Non-Hispanic White   \n",
       "\n",
       "      Ratio of family income to poverty  Gender       year  \\\n",
       "SEQN                                                         \n",
       "1                                  0.86  Female  1999-2000   \n",
       "2                                  5.00    Male  1999-2000   \n",
       "3                                  1.47  Female  1999-2000   \n",
       "4                                  0.57    Male  1999-2000   \n",
       "5                                  5.00    Male  1999-2000   \n",
       "\n",
       "      60 sec. pulse (30 sec. pulse * 2)  Weight (kg)  Standing Height (cm)  \\\n",
       "SEQN                                                                         \n",
       "1                                   NaN         12.5                  91.6   \n",
       "2                                  68.0         75.4                 174.0   \n",
       "3                                 104.0         32.9                 136.6   \n",
       "4                                   NaN         13.3                   NaN   \n",
       "5                                  66.0         92.5                 178.3   \n",
       "\n",
       "      Waist Circumference (cm)  Arm Circumference (cm)  \\\n",
       "SEQN                                                     \n",
       "1                         45.7                    15.2   \n",
       "2                         98.0                    29.8   \n",
       "3                         64.7                    19.7   \n",
       "4                          NaN                    16.4   \n",
       "5                         99.9                    35.8   \n",
       "\n",
       "     Ever told had congestive heart failure  \\\n",
       "SEQN                                          \n",
       "1                                       NaN   \n",
       "2                                        No   \n",
       "3                                       NaN   \n",
       "4                                       NaN   \n",
       "5                                        No   \n",
       "\n",
       "     Ever told you had coronary heart disease  \\\n",
       "SEQN                                            \n",
       "1                                         NaN   \n",
       "2                                          No   \n",
       "3                                         NaN   \n",
       "4                                         NaN   \n",
       "5                                          No   \n",
       "\n",
       "     Ever told you had angina/angina pectoris Ever told you had heart attack  \\\n",
       "SEQN                                                                           \n",
       "1                                         NaN                            NaN   \n",
       "2                                          No                             No   \n",
       "3                                         NaN                            NaN   \n",
       "4                                         NaN                            NaN   \n",
       "5                                          No                             No   \n",
       "\n",
       "     Ever told you had a stroke Do you now smoke cigarettes?  \\\n",
       "SEQN                                                           \n",
       "1                           NaN                          NaN   \n",
       "2                            No                          NaN   \n",
       "3                           NaN                          NaN   \n",
       "4                           NaN                          NaN   \n",
       "5                            No                   Not at all   \n",
       "\n",
       "     Doctor told you have diabetes  How often drink alcohol over past 12 mos  \\\n",
       "SEQN                                                                           \n",
       "1                               No                                       NaN   \n",
       "2                               No                                      24.0   \n",
       "3                               No                                       NaN   \n",
       "4                               No                                       NaN   \n",
       "5                               No                                       4.0   \n",
       "\n",
       "      Sodium (mmol/L)  Cholesterol, refrigerated serum (mg/dL)  \\\n",
       "SEQN                                                             \n",
       "1                 NaN                                      NaN   \n",
       "2               144.1                                    203.0   \n",
       "3                 NaN                                      NaN   \n",
       "4                 NaN                                      NaN   \n",
       "5               137.5                                    277.0   \n",
       "\n",
       "      avg_systolic_blood_pres  avg_diastolic_blood_pres  \n",
       "SEQN                                                     \n",
       "1                         NaN                       NaN  \n",
       "2                  100.666667                 56.666667  \n",
       "3                  108.666667                 62.000000  \n",
       "4                         NaN                       NaN  \n",
       "5                  122.000000                 82.666667  "
      ]
     },
     "execution_count": 50,
     "metadata": {},
     "output_type": "execute_result"
    }
   ],
   "source": [
    "df_merged.rename(columns=meta_del, inplace=True)\n",
    "#df_merged.head().T\n",
    "df_merged.head()"
   ]
  },
  {
   "cell_type": "code",
   "execution_count": 51,
   "metadata": {},
   "outputs": [
    {
     "data": {
      "text/plain": [
       "Race/Hispanic origin\n",
       "Mexican American                       22535\n",
       "Non-Hispanic Black                     23791\n",
       "Non-Hispanic White                     37695\n",
       "Other Hispanic                          8319\n",
       "Other Race - Including Multi-Racial     9522\n",
       "dtype: int64"
      ]
     },
     "execution_count": 51,
     "metadata": {},
     "output_type": "execute_result"
    }
   ],
   "source": [
    "df_merged.groupby('Race/Hispanic origin').size()"
   ]
  },
  {
   "cell_type": "code",
   "execution_count": 52,
   "metadata": {},
   "outputs": [
    {
     "data": {
      "text/plain": [
       "Ratio of family income to poverty\n",
       "5.397605e-79     1049\n",
       "1.000000e-02       78\n",
       "2.000000e-02      138\n",
       "3.000000e-02      108\n",
       "4.000000e-02      131\n",
       "                ...  \n",
       "4.960000e+00       59\n",
       "4.970000e+00      104\n",
       "4.980000e+00       37\n",
       "4.990000e+00      103\n",
       "5.000000e+00    12875\n",
       "Length: 501, dtype: int64"
      ]
     },
     "execution_count": 52,
     "metadata": {},
     "output_type": "execute_result"
    }
   ],
   "source": [
    "df_merged.groupby('Ratio of family income to poverty').size()"
   ]
  },
  {
   "cell_type": "code",
   "execution_count": 53,
   "metadata": {},
   "outputs": [
    {
     "data": {
      "text/plain": [
       "590903"
      ]
     },
     "execution_count": 53,
     "metadata": {},
     "output_type": "execute_result"
    }
   ],
   "source": [
    "df_merged.isnull().sum().sum()"
   ]
  },
  {
   "cell_type": "code",
   "execution_count": 54,
   "metadata": {},
   "outputs": [
    {
     "data": {
      "text/plain": [
       "9226"
      ]
     },
     "execution_count": 54,
     "metadata": {},
     "output_type": "execute_result"
    }
   ],
   "source": [
    "df_merged['Ratio of family income to poverty'].isnull().sum()#use pipeline"
   ]
  },
  {
   "cell_type": "code",
   "execution_count": 55,
   "metadata": {},
   "outputs": [
    {
     "data": {
      "text/plain": [
       "Gender\n",
       "Female    51695\n",
       "Male      50167\n",
       "dtype: int64"
      ]
     },
     "execution_count": 55,
     "metadata": {},
     "output_type": "execute_result"
    }
   ],
   "source": [
    "df_merged.groupby('Gender').size()"
   ]
  },
  {
   "cell_type": "code",
   "execution_count": 56,
   "metadata": {},
   "outputs": [
    {
     "data": {
      "text/plain": [
       "27444"
      ]
     },
     "execution_count": 56,
     "metadata": {},
     "output_type": "execute_result"
    }
   ],
   "source": [
    "df_merged['60 sec. pulse (30 sec. pulse * 2)'].isnull().sum()#use pipeline"
   ]
  },
  {
   "cell_type": "code",
   "execution_count": 57,
   "metadata": {},
   "outputs": [
    {
     "data": {
      "text/plain": [
       "Do you now smoke cigarettes?\n",
       "Don't know        1\n",
       "Every day      9449\n",
       "Not at all    13735\n",
       "Refused           3\n",
       "Some days      2168\n",
       "dtype: int64"
      ]
     },
     "execution_count": 57,
     "metadata": {},
     "output_type": "execute_result"
    }
   ],
   "source": [
    "df_merged.groupby('Do you now smoke cigarettes?').size()#manually replace nan values"
   ]
  },
  {
   "cell_type": "code",
   "execution_count": 58,
   "metadata": {},
   "outputs": [
    {
     "data": {
      "text/plain": [
       "76506"
      ]
     },
     "execution_count": 58,
     "metadata": {},
     "output_type": "execute_result"
    }
   ],
   "source": [
    "df_merged['Do you now smoke cigarettes?'].isnull().sum()"
   ]
  },
  {
   "cell_type": "code",
   "execution_count": 59,
   "metadata": {},
   "outputs": [
    {
     "data": {
      "text/plain": [
       "101862"
      ]
     },
     "execution_count": 59,
     "metadata": {},
     "output_type": "execute_result"
    }
   ],
   "source": [
    "len(df_merged)"
   ]
  },
  {
   "cell_type": "code",
   "execution_count": 60,
   "metadata": {},
   "outputs": [],
   "source": [
    "df_merged['Do you now smoke cigarettes?'].fillna('not given',inplace=True)"
   ]
  },
  {
   "cell_type": "code",
   "execution_count": 61,
   "metadata": {},
   "outputs": [
    {
     "data": {
      "text/plain": [
       "0"
      ]
     },
     "execution_count": 61,
     "metadata": {},
     "output_type": "execute_result"
    }
   ],
   "source": [
    "df_merged['Do you now smoke cigarettes?'].isnull().sum()"
   ]
  },
  {
   "cell_type": "code",
   "execution_count": 62,
   "metadata": {},
   "outputs": [
    {
     "data": {
      "text/plain": [
       "Do you now smoke cigarettes?\n",
       "Don't know        1\n",
       "Every day      9449\n",
       "Not at all    13735\n",
       "Refused           3\n",
       "Some days      2168\n",
       "not given     76506\n",
       "dtype: int64"
      ]
     },
     "execution_count": 62,
     "metadata": {},
     "output_type": "execute_result"
    }
   ],
   "source": [
    "df_merged.groupby('Do you now smoke cigarettes?').size()#manually replaced nan values with \"not given\" to reduce data loss."
   ]
  },
  {
   "cell_type": "code",
   "execution_count": 63,
   "metadata": {},
   "outputs": [
    {
     "data": {
      "text/plain": [
       "4514"
      ]
     },
     "execution_count": 63,
     "metadata": {},
     "output_type": "execute_result"
    }
   ],
   "source": [
    "df_merged['Doctor told you have diabetes'].isnull().sum()"
   ]
  },
  {
   "cell_type": "code",
   "execution_count": 64,
   "metadata": {},
   "outputs": [],
   "source": [
    "df_merged['Doctor told you have diabetes'].fillna('not given',inplace=True)"
   ]
  },
  {
   "cell_type": "code",
   "execution_count": 65,
   "metadata": {},
   "outputs": [
    {
     "data": {
      "text/plain": [
       "0"
      ]
     },
     "execution_count": 65,
     "metadata": {},
     "output_type": "execute_result"
    }
   ],
   "source": [
    "df_merged['Doctor told you have diabetes'].isnull().sum()"
   ]
  },
  {
   "cell_type": "code",
   "execution_count": 66,
   "metadata": {},
   "outputs": [
    {
     "data": {
      "text/plain": [
       "Doctor told you have diabetes\n",
       "Borderline     1204\n",
       "Don't know       53\n",
       "No            89244\n",
       "Refused           4\n",
       "Yes            6843\n",
       "not given      4514\n",
       "dtype: int64"
      ]
     },
     "execution_count": 66,
     "metadata": {},
     "output_type": "execute_result"
    }
   ],
   "source": [
    "df_merged.groupby('Doctor told you have diabetes').size()#manually replaced nan values with \"not given\" to reduce data loss."
   ]
  },
  {
   "cell_type": "code",
   "execution_count": 67,
   "metadata": {},
   "outputs": [],
   "source": [
    "#df_merged.dropna(subset=['Ever told had congestive heart failure','Ever told you had coronary heart disease','Ever told you had heart attack','Ever told you had a stroke'])"
   ]
  },
  {
   "cell_type": "code",
   "execution_count": 68,
   "metadata": {},
   "outputs": [],
   "source": [
    "#df_merged.dropna()"
   ]
  },
  {
   "cell_type": "code",
   "execution_count": 69,
   "metadata": {},
   "outputs": [],
   "source": [
    "#json_file = 'data/merged.JSON'\n",
    "#pkl_file = 'data/merged.pkl'\n",
    "\n",
    "#nhanes.export_json(meta_del, json_file)\n",
    "#nhanes.export_pkl(df_merged.dropna(), pkl_file)"
   ]
  },
  {
   "cell_type": "code",
   "execution_count": 70,
   "metadata": {},
   "outputs": [
    {
     "data": {
      "text/plain": [
       "Age in years at screening                   float64\n",
       "Race/Hispanic origin                         object\n",
       "Ratio of family income to poverty           float64\n",
       "Gender                                       object\n",
       "year                                         object\n",
       "60 sec. pulse (30 sec. pulse * 2)           float64\n",
       "Weight (kg)                                 float64\n",
       "Standing Height (cm)                        float64\n",
       "Waist Circumference (cm)                    float64\n",
       "Arm Circumference (cm)                      float64\n",
       "Ever told had congestive heart failure       object\n",
       "Ever told you had coronary heart disease     object\n",
       "Ever told you had angina/angina pectoris     object\n",
       "Ever told you had heart attack               object\n",
       "Ever told you had a stroke                   object\n",
       "Do you now smoke cigarettes?                 object\n",
       "Doctor told you have diabetes                object\n",
       "How often drink alcohol over past 12 mos    float64\n",
       "Sodium (mmol/L)                             float64\n",
       "Cholesterol, refrigerated serum (mg/dL)     float64\n",
       "avg_systolic_blood_pres                     float64\n",
       "avg_diastolic_blood_pres                    float64\n",
       "dtype: object"
      ]
     },
     "execution_count": 70,
     "metadata": {},
     "output_type": "execute_result"
    }
   ],
   "source": [
    "df_merged.dtypes\n"
   ]
  },
  {
   "cell_type": "code",
   "execution_count": 71,
   "metadata": {},
   "outputs": [
    {
     "data": {
      "text/plain": [
       "Age in years at screening                       0\n",
       "Race/Hispanic origin                            0\n",
       "Ratio of family income to poverty            9226\n",
       "Gender                                          0\n",
       "year                                            0\n",
       "60 sec. pulse (30 sec. pulse * 2)           27444\n",
       "Weight (kg)                                  6144\n",
       "Standing Height (cm)                        13079\n",
       "Waist Circumference (cm)                    16625\n",
       "Arm Circumference (cm)                       9530\n",
       "Ever told had congestive heart failure      46333\n",
       "Ever told you had coronary heart disease    46333\n",
       "Ever told you had angina/angina pectoris    46333\n",
       "Ever told you had heart attack              46333\n",
       "Ever told you had a stroke                  46333\n",
       "Do you now smoke cigarettes?                    0\n",
       "Doctor told you have diabetes                   0\n",
       "How often drink alcohol over past 12 mos    64656\n",
       "Sodium (mmol/L)                             37893\n",
       "Cholesterol, refrigerated serum (mg/dL)     37897\n",
       "avg_systolic_blood_pres                     27862\n",
       "avg_diastolic_blood_pres                    27862\n",
       "dtype: int64"
      ]
     },
     "execution_count": 71,
     "metadata": {},
     "output_type": "execute_result"
    }
   ],
   "source": [
    "df_merged.isnull().sum(axis = 0)"
   ]
  },
  {
   "cell_type": "code",
   "execution_count": 72,
   "metadata": {},
   "outputs": [
    {
     "name": "stdout",
     "output_type": "stream",
     "text": [
      "Race/Hispanic origin : ['Non-Hispanic Black' 'Non-Hispanic White'\n",
      " 'Other Race - Including Multi-Racial' 'Mexican American' 'Other Hispanic']\n",
      "\n",
      "Gender : ['Female' 'Male']\n",
      "\n",
      "year : ['1999-2000' '2001-2002' '2003-2004' '2005-2006' '2007-2008' '2009-2010'\n",
      " '2011-2012' '2013-2014' '2015-2016' '2017-2018']\n",
      "\n",
      "Ever told had congestive heart failure : [nan 'No' 'Yes' \"Don't know\" 'Refused']\n",
      "\n",
      "Ever told you had coronary heart disease : [nan 'No' 'Yes' \"Don't know\" 'Refused']\n",
      "\n",
      "Ever told you had angina/angina pectoris : [nan 'No' 'Yes' \"Don't know\" 'Refused']\n",
      "\n",
      "Ever told you had heart attack : [nan 'No' 'Yes' \"Don't know\" 'Refused']\n",
      "\n",
      "Ever told you had a stroke : [nan 'No' 'Yes' \"Don't know\" 'Refused']\n",
      "\n",
      "Do you now smoke cigarettes? : ['not given' 'Not at all' 'Every day' 'Some days' \"Don't know\" 'Refused']\n",
      "\n",
      "Doctor told you have diabetes : ['No' 'Yes' 'not given' \"Don't know\" 'Borderline' 'Refused']\n",
      "\n"
     ]
    }
   ],
   "source": [
    "for cols in df_merged.select_dtypes(exclude=np.number).columns:\n",
    "    print(cols, ':', df_merged[cols].unique(), end='\\n\\n')"
   ]
  },
  {
   "cell_type": "code",
   "execution_count": 75,
   "metadata": {},
   "outputs": [],
   "source": [
    "conditions = [\n",
    "    (df_merged['Ever told had congestive heart failure'] == 'Yes') | (df_merged['Ever told you had coronary heart disease'] == 'Yes') | (df_merged['Ever told you had heart attack']=='Yes') | (df_merged['Ever told you had a stroke'] == 'Yes'),\n",
    "    (df_merged['Ever told had congestive heart failure'] == 'No') & (df_merged['Ever told you had coronary heart disease'] == 'No') & (df_merged['Ever told you had heart attack']=='No') & (df_merged['Ever told you had a stroke'] == 'No')\n",
    "    ]\n",
    "\n",
    "choices = ['Yes','No']\n",
    "#df_merged['having_disease'] = np.select(conditions, choices)\n",
    "\n",
    "df_merged['having_disease'] = np.select(conditions, choices, default=np.NaN)"
   ]
  },
  {
   "cell_type": "code",
   "execution_count": 76,
   "metadata": {},
   "outputs": [
    {
     "name": "stdout",
     "output_type": "stream",
     "text": [
      "<class 'pandas.core.frame.DataFrame'>\n",
      "Int64Index: 101862 entries, 1 to 102956\n",
      "Data columns (total 23 columns):\n",
      " #   Column                                    Non-Null Count   Dtype  \n",
      "---  ------                                    --------------   -----  \n",
      " 0   Age in years at screening                 101862 non-null  float64\n",
      " 1   Race/Hispanic origin                      101862 non-null  object \n",
      " 2   Ratio of family income to poverty         92636 non-null   float64\n",
      " 3   Gender                                    101862 non-null  object \n",
      " 4   year                                      101862 non-null  object \n",
      " 5   60 sec. pulse (30 sec. pulse * 2)         74418 non-null   float64\n",
      " 6   Weight (kg)                               95718 non-null   float64\n",
      " 7   Standing Height (cm)                      88783 non-null   float64\n",
      " 8   Waist Circumference (cm)                  85237 non-null   float64\n",
      " 9   Arm Circumference (cm)                    92332 non-null   float64\n",
      " 10  Ever told had congestive heart failure    55529 non-null   object \n",
      " 11  Ever told you had coronary heart disease  55529 non-null   object \n",
      " 12  Ever told you had angina/angina pectoris  55529 non-null   object \n",
      " 13  Ever told you had heart attack            55529 non-null   object \n",
      " 14  Ever told you had a stroke                55529 non-null   object \n",
      " 15  Do you now smoke cigarettes?              101862 non-null  object \n",
      " 16  Doctor told you have diabetes             101862 non-null  object \n",
      " 17  How often drink alcohol over past 12 mos  37206 non-null   float64\n",
      " 18  Sodium (mmol/L)                           63969 non-null   float64\n",
      " 19  Cholesterol, refrigerated serum (mg/dL)   63965 non-null   float64\n",
      " 20  avg_systolic_blood_pres                   74000 non-null   float64\n",
      " 21  avg_diastolic_blood_pres                  74000 non-null   float64\n",
      " 22  having_disease                            101862 non-null  object \n",
      "dtypes: float64(12), object(11)\n",
      "memory usage: 18.7+ MB\n"
     ]
    }
   ],
   "source": [
    "df_merged.info()"
   ]
  },
  {
   "cell_type": "code",
   "execution_count": 77,
   "metadata": {},
   "outputs": [
    {
     "data": {
      "text/html": [
       "<div>\n",
       "<style scoped>\n",
       "    .dataframe tbody tr th:only-of-type {\n",
       "        vertical-align: middle;\n",
       "    }\n",
       "\n",
       "    .dataframe tbody tr th {\n",
       "        vertical-align: top;\n",
       "    }\n",
       "\n",
       "    .dataframe thead th {\n",
       "        text-align: right;\n",
       "    }\n",
       "</style>\n",
       "<table border=\"1\" class=\"dataframe\">\n",
       "  <thead>\n",
       "    <tr style=\"text-align: right;\">\n",
       "      <th></th>\n",
       "      <th>Age in years at screening</th>\n",
       "      <th>Race/Hispanic origin</th>\n",
       "      <th>Ratio of family income to poverty</th>\n",
       "      <th>Gender</th>\n",
       "      <th>year</th>\n",
       "      <th>60 sec. pulse (30 sec. pulse * 2)</th>\n",
       "      <th>Weight (kg)</th>\n",
       "      <th>Standing Height (cm)</th>\n",
       "      <th>Waist Circumference (cm)</th>\n",
       "      <th>Arm Circumference (cm)</th>\n",
       "      <th>Ever told had congestive heart failure</th>\n",
       "      <th>Ever told you had coronary heart disease</th>\n",
       "      <th>Ever told you had angina/angina pectoris</th>\n",
       "      <th>Ever told you had heart attack</th>\n",
       "      <th>Ever told you had a stroke</th>\n",
       "      <th>Do you now smoke cigarettes?</th>\n",
       "      <th>Doctor told you have diabetes</th>\n",
       "      <th>How often drink alcohol over past 12 mos</th>\n",
       "      <th>Sodium (mmol/L)</th>\n",
       "      <th>Cholesterol, refrigerated serum (mg/dL)</th>\n",
       "      <th>avg_systolic_blood_pres</th>\n",
       "      <th>avg_diastolic_blood_pres</th>\n",
       "      <th>having_disease</th>\n",
       "    </tr>\n",
       "    <tr>\n",
       "      <th>SEQN</th>\n",
       "      <th></th>\n",
       "      <th></th>\n",
       "      <th></th>\n",
       "      <th></th>\n",
       "      <th></th>\n",
       "      <th></th>\n",
       "      <th></th>\n",
       "      <th></th>\n",
       "      <th></th>\n",
       "      <th></th>\n",
       "      <th></th>\n",
       "      <th></th>\n",
       "      <th></th>\n",
       "      <th></th>\n",
       "      <th></th>\n",
       "      <th></th>\n",
       "      <th></th>\n",
       "      <th></th>\n",
       "      <th></th>\n",
       "      <th></th>\n",
       "      <th></th>\n",
       "      <th></th>\n",
       "      <th></th>\n",
       "    </tr>\n",
       "  </thead>\n",
       "  <tbody>\n",
       "    <tr>\n",
       "      <th>1</th>\n",
       "      <td>2.0</td>\n",
       "      <td>Non-Hispanic Black</td>\n",
       "      <td>0.86</td>\n",
       "      <td>Female</td>\n",
       "      <td>1999-2000</td>\n",
       "      <td>NaN</td>\n",
       "      <td>12.5</td>\n",
       "      <td>91.6</td>\n",
       "      <td>45.7</td>\n",
       "      <td>15.2</td>\n",
       "      <td>NaN</td>\n",
       "      <td>NaN</td>\n",
       "      <td>NaN</td>\n",
       "      <td>NaN</td>\n",
       "      <td>NaN</td>\n",
       "      <td>not given</td>\n",
       "      <td>No</td>\n",
       "      <td>NaN</td>\n",
       "      <td>NaN</td>\n",
       "      <td>NaN</td>\n",
       "      <td>NaN</td>\n",
       "      <td>NaN</td>\n",
       "      <td>nan</td>\n",
       "    </tr>\n",
       "    <tr>\n",
       "      <th>2</th>\n",
       "      <td>77.0</td>\n",
       "      <td>Non-Hispanic White</td>\n",
       "      <td>5.00</td>\n",
       "      <td>Male</td>\n",
       "      <td>1999-2000</td>\n",
       "      <td>68.0</td>\n",
       "      <td>75.4</td>\n",
       "      <td>174.0</td>\n",
       "      <td>98.0</td>\n",
       "      <td>29.8</td>\n",
       "      <td>No</td>\n",
       "      <td>No</td>\n",
       "      <td>No</td>\n",
       "      <td>No</td>\n",
       "      <td>No</td>\n",
       "      <td>not given</td>\n",
       "      <td>No</td>\n",
       "      <td>24.0</td>\n",
       "      <td>144.1</td>\n",
       "      <td>203.0</td>\n",
       "      <td>100.666667</td>\n",
       "      <td>56.666667</td>\n",
       "      <td>No</td>\n",
       "    </tr>\n",
       "    <tr>\n",
       "      <th>3</th>\n",
       "      <td>10.0</td>\n",
       "      <td>Non-Hispanic White</td>\n",
       "      <td>1.47</td>\n",
       "      <td>Female</td>\n",
       "      <td>1999-2000</td>\n",
       "      <td>104.0</td>\n",
       "      <td>32.9</td>\n",
       "      <td>136.6</td>\n",
       "      <td>64.7</td>\n",
       "      <td>19.7</td>\n",
       "      <td>NaN</td>\n",
       "      <td>NaN</td>\n",
       "      <td>NaN</td>\n",
       "      <td>NaN</td>\n",
       "      <td>NaN</td>\n",
       "      <td>not given</td>\n",
       "      <td>No</td>\n",
       "      <td>NaN</td>\n",
       "      <td>NaN</td>\n",
       "      <td>NaN</td>\n",
       "      <td>108.666667</td>\n",
       "      <td>62.000000</td>\n",
       "      <td>nan</td>\n",
       "    </tr>\n",
       "    <tr>\n",
       "      <th>4</th>\n",
       "      <td>1.0</td>\n",
       "      <td>Non-Hispanic Black</td>\n",
       "      <td>0.57</td>\n",
       "      <td>Male</td>\n",
       "      <td>1999-2000</td>\n",
       "      <td>NaN</td>\n",
       "      <td>13.3</td>\n",
       "      <td>NaN</td>\n",
       "      <td>NaN</td>\n",
       "      <td>16.4</td>\n",
       "      <td>NaN</td>\n",
       "      <td>NaN</td>\n",
       "      <td>NaN</td>\n",
       "      <td>NaN</td>\n",
       "      <td>NaN</td>\n",
       "      <td>not given</td>\n",
       "      <td>No</td>\n",
       "      <td>NaN</td>\n",
       "      <td>NaN</td>\n",
       "      <td>NaN</td>\n",
       "      <td>NaN</td>\n",
       "      <td>NaN</td>\n",
       "      <td>nan</td>\n",
       "    </tr>\n",
       "    <tr>\n",
       "      <th>5</th>\n",
       "      <td>49.0</td>\n",
       "      <td>Non-Hispanic White</td>\n",
       "      <td>5.00</td>\n",
       "      <td>Male</td>\n",
       "      <td>1999-2000</td>\n",
       "      <td>66.0</td>\n",
       "      <td>92.5</td>\n",
       "      <td>178.3</td>\n",
       "      <td>99.9</td>\n",
       "      <td>35.8</td>\n",
       "      <td>No</td>\n",
       "      <td>No</td>\n",
       "      <td>No</td>\n",
       "      <td>No</td>\n",
       "      <td>No</td>\n",
       "      <td>Not at all</td>\n",
       "      <td>No</td>\n",
       "      <td>4.0</td>\n",
       "      <td>137.5</td>\n",
       "      <td>277.0</td>\n",
       "      <td>122.000000</td>\n",
       "      <td>82.666667</td>\n",
       "      <td>No</td>\n",
       "    </tr>\n",
       "  </tbody>\n",
       "</table>\n",
       "</div>"
      ],
      "text/plain": [
       "      Age in years at screening  Race/Hispanic origin  \\\n",
       "SEQN                                                    \n",
       "1                            2.0   Non-Hispanic Black   \n",
       "2                           77.0   Non-Hispanic White   \n",
       "3                           10.0   Non-Hispanic White   \n",
       "4                            1.0   Non-Hispanic Black   \n",
       "5                           49.0   Non-Hispanic White   \n",
       "\n",
       "      Ratio of family income to poverty  Gender       year  \\\n",
       "SEQN                                                         \n",
       "1                                  0.86  Female  1999-2000   \n",
       "2                                  5.00    Male  1999-2000   \n",
       "3                                  1.47  Female  1999-2000   \n",
       "4                                  0.57    Male  1999-2000   \n",
       "5                                  5.00    Male  1999-2000   \n",
       "\n",
       "      60 sec. pulse (30 sec. pulse * 2)  Weight (kg)  Standing Height (cm)  \\\n",
       "SEQN                                                                         \n",
       "1                                   NaN         12.5                  91.6   \n",
       "2                                  68.0         75.4                 174.0   \n",
       "3                                 104.0         32.9                 136.6   \n",
       "4                                   NaN         13.3                   NaN   \n",
       "5                                  66.0         92.5                 178.3   \n",
       "\n",
       "      Waist Circumference (cm)  Arm Circumference (cm)  \\\n",
       "SEQN                                                     \n",
       "1                         45.7                    15.2   \n",
       "2                         98.0                    29.8   \n",
       "3                         64.7                    19.7   \n",
       "4                          NaN                    16.4   \n",
       "5                         99.9                    35.8   \n",
       "\n",
       "     Ever told had congestive heart failure  \\\n",
       "SEQN                                          \n",
       "1                                       NaN   \n",
       "2                                        No   \n",
       "3                                       NaN   \n",
       "4                                       NaN   \n",
       "5                                        No   \n",
       "\n",
       "     Ever told you had coronary heart disease  \\\n",
       "SEQN                                            \n",
       "1                                         NaN   \n",
       "2                                          No   \n",
       "3                                         NaN   \n",
       "4                                         NaN   \n",
       "5                                          No   \n",
       "\n",
       "     Ever told you had angina/angina pectoris Ever told you had heart attack  \\\n",
       "SEQN                                                                           \n",
       "1                                         NaN                            NaN   \n",
       "2                                          No                             No   \n",
       "3                                         NaN                            NaN   \n",
       "4                                         NaN                            NaN   \n",
       "5                                          No                             No   \n",
       "\n",
       "     Ever told you had a stroke Do you now smoke cigarettes?  \\\n",
       "SEQN                                                           \n",
       "1                           NaN                    not given   \n",
       "2                            No                    not given   \n",
       "3                           NaN                    not given   \n",
       "4                           NaN                    not given   \n",
       "5                            No                   Not at all   \n",
       "\n",
       "     Doctor told you have diabetes  How often drink alcohol over past 12 mos  \\\n",
       "SEQN                                                                           \n",
       "1                               No                                       NaN   \n",
       "2                               No                                      24.0   \n",
       "3                               No                                       NaN   \n",
       "4                               No                                       NaN   \n",
       "5                               No                                       4.0   \n",
       "\n",
       "      Sodium (mmol/L)  Cholesterol, refrigerated serum (mg/dL)  \\\n",
       "SEQN                                                             \n",
       "1                 NaN                                      NaN   \n",
       "2               144.1                                    203.0   \n",
       "3                 NaN                                      NaN   \n",
       "4                 NaN                                      NaN   \n",
       "5               137.5                                    277.0   \n",
       "\n",
       "      avg_systolic_blood_pres  avg_diastolic_blood_pres having_disease  \n",
       "SEQN                                                                    \n",
       "1                         NaN                       NaN            nan  \n",
       "2                  100.666667                 56.666667             No  \n",
       "3                  108.666667                 62.000000            nan  \n",
       "4                         NaN                       NaN            nan  \n",
       "5                  122.000000                 82.666667             No  "
      ]
     },
     "execution_count": 77,
     "metadata": {},
     "output_type": "execute_result"
    }
   ],
   "source": [
    "df_merged.head()"
   ]
  },
  {
   "cell_type": "code",
   "execution_count": 78,
   "metadata": {},
   "outputs": [
    {
     "data": {
      "text/plain": [
       "Age in years at screening                       0\n",
       "Race/Hispanic origin                            0\n",
       "Ratio of family income to poverty            9226\n",
       "Gender                                          0\n",
       "year                                            0\n",
       "60 sec. pulse (30 sec. pulse * 2)           27444\n",
       "Weight (kg)                                  6144\n",
       "Standing Height (cm)                        13079\n",
       "Waist Circumference (cm)                    16625\n",
       "Arm Circumference (cm)                       9530\n",
       "Ever told had congestive heart failure      46333\n",
       "Ever told you had coronary heart disease    46333\n",
       "Ever told you had angina/angina pectoris    46333\n",
       "Ever told you had heart attack              46333\n",
       "Ever told you had a stroke                  46333\n",
       "Do you now smoke cigarettes?                    0\n",
       "Doctor told you have diabetes                   0\n",
       "How often drink alcohol over past 12 mos    64656\n",
       "Sodium (mmol/L)                             37893\n",
       "Cholesterol, refrigerated serum (mg/dL)     37897\n",
       "avg_systolic_blood_pres                     27862\n",
       "avg_diastolic_blood_pres                    27862\n",
       "having_disease                                  0\n",
       "dtype: int64"
      ]
     },
     "execution_count": 78,
     "metadata": {},
     "output_type": "execute_result"
    }
   ],
   "source": [
    "df_merged.isnull().sum(axis = 0)"
   ]
  },
  {
   "cell_type": "code",
   "execution_count": 79,
   "metadata": {},
   "outputs": [
    {
     "data": {
      "text/plain": [
       "having_disease\n",
       "No     49388\n",
       "Yes     5889\n",
       "nan    46585\n",
       "dtype: int64"
      ]
     },
     "execution_count": 79,
     "metadata": {},
     "output_type": "execute_result"
    }
   ],
   "source": [
    "df_merged.groupby('having_disease').size()"
   ]
  },
  {
   "cell_type": "code",
   "execution_count": 84,
   "metadata": {},
   "outputs": [],
   "source": [
    "df_merged = df_merged[df_merged.having_disease != 'nan'] "
   ]
  },
  {
   "cell_type": "code",
   "execution_count": 85,
   "metadata": {},
   "outputs": [
    {
     "data": {
      "text/plain": [
       "having_disease\n",
       "No     49388\n",
       "Yes     5889\n",
       "dtype: int64"
      ]
     },
     "execution_count": 85,
     "metadata": {},
     "output_type": "execute_result"
    }
   ],
   "source": [
    "df_merged.groupby('having_disease').size()"
   ]
  },
  {
   "cell_type": "code",
   "execution_count": 86,
   "metadata": {},
   "outputs": [],
   "source": [
    "df_merged['having_disease'] = df_merged['having_disease'].replace(['Yes'], 1)\n",
    "df_merged['having_disease'] = df_merged['having_disease'].replace(['No'], 0)\n"
   ]
  },
  {
   "cell_type": "code",
   "execution_count": 87,
   "metadata": {},
   "outputs": [
    {
     "data": {
      "text/plain": [
       "<matplotlib.axes._subplots.AxesSubplot at 0x16e2fcca460>"
      ]
     },
     "execution_count": 87,
     "metadata": {},
     "output_type": "execute_result"
    },
    {
     "data": {
      "image/png": "[encoded data removed]",
      "text/plain": [
       "<Figure size 720x360 with 1 Axes>"
      ]
     },
     "metadata": {
      "needs_background": "light"
     },
     "output_type": "display_data"
    }
   ],
   "source": [
    "plt.figure(figsize=(10,5))#get age destribution pattern\n",
    "plt.title('Distribution of people having disease and not having disease')\n",
    "sns.countplot(x=\"having_disease\",data=df_merged)"
   ]
  },
  {
   "cell_type": "code",
   "execution_count": 88,
   "metadata": {},
   "outputs": [
    {
     "data": {
      "text/html": [
       "<div>\n",
       "<style scoped>\n",
       "    .dataframe tbody tr th:only-of-type {\n",
       "        vertical-align: middle;\n",
       "    }\n",
       "\n",
       "    .dataframe tbody tr th {\n",
       "        vertical-align: top;\n",
       "    }\n",
       "\n",
       "    .dataframe thead th {\n",
       "        text-align: right;\n",
       "    }\n",
       "</style>\n",
       "<table border=\"1\" class=\"dataframe\">\n",
       "  <thead>\n",
       "    <tr style=\"text-align: right;\">\n",
       "      <th></th>\n",
       "      <th>Age in years at screening</th>\n",
       "      <th>Race/Hispanic origin</th>\n",
       "      <th>Ratio of family income to poverty</th>\n",
       "      <th>Gender</th>\n",
       "      <th>year</th>\n",
       "      <th>60 sec. pulse (30 sec. pulse * 2)</th>\n",
       "      <th>Weight (kg)</th>\n",
       "      <th>Standing Height (cm)</th>\n",
       "      <th>Waist Circumference (cm)</th>\n",
       "      <th>Arm Circumference (cm)</th>\n",
       "      <th>Ever told had congestive heart failure</th>\n",
       "      <th>Ever told you had coronary heart disease</th>\n",
       "      <th>Ever told you had angina/angina pectoris</th>\n",
       "      <th>Ever told you had heart attack</th>\n",
       "      <th>Ever told you had a stroke</th>\n",
       "      <th>Do you now smoke cigarettes?</th>\n",
       "      <th>Doctor told you have diabetes</th>\n",
       "      <th>How often drink alcohol over past 12 mos</th>\n",
       "      <th>Sodium (mmol/L)</th>\n",
       "      <th>Cholesterol, refrigerated serum (mg/dL)</th>\n",
       "      <th>avg_systolic_blood_pres</th>\n",
       "      <th>avg_diastolic_blood_pres</th>\n",
       "      <th>having_disease</th>\n",
       "    </tr>\n",
       "    <tr>\n",
       "      <th>SEQN</th>\n",
       "      <th></th>\n",
       "      <th></th>\n",
       "      <th></th>\n",
       "      <th></th>\n",
       "      <th></th>\n",
       "      <th></th>\n",
       "      <th></th>\n",
       "      <th></th>\n",
       "      <th></th>\n",
       "      <th></th>\n",
       "      <th></th>\n",
       "      <th></th>\n",
       "      <th></th>\n",
       "      <th></th>\n",
       "      <th></th>\n",
       "      <th></th>\n",
       "      <th></th>\n",
       "      <th></th>\n",
       "      <th></th>\n",
       "      <th></th>\n",
       "      <th></th>\n",
       "      <th></th>\n",
       "      <th></th>\n",
       "    </tr>\n",
       "  </thead>\n",
       "  <tbody>\n",
       "    <tr>\n",
       "      <th>2</th>\n",
       "      <td>77.0</td>\n",
       "      <td>Non-Hispanic White</td>\n",
       "      <td>5.00</td>\n",
       "      <td>Male</td>\n",
       "      <td>1999-2000</td>\n",
       "      <td>68.0</td>\n",
       "      <td>75.4</td>\n",
       "      <td>174.0</td>\n",
       "      <td>98.0</td>\n",
       "      <td>29.8</td>\n",
       "      <td>No</td>\n",
       "      <td>No</td>\n",
       "      <td>No</td>\n",
       "      <td>No</td>\n",
       "      <td>No</td>\n",
       "      <td>not given</td>\n",
       "      <td>No</td>\n",
       "      <td>24.0</td>\n",
       "      <td>144.1</td>\n",
       "      <td>203.0</td>\n",
       "      <td>100.666667</td>\n",
       "      <td>56.666667</td>\n",
       "      <td>0</td>\n",
       "    </tr>\n",
       "    <tr>\n",
       "      <th>5</th>\n",
       "      <td>49.0</td>\n",
       "      <td>Non-Hispanic White</td>\n",
       "      <td>5.00</td>\n",
       "      <td>Male</td>\n",
       "      <td>1999-2000</td>\n",
       "      <td>66.0</td>\n",
       "      <td>92.5</td>\n",
       "      <td>178.3</td>\n",
       "      <td>99.9</td>\n",
       "      <td>35.8</td>\n",
       "      <td>No</td>\n",
       "      <td>No</td>\n",
       "      <td>No</td>\n",
       "      <td>No</td>\n",
       "      <td>No</td>\n",
       "      <td>Not at all</td>\n",
       "      <td>No</td>\n",
       "      <td>4.0</td>\n",
       "      <td>137.5</td>\n",
       "      <td>277.0</td>\n",
       "      <td>122.000000</td>\n",
       "      <td>82.666667</td>\n",
       "      <td>0</td>\n",
       "    </tr>\n",
       "    <tr>\n",
       "      <th>7</th>\n",
       "      <td>59.0</td>\n",
       "      <td>Non-Hispanic Black</td>\n",
       "      <td>NaN</td>\n",
       "      <td>Female</td>\n",
       "      <td>1999-2000</td>\n",
       "      <td>58.0</td>\n",
       "      <td>78.0</td>\n",
       "      <td>162.9</td>\n",
       "      <td>90.7</td>\n",
       "      <td>31.7</td>\n",
       "      <td>No</td>\n",
       "      <td>No</td>\n",
       "      <td>No</td>\n",
       "      <td>No</td>\n",
       "      <td>No</td>\n",
       "      <td>Not at all</td>\n",
       "      <td>No</td>\n",
       "      <td>NaN</td>\n",
       "      <td>143.2</td>\n",
       "      <td>244.0</td>\n",
       "      <td>125.333333</td>\n",
       "      <td>80.000000</td>\n",
       "      <td>0</td>\n",
       "    </tr>\n",
       "    <tr>\n",
       "      <th>10</th>\n",
       "      <td>43.0</td>\n",
       "      <td>Non-Hispanic Black</td>\n",
       "      <td>NaN</td>\n",
       "      <td>Male</td>\n",
       "      <td>1999-2000</td>\n",
       "      <td>58.0</td>\n",
       "      <td>111.8</td>\n",
       "      <td>190.1</td>\n",
       "      <td>108.0</td>\n",
       "      <td>37.6</td>\n",
       "      <td>No</td>\n",
       "      <td>No</td>\n",
       "      <td>No</td>\n",
       "      <td>No</td>\n",
       "      <td>No</td>\n",
       "      <td>Every day</td>\n",
       "      <td>No</td>\n",
       "      <td>6.0</td>\n",
       "      <td>140.9</td>\n",
       "      <td>135.0</td>\n",
       "      <td>145.333333</td>\n",
       "      <td>96.000000</td>\n",
       "      <td>0</td>\n",
       "    </tr>\n",
       "    <tr>\n",
       "      <th>12</th>\n",
       "      <td>37.0</td>\n",
       "      <td>Non-Hispanic White</td>\n",
       "      <td>4.93</td>\n",
       "      <td>Male</td>\n",
       "      <td>1999-2000</td>\n",
       "      <td>64.0</td>\n",
       "      <td>99.2</td>\n",
       "      <td>180.0</td>\n",
       "      <td>112.8</td>\n",
       "      <td>37.2</td>\n",
       "      <td>No</td>\n",
       "      <td>No</td>\n",
       "      <td>No</td>\n",
       "      <td>No</td>\n",
       "      <td>No</td>\n",
       "      <td>not given</td>\n",
       "      <td>No</td>\n",
       "      <td>2.0</td>\n",
       "      <td>141.3</td>\n",
       "      <td>151.0</td>\n",
       "      <td>176.666667</td>\n",
       "      <td>102.000000</td>\n",
       "      <td>0</td>\n",
       "    </tr>\n",
       "  </tbody>\n",
       "</table>\n",
       "</div>"
      ],
      "text/plain": [
       "      Age in years at screening  Race/Hispanic origin  \\\n",
       "SEQN                                                    \n",
       "2                           77.0   Non-Hispanic White   \n",
       "5                           49.0   Non-Hispanic White   \n",
       "7                           59.0   Non-Hispanic Black   \n",
       "10                          43.0   Non-Hispanic Black   \n",
       "12                          37.0   Non-Hispanic White   \n",
       "\n",
       "      Ratio of family income to poverty  Gender       year  \\\n",
       "SEQN                                                         \n",
       "2                                  5.00    Male  1999-2000   \n",
       "5                                  5.00    Male  1999-2000   \n",
       "7                                   NaN  Female  1999-2000   \n",
       "10                                  NaN    Male  1999-2000   \n",
       "12                                 4.93    Male  1999-2000   \n",
       "\n",
       "      60 sec. pulse (30 sec. pulse * 2)  Weight (kg)  Standing Height (cm)  \\\n",
       "SEQN                                                                         \n",
       "2                                  68.0         75.4                 174.0   \n",
       "5                                  66.0         92.5                 178.3   \n",
       "7                                  58.0         78.0                 162.9   \n",
       "10                                 58.0        111.8                 190.1   \n",
       "12                                 64.0         99.2                 180.0   \n",
       "\n",
       "      Waist Circumference (cm)  Arm Circumference (cm)  \\\n",
       "SEQN                                                     \n",
       "2                         98.0                    29.8   \n",
       "5                         99.9                    35.8   \n",
       "7                         90.7                    31.7   \n",
       "10                       108.0                    37.6   \n",
       "12                       112.8                    37.2   \n",
       "\n",
       "     Ever told had congestive heart failure  \\\n",
       "SEQN                                          \n",
       "2                                        No   \n",
       "5                                        No   \n",
       "7                                        No   \n",
       "10                                       No   \n",
       "12                                       No   \n",
       "\n",
       "     Ever told you had coronary heart disease  \\\n",
       "SEQN                                            \n",
       "2                                          No   \n",
       "5                                          No   \n",
       "7                                          No   \n",
       "10                                         No   \n",
       "12                                         No   \n",
       "\n",
       "     Ever told you had angina/angina pectoris Ever told you had heart attack  \\\n",
       "SEQN                                                                           \n",
       "2                                          No                             No   \n",
       "5                                          No                             No   \n",
       "7                                          No                             No   \n",
       "10                                         No                             No   \n",
       "12                                         No                             No   \n",
       "\n",
       "     Ever told you had a stroke Do you now smoke cigarettes?  \\\n",
       "SEQN                                                           \n",
       "2                            No                    not given   \n",
       "5                            No                   Not at all   \n",
       "7                            No                   Not at all   \n",
       "10                           No                    Every day   \n",
       "12                           No                    not given   \n",
       "\n",
       "     Doctor told you have diabetes  How often drink alcohol over past 12 mos  \\\n",
       "SEQN                                                                           \n",
       "2                               No                                      24.0   \n",
       "5                               No                                       4.0   \n",
       "7                               No                                       NaN   \n",
       "10                              No                                       6.0   \n",
       "12                              No                                       2.0   \n",
       "\n",
       "      Sodium (mmol/L)  Cholesterol, refrigerated serum (mg/dL)  \\\n",
       "SEQN                                                             \n",
       "2               144.1                                    203.0   \n",
       "5               137.5                                    277.0   \n",
       "7               143.2                                    244.0   \n",
       "10              140.9                                    135.0   \n",
       "12              141.3                                    151.0   \n",
       "\n",
       "      avg_systolic_blood_pres  avg_diastolic_blood_pres  having_disease  \n",
       "SEQN                                                                     \n",
       "2                  100.666667                 56.666667               0  \n",
       "5                  122.000000                 82.666667               0  \n",
       "7                  125.333333                 80.000000               0  \n",
       "10                 145.333333                 96.000000               0  \n",
       "12                 176.666667                102.000000               0  "
      ]
     },
     "execution_count": 88,
     "metadata": {},
     "output_type": "execute_result"
    }
   ],
   "source": [
    "df_merged.head()"
   ]
  },
  {
   "cell_type": "code",
   "execution_count": 89,
   "metadata": {},
   "outputs": [
    {
     "data": {
      "text/plain": [
       "having_disease\n",
       "0    49388\n",
       "1     5889\n",
       "dtype: int64"
      ]
     },
     "execution_count": 89,
     "metadata": {},
     "output_type": "execute_result"
    }
   ],
   "source": [
    "df_merged.groupby('having_disease').size()"
   ]
  },
  {
   "cell_type": "code",
   "execution_count": 90,
   "metadata": {},
   "outputs": [],
   "source": [
    "#df_merged['Age in years at screening '] = df_merged['Age in years at screening '].astype('int64')\n"
   ]
  },
  {
   "cell_type": "code",
   "execution_count": 91,
   "metadata": {},
   "outputs": [
    {
     "data": {
      "text/html": [
       "<div>\n",
       "<style scoped>\n",
       "    .dataframe tbody tr th:only-of-type {\n",
       "        vertical-align: middle;\n",
       "    }\n",
       "\n",
       "    .dataframe tbody tr th {\n",
       "        vertical-align: top;\n",
       "    }\n",
       "\n",
       "    .dataframe thead th {\n",
       "        text-align: right;\n",
       "    }\n",
       "</style>\n",
       "<table border=\"1\" class=\"dataframe\">\n",
       "  <thead>\n",
       "    <tr style=\"text-align: right;\">\n",
       "      <th></th>\n",
       "      <th>Age in years at screening</th>\n",
       "      <th>Race/Hispanic origin</th>\n",
       "      <th>Ratio of family income to poverty</th>\n",
       "      <th>Gender</th>\n",
       "      <th>year</th>\n",
       "      <th>60 sec. pulse (30 sec. pulse * 2)</th>\n",
       "      <th>Weight (kg)</th>\n",
       "      <th>Standing Height (cm)</th>\n",
       "      <th>Waist Circumference (cm)</th>\n",
       "      <th>Arm Circumference (cm)</th>\n",
       "      <th>Ever told had congestive heart failure</th>\n",
       "      <th>Ever told you had coronary heart disease</th>\n",
       "      <th>Ever told you had angina/angina pectoris</th>\n",
       "      <th>Ever told you had heart attack</th>\n",
       "      <th>Ever told you had a stroke</th>\n",
       "      <th>Do you now smoke cigarettes?</th>\n",
       "      <th>Doctor told you have diabetes</th>\n",
       "      <th>How often drink alcohol over past 12 mos</th>\n",
       "      <th>Sodium (mmol/L)</th>\n",
       "      <th>Cholesterol, refrigerated serum (mg/dL)</th>\n",
       "      <th>avg_systolic_blood_pres</th>\n",
       "      <th>avg_diastolic_blood_pres</th>\n",
       "      <th>having_disease</th>\n",
       "    </tr>\n",
       "    <tr>\n",
       "      <th>SEQN</th>\n",
       "      <th></th>\n",
       "      <th></th>\n",
       "      <th></th>\n",
       "      <th></th>\n",
       "      <th></th>\n",
       "      <th></th>\n",
       "      <th></th>\n",
       "      <th></th>\n",
       "      <th></th>\n",
       "      <th></th>\n",
       "      <th></th>\n",
       "      <th></th>\n",
       "      <th></th>\n",
       "      <th></th>\n",
       "      <th></th>\n",
       "      <th></th>\n",
       "      <th></th>\n",
       "      <th></th>\n",
       "      <th></th>\n",
       "      <th></th>\n",
       "      <th></th>\n",
       "      <th></th>\n",
       "      <th></th>\n",
       "    </tr>\n",
       "  </thead>\n",
       "  <tbody>\n",
       "    <tr>\n",
       "      <th>2</th>\n",
       "      <td>77.0</td>\n",
       "      <td>Non-Hispanic White</td>\n",
       "      <td>5.00</td>\n",
       "      <td>Male</td>\n",
       "      <td>1999-2000</td>\n",
       "      <td>68.0</td>\n",
       "      <td>75.4</td>\n",
       "      <td>174.0</td>\n",
       "      <td>98.0</td>\n",
       "      <td>29.8</td>\n",
       "      <td>No</td>\n",
       "      <td>No</td>\n",
       "      <td>No</td>\n",
       "      <td>No</td>\n",
       "      <td>No</td>\n",
       "      <td>not given</td>\n",
       "      <td>No</td>\n",
       "      <td>24.0</td>\n",
       "      <td>144.1</td>\n",
       "      <td>203.0</td>\n",
       "      <td>100.666667</td>\n",
       "      <td>56.666667</td>\n",
       "      <td>0</td>\n",
       "    </tr>\n",
       "    <tr>\n",
       "      <th>5</th>\n",
       "      <td>49.0</td>\n",
       "      <td>Non-Hispanic White</td>\n",
       "      <td>5.00</td>\n",
       "      <td>Male</td>\n",
       "      <td>1999-2000</td>\n",
       "      <td>66.0</td>\n",
       "      <td>92.5</td>\n",
       "      <td>178.3</td>\n",
       "      <td>99.9</td>\n",
       "      <td>35.8</td>\n",
       "      <td>No</td>\n",
       "      <td>No</td>\n",
       "      <td>No</td>\n",
       "      <td>No</td>\n",
       "      <td>No</td>\n",
       "      <td>Not at all</td>\n",
       "      <td>No</td>\n",
       "      <td>4.0</td>\n",
       "      <td>137.5</td>\n",
       "      <td>277.0</td>\n",
       "      <td>122.000000</td>\n",
       "      <td>82.666667</td>\n",
       "      <td>0</td>\n",
       "    </tr>\n",
       "    <tr>\n",
       "      <th>7</th>\n",
       "      <td>59.0</td>\n",
       "      <td>Non-Hispanic Black</td>\n",
       "      <td>NaN</td>\n",
       "      <td>Female</td>\n",
       "      <td>1999-2000</td>\n",
       "      <td>58.0</td>\n",
       "      <td>78.0</td>\n",
       "      <td>162.9</td>\n",
       "      <td>90.7</td>\n",
       "      <td>31.7</td>\n",
       "      <td>No</td>\n",
       "      <td>No</td>\n",
       "      <td>No</td>\n",
       "      <td>No</td>\n",
       "      <td>No</td>\n",
       "      <td>Not at all</td>\n",
       "      <td>No</td>\n",
       "      <td>NaN</td>\n",
       "      <td>143.2</td>\n",
       "      <td>244.0</td>\n",
       "      <td>125.333333</td>\n",
       "      <td>80.000000</td>\n",
       "      <td>0</td>\n",
       "    </tr>\n",
       "    <tr>\n",
       "      <th>10</th>\n",
       "      <td>43.0</td>\n",
       "      <td>Non-Hispanic Black</td>\n",
       "      <td>NaN</td>\n",
       "      <td>Male</td>\n",
       "      <td>1999-2000</td>\n",
       "      <td>58.0</td>\n",
       "      <td>111.8</td>\n",
       "      <td>190.1</td>\n",
       "      <td>108.0</td>\n",
       "      <td>37.6</td>\n",
       "      <td>No</td>\n",
       "      <td>No</td>\n",
       "      <td>No</td>\n",
       "      <td>No</td>\n",
       "      <td>No</td>\n",
       "      <td>Every day</td>\n",
       "      <td>No</td>\n",
       "      <td>6.0</td>\n",
       "      <td>140.9</td>\n",
       "      <td>135.0</td>\n",
       "      <td>145.333333</td>\n",
       "      <td>96.000000</td>\n",
       "      <td>0</td>\n",
       "    </tr>\n",
       "    <tr>\n",
       "      <th>12</th>\n",
       "      <td>37.0</td>\n",
       "      <td>Non-Hispanic White</td>\n",
       "      <td>4.93</td>\n",
       "      <td>Male</td>\n",
       "      <td>1999-2000</td>\n",
       "      <td>64.0</td>\n",
       "      <td>99.2</td>\n",
       "      <td>180.0</td>\n",
       "      <td>112.8</td>\n",
       "      <td>37.2</td>\n",
       "      <td>No</td>\n",
       "      <td>No</td>\n",
       "      <td>No</td>\n",
       "      <td>No</td>\n",
       "      <td>No</td>\n",
       "      <td>not given</td>\n",
       "      <td>No</td>\n",
       "      <td>2.0</td>\n",
       "      <td>141.3</td>\n",
       "      <td>151.0</td>\n",
       "      <td>176.666667</td>\n",
       "      <td>102.000000</td>\n",
       "      <td>0</td>\n",
       "    </tr>\n",
       "  </tbody>\n",
       "</table>\n",
       "</div>"
      ],
      "text/plain": [
       "      Age in years at screening  Race/Hispanic origin  \\\n",
       "SEQN                                                    \n",
       "2                           77.0   Non-Hispanic White   \n",
       "5                           49.0   Non-Hispanic White   \n",
       "7                           59.0   Non-Hispanic Black   \n",
       "10                          43.0   Non-Hispanic Black   \n",
       "12                          37.0   Non-Hispanic White   \n",
       "\n",
       "      Ratio of family income to poverty  Gender       year  \\\n",
       "SEQN                                                         \n",
       "2                                  5.00    Male  1999-2000   \n",
       "5                                  5.00    Male  1999-2000   \n",
       "7                                   NaN  Female  1999-2000   \n",
       "10                                  NaN    Male  1999-2000   \n",
       "12                                 4.93    Male  1999-2000   \n",
       "\n",
       "      60 sec. pulse (30 sec. pulse * 2)  Weight (kg)  Standing Height (cm)  \\\n",
       "SEQN                                                                         \n",
       "2                                  68.0         75.4                 174.0   \n",
       "5                                  66.0         92.5                 178.3   \n",
       "7                                  58.0         78.0                 162.9   \n",
       "10                                 58.0        111.8                 190.1   \n",
       "12                                 64.0         99.2                 180.0   \n",
       "\n",
       "      Waist Circumference (cm)  Arm Circumference (cm)  \\\n",
       "SEQN                                                     \n",
       "2                         98.0                    29.8   \n",
       "5                         99.9                    35.8   \n",
       "7                         90.7                    31.7   \n",
       "10                       108.0                    37.6   \n",
       "12                       112.8                    37.2   \n",
       "\n",
       "     Ever told had congestive heart failure  \\\n",
       "SEQN                                          \n",
       "2                                        No   \n",
       "5                                        No   \n",
       "7                                        No   \n",
       "10                                       No   \n",
       "12                                       No   \n",
       "\n",
       "     Ever told you had coronary heart disease  \\\n",
       "SEQN                                            \n",
       "2                                          No   \n",
       "5                                          No   \n",
       "7                                          No   \n",
       "10                                         No   \n",
       "12                                         No   \n",
       "\n",
       "     Ever told you had angina/angina pectoris Ever told you had heart attack  \\\n",
       "SEQN                                                                           \n",
       "2                                          No                             No   \n",
       "5                                          No                             No   \n",
       "7                                          No                             No   \n",
       "10                                         No                             No   \n",
       "12                                         No                             No   \n",
       "\n",
       "     Ever told you had a stroke Do you now smoke cigarettes?  \\\n",
       "SEQN                                                           \n",
       "2                            No                    not given   \n",
       "5                            No                   Not at all   \n",
       "7                            No                   Not at all   \n",
       "10                           No                    Every day   \n",
       "12                           No                    not given   \n",
       "\n",
       "     Doctor told you have diabetes  How often drink alcohol over past 12 mos  \\\n",
       "SEQN                                                                           \n",
       "2                               No                                      24.0   \n",
       "5                               No                                       4.0   \n",
       "7                               No                                       NaN   \n",
       "10                              No                                       6.0   \n",
       "12                              No                                       2.0   \n",
       "\n",
       "      Sodium (mmol/L)  Cholesterol, refrigerated serum (mg/dL)  \\\n",
       "SEQN                                                             \n",
       "2               144.1                                    203.0   \n",
       "5               137.5                                    277.0   \n",
       "7               143.2                                    244.0   \n",
       "10              140.9                                    135.0   \n",
       "12              141.3                                    151.0   \n",
       "\n",
       "      avg_systolic_blood_pres  avg_diastolic_blood_pres  having_disease  \n",
       "SEQN                                                                     \n",
       "2                  100.666667                 56.666667               0  \n",
       "5                  122.000000                 82.666667               0  \n",
       "7                  125.333333                 80.000000               0  \n",
       "10                 145.333333                 96.000000               0  \n",
       "12                 176.666667                102.000000               0  "
      ]
     },
     "execution_count": 91,
     "metadata": {},
     "output_type": "execute_result"
    }
   ],
   "source": [
    "df_merged.head()"
   ]
  },
  {
   "cell_type": "code",
   "execution_count": 92,
   "metadata": {},
   "outputs": [
    {
     "name": "stdout",
     "output_type": "stream",
     "text": [
      "<class 'pandas.core.frame.DataFrame'>\n",
      "Int64Index: 55277 entries, 2 to 102956\n",
      "Data columns (total 23 columns):\n",
      " #   Column                                    Non-Null Count  Dtype  \n",
      "---  ------                                    --------------  -----  \n",
      " 0   Age in years at screening                 55277 non-null  float64\n",
      " 1   Race/Hispanic origin                      55277 non-null  object \n",
      " 2   Ratio of family income to poverty         49990 non-null  float64\n",
      " 3   Gender                                    55277 non-null  object \n",
      " 4   year                                      55277 non-null  object \n",
      " 5   60 sec. pulse (30 sec. pulse * 2)         50484 non-null  float64\n",
      " 6   Weight (kg)                               51754 non-null  float64\n",
      " 7   Standing Height (cm)                      51798 non-null  float64\n",
      " 8   Waist Circumference (cm)                  49601 non-null  float64\n",
      " 9   Arm Circumference (cm)                    50189 non-null  float64\n",
      " 10  Ever told had congestive heart failure    55277 non-null  object \n",
      " 11  Ever told you had coronary heart disease  55277 non-null  object \n",
      " 12  Ever told you had angina/angina pectoris  55277 non-null  object \n",
      " 13  Ever told you had heart attack            55277 non-null  object \n",
      " 14  Ever told you had a stroke                55277 non-null  object \n",
      " 15  Do you now smoke cigarettes?              55277 non-null  object \n",
      " 16  Doctor told you have diabetes             55277 non-null  object \n",
      " 17  How often drink alcohol over past 12 mos  36565 non-null  float64\n",
      " 18  Sodium (mmol/L)                           48808 non-null  float64\n",
      " 19  Cholesterol, refrigerated serum (mg/dL)   48804 non-null  float64\n",
      " 20  avg_systolic_blood_pres                   50205 non-null  float64\n",
      " 21  avg_diastolic_blood_pres                  50205 non-null  float64\n",
      " 22  having_disease                            55277 non-null  int64  \n",
      "dtypes: float64(12), int64(1), object(10)\n",
      "memory usage: 12.6+ MB\n"
     ]
    }
   ],
   "source": [
    "df_merged.info()"
   ]
  },
  {
   "cell_type": "code",
   "execution_count": 93,
   "metadata": {},
   "outputs": [
    {
     "data": {
      "text/plain": [
       "Age in years at screening                       0\n",
       "Race/Hispanic origin                            0\n",
       "Ratio of family income to poverty            5287\n",
       "Gender                                          0\n",
       "year                                            0\n",
       "60 sec. pulse (30 sec. pulse * 2)            4793\n",
       "Weight (kg)                                  3523\n",
       "Standing Height (cm)                         3479\n",
       "Waist Circumference (cm)                     5676\n",
       "Arm Circumference (cm)                       5088\n",
       "Ever told had congestive heart failure          0\n",
       "Ever told you had coronary heart disease        0\n",
       "Ever told you had angina/angina pectoris        0\n",
       "Ever told you had heart attack                  0\n",
       "Ever told you had a stroke                      0\n",
       "Do you now smoke cigarettes?                    0\n",
       "Doctor told you have diabetes                   0\n",
       "How often drink alcohol over past 12 mos    18712\n",
       "Sodium (mmol/L)                              6469\n",
       "Cholesterol, refrigerated serum (mg/dL)      6473\n",
       "avg_systolic_blood_pres                      5072\n",
       "avg_diastolic_blood_pres                     5072\n",
       "having_disease                                  0\n",
       "dtype: int64"
      ]
     },
     "execution_count": 93,
     "metadata": {},
     "output_type": "execute_result"
    }
   ],
   "source": [
    "df_merged.isnull().sum()"
   ]
  },
  {
   "cell_type": "code",
   "execution_count": 94,
   "metadata": {},
   "outputs": [
    {
     "data": {
      "text/plain": [
       "<matplotlib.axes._subplots.AxesSubplot at 0x16e2e84cd90>"
      ]
     },
     "execution_count": 94,
     "metadata": {},
     "output_type": "execute_result"
    },
    {
     "data": {
      "image/png": "[encoded data removed]",
      "text/plain": [
       "<Figure size 720x360 with 1 Axes>"
      ]
     },
     "metadata": {
      "needs_background": "light"
     },
     "output_type": "display_data"
    }
   ],
   "source": [
    "plt.figure(figsize=(10,5))#get age destribution pattern\n",
    "plt.title('Age Distribution')\n",
    "sns.distplot(df_merged[\"Age in years at screening \"], bins =100)"
   ]
  },
  {
   "cell_type": "code",
   "execution_count": 95,
   "metadata": {},
   "outputs": [
    {
     "data": {
      "text/plain": [
       "<matplotlib.axes._subplots.AxesSubplot at 0x16e2eba5b80>"
      ]
     },
     "execution_count": 95,
     "metadata": {},
     "output_type": "execute_result"
    },
    {
     "data": {
      "image/png": "[encoded data removed]",
      "text/plain": [
       "<Figure size 432x288 with 1 Axes>"
      ]
     },
     "metadata": {
      "needs_background": "light"
     },
     "output_type": "display_data"
    }
   ],
   "source": [
    "plt.title('Age Distribution')\n",
    "sns.boxplot(x=df_merged['Age in years at screening '])"
   ]
  },
  {
   "cell_type": "code",
   "execution_count": 96,
   "metadata": {},
   "outputs": [
    {
     "data": {
      "text/plain": [
       "<matplotlib.axes._subplots.AxesSubplot at 0x16e27690850>"
      ]
     },
     "execution_count": 96,
     "metadata": {},
     "output_type": "execute_result"
    },
    {
     "data": {
      "image/png": "[encoded data removed]",
      "text/plain": [
       "<Figure size 432x288 with 1 Axes>"
      ]
     },
     "metadata": {
      "needs_background": "light"
     },
     "output_type": "display_data"
    }
   ],
   "source": [
    "plt.title('Gender Distribution')\n",
    "sns.countplot(x=\"Gender\",data=df_merged)"
   ]
  },
  {
   "cell_type": "code",
   "execution_count": 97,
   "metadata": {},
   "outputs": [
    {
     "data": {
      "text/plain": [
       "<matplotlib.axes._subplots.AxesSubplot at 0x16e2eb1bd60>"
      ]
     },
     "execution_count": 97,
     "metadata": {},
     "output_type": "execute_result"
    },
    {
     "data": {
      "image/png": "[encoded data removed]",
      "text/plain": [
       "<Figure size 432x288 with 1 Axes>"
      ]
     },
     "metadata": {
      "needs_background": "light"
     },
     "output_type": "display_data"
    }
   ],
   "source": [
    "sns.countplot(x=\"Do you now smoke cigarettes?\",data=df_merged)"
   ]
  },
  {
   "cell_type": "code",
   "execution_count": null,
   "metadata": {},
   "outputs": [],
   "source": []
  },
  {
   "cell_type": "code",
   "execution_count": 98,
   "metadata": {},
   "outputs": [
    {
     "data": {
      "text/plain": [
       "<matplotlib.axes._subplots.AxesSubplot at 0x16e2626d790>"
      ]
     },
     "execution_count": 98,
     "metadata": {},
     "output_type": "execute_result"
    },
    {
     "data": {
      "image/png": "[encoded data removed]",
      "text/plain": [
       "<Figure size 432x288 with 1 Axes>"
      ]
     },
     "metadata": {
      "needs_background": "light"
     },
     "output_type": "display_data"
    }
   ],
   "source": [
    "sns.countplot(x=\"Doctor told you have diabetes\",data=df_merged)"
   ]
  },
  {
   "cell_type": "code",
   "execution_count": 99,
   "metadata": {},
   "outputs": [
    {
     "data": {
      "text/plain": [
       "<matplotlib.axes._subplots.AxesSubplot at 0x16e261f4bb0>"
      ]
     },
     "execution_count": 99,
     "metadata": {},
     "output_type": "execute_result"
    },
    {
     "data": {
      "image/png": "[encoded data removed]",
      "text/plain": [
       "<Figure size 720x360 with 1 Axes>"
      ]
     },
     "metadata": {
      "needs_background": "light"
     },
     "output_type": "display_data"
    }
   ],
   "source": [
    "plt.figure(figsize=(10,5))#get blood presure destribution pattern\n",
    "plt.title('systolic_blood_presure Distribution')\n",
    "sns.distplot(df_merged[\"avg_systolic_blood_pres\"], bins =100)"
   ]
  },
  {
   "cell_type": "code",
   "execution_count": 100,
   "metadata": {},
   "outputs": [
    {
     "data": {
      "text/plain": [
       "<matplotlib.axes._subplots.AxesSubplot at 0x16e263c59a0>"
      ]
     },
     "execution_count": 100,
     "metadata": {},
     "output_type": "execute_result"
    },
    {
     "data": {
      "image/png": "[encoded data removed]",
      "text/plain": [
       "<Figure size 432x288 with 1 Axes>"
      ]
     },
     "metadata": {
      "needs_background": "light"
     },
     "output_type": "display_data"
    }
   ],
   "source": [
    "plt.title('systolic_blood_presure_Distribution')\n",
    "sns.boxplot(x=df_merged['avg_systolic_blood_pres'])"
   ]
  },
  {
   "cell_type": "code",
   "execution_count": 101,
   "metadata": {},
   "outputs": [
    {
     "data": {
      "text/plain": [
       "<matplotlib.axes._subplots.AxesSubplot at 0x16e26401100>"
      ]
     },
     "execution_count": 101,
     "metadata": {},
     "output_type": "execute_result"
    },
    {
     "data": {
      "image/png": "[encoded data removed]",
      "text/plain": [
       "<Figure size 720x360 with 1 Axes>"
      ]
     },
     "metadata": {
      "needs_background": "light"
     },
     "output_type": "display_data"
    }
   ],
   "source": [
    "plt.figure(figsize=(10,5))#get blood presure destribution pattern\n",
    "plt.title('diastolic_blood_pressure_Distribution')\n",
    "sns.distplot(df_merged[\"avg_diastolic_blood_pres\"], bins =100)"
   ]
  },
  {
   "cell_type": "code",
   "execution_count": 102,
   "metadata": {},
   "outputs": [
    {
     "data": {
      "text/plain": [
       "<matplotlib.axes._subplots.AxesSubplot at 0x16e27a12b20>"
      ]
     },
     "execution_count": 102,
     "metadata": {},
     "output_type": "execute_result"
    },
    {
     "data": {
      "image/png": "[encoded data removed]",
      "text/plain": [
       "<Figure size 432x288 with 1 Axes>"
      ]
     },
     "metadata": {
      "needs_background": "light"
     },
     "output_type": "display_data"
    }
   ],
   "source": [
    "plt.title('Diastolic_blood_presure_Distribution')\n",
    "sns.boxplot(x=df_merged['avg_diastolic_blood_pres'])"
   ]
  },
  {
   "cell_type": "code",
   "execution_count": 103,
   "metadata": {},
   "outputs": [
    {
     "data": {
      "text/plain": [
       "<matplotlib.axes._subplots.AxesSubplot at 0x16e27a65dc0>"
      ]
     },
     "execution_count": 103,
     "metadata": {},
     "output_type": "execute_result"
    },
    {
     "data": {
      "image/png": "[encoded data removed]",
      "text/plain": [
       "<Figure size 720x360 with 1 Axes>"
      ]
     },
     "metadata": {
      "needs_background": "light"
     },
     "output_type": "display_data"
    }
   ],
   "source": [
    "plt.figure(figsize=(10,5))#get blood presure destribution pattern\n",
    "plt.title('Distribution')\n",
    "sns.distplot(df_merged[\"Cholesterol, refrigerated serum (mg/dL)\"], bins =100)"
   ]
  },
  {
   "cell_type": "code",
   "execution_count": 104,
   "metadata": {
    "scrolled": true
   },
   "outputs": [
    {
     "data": {
      "text/plain": [
       "<matplotlib.axes._subplots.AxesSubplot at 0x16e2645bee0>"
      ]
     },
     "execution_count": 104,
     "metadata": {},
     "output_type": "execute_result"
    },
    {
     "data": {
      "image/png": "[encoded data removed]",
      "text/plain": [
       "<Figure size 432x288 with 1 Axes>"
      ]
     },
     "metadata": {
      "needs_background": "light"
     },
     "output_type": "display_data"
    }
   ],
   "source": [
    "sns.countplot(x=\"Ever told you had angina/angina pectoris\",data=df_merged)"
   ]
  },
  {
   "cell_type": "code",
   "execution_count": 105,
   "metadata": {},
   "outputs": [],
   "source": [
    "df_merged['BMI'] = df_merged['Weight (kg)']/((df_merged['Standing Height (cm)']/100)*(df_merged['Standing Height (cm)']/100))\n"
   ]
  },
  {
   "cell_type": "code",
   "execution_count": 106,
   "metadata": {},
   "outputs": [
    {
     "data": {
      "text/html": [
       "<div>\n",
       "<style scoped>\n",
       "    .dataframe tbody tr th:only-of-type {\n",
       "        vertical-align: middle;\n",
       "    }\n",
       "\n",
       "    .dataframe tbody tr th {\n",
       "        vertical-align: top;\n",
       "    }\n",
       "\n",
       "    .dataframe thead th {\n",
       "        text-align: right;\n",
       "    }\n",
       "</style>\n",
       "<table border=\"1\" class=\"dataframe\">\n",
       "  <thead>\n",
       "    <tr style=\"text-align: right;\">\n",
       "      <th></th>\n",
       "      <th>Age in years at screening</th>\n",
       "      <th>Race/Hispanic origin</th>\n",
       "      <th>Ratio of family income to poverty</th>\n",
       "      <th>Gender</th>\n",
       "      <th>year</th>\n",
       "      <th>60 sec. pulse (30 sec. pulse * 2)</th>\n",
       "      <th>Weight (kg)</th>\n",
       "      <th>Standing Height (cm)</th>\n",
       "      <th>Waist Circumference (cm)</th>\n",
       "      <th>Arm Circumference (cm)</th>\n",
       "      <th>Ever told had congestive heart failure</th>\n",
       "      <th>Ever told you had coronary heart disease</th>\n",
       "      <th>Ever told you had angina/angina pectoris</th>\n",
       "      <th>Ever told you had heart attack</th>\n",
       "      <th>Ever told you had a stroke</th>\n",
       "      <th>Do you now smoke cigarettes?</th>\n",
       "      <th>Doctor told you have diabetes</th>\n",
       "      <th>How often drink alcohol over past 12 mos</th>\n",
       "      <th>Sodium (mmol/L)</th>\n",
       "      <th>Cholesterol, refrigerated serum (mg/dL)</th>\n",
       "      <th>avg_systolic_blood_pres</th>\n",
       "      <th>avg_diastolic_blood_pres</th>\n",
       "      <th>having_disease</th>\n",
       "      <th>BMI</th>\n",
       "    </tr>\n",
       "    <tr>\n",
       "      <th>SEQN</th>\n",
       "      <th></th>\n",
       "      <th></th>\n",
       "      <th></th>\n",
       "      <th></th>\n",
       "      <th></th>\n",
       "      <th></th>\n",
       "      <th></th>\n",
       "      <th></th>\n",
       "      <th></th>\n",
       "      <th></th>\n",
       "      <th></th>\n",
       "      <th></th>\n",
       "      <th></th>\n",
       "      <th></th>\n",
       "      <th></th>\n",
       "      <th></th>\n",
       "      <th></th>\n",
       "      <th></th>\n",
       "      <th></th>\n",
       "      <th></th>\n",
       "      <th></th>\n",
       "      <th></th>\n",
       "      <th></th>\n",
       "      <th></th>\n",
       "    </tr>\n",
       "  </thead>\n",
       "  <tbody>\n",
       "    <tr>\n",
       "      <th>2</th>\n",
       "      <td>77.0</td>\n",
       "      <td>Non-Hispanic White</td>\n",
       "      <td>5.00</td>\n",
       "      <td>Male</td>\n",
       "      <td>1999-2000</td>\n",
       "      <td>68.0</td>\n",
       "      <td>75.4</td>\n",
       "      <td>174.0</td>\n",
       "      <td>98.0</td>\n",
       "      <td>29.8</td>\n",
       "      <td>No</td>\n",
       "      <td>No</td>\n",
       "      <td>No</td>\n",
       "      <td>No</td>\n",
       "      <td>No</td>\n",
       "      <td>not given</td>\n",
       "      <td>No</td>\n",
       "      <td>24.0</td>\n",
       "      <td>144.1</td>\n",
       "      <td>203.0</td>\n",
       "      <td>100.666667</td>\n",
       "      <td>56.666667</td>\n",
       "      <td>0</td>\n",
       "      <td>24.904215</td>\n",
       "    </tr>\n",
       "    <tr>\n",
       "      <th>5</th>\n",
       "      <td>49.0</td>\n",
       "      <td>Non-Hispanic White</td>\n",
       "      <td>5.00</td>\n",
       "      <td>Male</td>\n",
       "      <td>1999-2000</td>\n",
       "      <td>66.0</td>\n",
       "      <td>92.5</td>\n",
       "      <td>178.3</td>\n",
       "      <td>99.9</td>\n",
       "      <td>35.8</td>\n",
       "      <td>No</td>\n",
       "      <td>No</td>\n",
       "      <td>No</td>\n",
       "      <td>No</td>\n",
       "      <td>No</td>\n",
       "      <td>Not at all</td>\n",
       "      <td>No</td>\n",
       "      <td>4.0</td>\n",
       "      <td>137.5</td>\n",
       "      <td>277.0</td>\n",
       "      <td>122.000000</td>\n",
       "      <td>82.666667</td>\n",
       "      <td>0</td>\n",
       "      <td>29.096386</td>\n",
       "    </tr>\n",
       "    <tr>\n",
       "      <th>7</th>\n",
       "      <td>59.0</td>\n",
       "      <td>Non-Hispanic Black</td>\n",
       "      <td>NaN</td>\n",
       "      <td>Female</td>\n",
       "      <td>1999-2000</td>\n",
       "      <td>58.0</td>\n",
       "      <td>78.0</td>\n",
       "      <td>162.9</td>\n",
       "      <td>90.7</td>\n",
       "      <td>31.7</td>\n",
       "      <td>No</td>\n",
       "      <td>No</td>\n",
       "      <td>No</td>\n",
       "      <td>No</td>\n",
       "      <td>No</td>\n",
       "      <td>Not at all</td>\n",
       "      <td>No</td>\n",
       "      <td>NaN</td>\n",
       "      <td>143.2</td>\n",
       "      <td>244.0</td>\n",
       "      <td>125.333333</td>\n",
       "      <td>80.000000</td>\n",
       "      <td>0</td>\n",
       "      <td>29.393577</td>\n",
       "    </tr>\n",
       "    <tr>\n",
       "      <th>10</th>\n",
       "      <td>43.0</td>\n",
       "      <td>Non-Hispanic Black</td>\n",
       "      <td>NaN</td>\n",
       "      <td>Male</td>\n",
       "      <td>1999-2000</td>\n",
       "      <td>58.0</td>\n",
       "      <td>111.8</td>\n",
       "      <td>190.1</td>\n",
       "      <td>108.0</td>\n",
       "      <td>37.6</td>\n",
       "      <td>No</td>\n",
       "      <td>No</td>\n",
       "      <td>No</td>\n",
       "      <td>No</td>\n",
       "      <td>No</td>\n",
       "      <td>Every day</td>\n",
       "      <td>No</td>\n",
       "      <td>6.0</td>\n",
       "      <td>140.9</td>\n",
       "      <td>135.0</td>\n",
       "      <td>145.333333</td>\n",
       "      <td>96.000000</td>\n",
       "      <td>0</td>\n",
       "      <td>30.936955</td>\n",
       "    </tr>\n",
       "    <tr>\n",
       "      <th>12</th>\n",
       "      <td>37.0</td>\n",
       "      <td>Non-Hispanic White</td>\n",
       "      <td>4.93</td>\n",
       "      <td>Male</td>\n",
       "      <td>1999-2000</td>\n",
       "      <td>64.0</td>\n",
       "      <td>99.2</td>\n",
       "      <td>180.0</td>\n",
       "      <td>112.8</td>\n",
       "      <td>37.2</td>\n",
       "      <td>No</td>\n",
       "      <td>No</td>\n",
       "      <td>No</td>\n",
       "      <td>No</td>\n",
       "      <td>No</td>\n",
       "      <td>not given</td>\n",
       "      <td>No</td>\n",
       "      <td>2.0</td>\n",
       "      <td>141.3</td>\n",
       "      <td>151.0</td>\n",
       "      <td>176.666667</td>\n",
       "      <td>102.000000</td>\n",
       "      <td>0</td>\n",
       "      <td>30.617284</td>\n",
       "    </tr>\n",
       "  </tbody>\n",
       "</table>\n",
       "</div>"
      ],
      "text/plain": [
       "      Age in years at screening  Race/Hispanic origin  \\\n",
       "SEQN                                                    \n",
       "2                           77.0   Non-Hispanic White   \n",
       "5                           49.0   Non-Hispanic White   \n",
       "7                           59.0   Non-Hispanic Black   \n",
       "10                          43.0   Non-Hispanic Black   \n",
       "12                          37.0   Non-Hispanic White   \n",
       "\n",
       "      Ratio of family income to poverty  Gender       year  \\\n",
       "SEQN                                                         \n",
       "2                                  5.00    Male  1999-2000   \n",
       "5                                  5.00    Male  1999-2000   \n",
       "7                                   NaN  Female  1999-2000   \n",
       "10                                  NaN    Male  1999-2000   \n",
       "12                                 4.93    Male  1999-2000   \n",
       "\n",
       "      60 sec. pulse (30 sec. pulse * 2)  Weight (kg)  Standing Height (cm)  \\\n",
       "SEQN                                                                         \n",
       "2                                  68.0         75.4                 174.0   \n",
       "5                                  66.0         92.5                 178.3   \n",
       "7                                  58.0         78.0                 162.9   \n",
       "10                                 58.0        111.8                 190.1   \n",
       "12                                 64.0         99.2                 180.0   \n",
       "\n",
       "      Waist Circumference (cm)  Arm Circumference (cm)  \\\n",
       "SEQN                                                     \n",
       "2                         98.0                    29.8   \n",
       "5                         99.9                    35.8   \n",
       "7                         90.7                    31.7   \n",
       "10                       108.0                    37.6   \n",
       "12                       112.8                    37.2   \n",
       "\n",
       "     Ever told had congestive heart failure  \\\n",
       "SEQN                                          \n",
       "2                                        No   \n",
       "5                                        No   \n",
       "7                                        No   \n",
       "10                                       No   \n",
       "12                                       No   \n",
       "\n",
       "     Ever told you had coronary heart disease  \\\n",
       "SEQN                                            \n",
       "2                                          No   \n",
       "5                                          No   \n",
       "7                                          No   \n",
       "10                                         No   \n",
       "12                                         No   \n",
       "\n",
       "     Ever told you had angina/angina pectoris Ever told you had heart attack  \\\n",
       "SEQN                                                                           \n",
       "2                                          No                             No   \n",
       "5                                          No                             No   \n",
       "7                                          No                             No   \n",
       "10                                         No                             No   \n",
       "12                                         No                             No   \n",
       "\n",
       "     Ever told you had a stroke Do you now smoke cigarettes?  \\\n",
       "SEQN                                                           \n",
       "2                            No                    not given   \n",
       "5                            No                   Not at all   \n",
       "7                            No                   Not at all   \n",
       "10                           No                    Every day   \n",
       "12                           No                    not given   \n",
       "\n",
       "     Doctor told you have diabetes  How often drink alcohol over past 12 mos  \\\n",
       "SEQN                                                                           \n",
       "2                               No                                      24.0   \n",
       "5                               No                                       4.0   \n",
       "7                               No                                       NaN   \n",
       "10                              No                                       6.0   \n",
       "12                              No                                       2.0   \n",
       "\n",
       "      Sodium (mmol/L)  Cholesterol, refrigerated serum (mg/dL)  \\\n",
       "SEQN                                                             \n",
       "2               144.1                                    203.0   \n",
       "5               137.5                                    277.0   \n",
       "7               143.2                                    244.0   \n",
       "10              140.9                                    135.0   \n",
       "12              141.3                                    151.0   \n",
       "\n",
       "      avg_systolic_blood_pres  avg_diastolic_blood_pres  having_disease  \\\n",
       "SEQN                                                                      \n",
       "2                  100.666667                 56.666667               0   \n",
       "5                  122.000000                 82.666667               0   \n",
       "7                  125.333333                 80.000000               0   \n",
       "10                 145.333333                 96.000000               0   \n",
       "12                 176.666667                102.000000               0   \n",
       "\n",
       "            BMI  \n",
       "SEQN             \n",
       "2     24.904215  \n",
       "5     29.096386  \n",
       "7     29.393577  \n",
       "10    30.936955  \n",
       "12    30.617284  "
      ]
     },
     "execution_count": 106,
     "metadata": {},
     "output_type": "execute_result"
    }
   ],
   "source": [
    "df_merged.head()"
   ]
  },
  {
   "cell_type": "code",
   "execution_count": 107,
   "metadata": {},
   "outputs": [
    {
     "data": {
      "text/plain": [
       "<matplotlib.axes._subplots.AxesSubplot at 0x16e27c0ebe0>"
      ]
     },
     "execution_count": 107,
     "metadata": {},
     "output_type": "execute_result"
    },
    {
     "data": {
      "image/png": "[encoded data removed]",
      "text/plain": [
       "<Figure size 720x360 with 1 Axes>"
      ]
     },
     "metadata": {
      "needs_background": "light"
     },
     "output_type": "display_data"
    }
   ],
   "source": [
    "plt.figure(figsize=(10,5))#get blood presure destribution pattern\n",
    "plt.title('BMI Distribution')\n",
    "sns.distplot(df_merged[\"BMI\"], bins =100)"
   ]
  },
  {
   "cell_type": "code",
   "execution_count": 108,
   "metadata": {},
   "outputs": [
    {
     "data": {
      "text/plain": [
       "<matplotlib.axes._subplots.AxesSubplot at 0x16e2f61abe0>"
      ]
     },
     "execution_count": 108,
     "metadata": {},
     "output_type": "execute_result"
    },
    {
     "data": {
      "image/png": "[encoded data removed]",
      "text/plain": [
       "<Figure size 432x288 with 1 Axes>"
      ]
     },
     "metadata": {
      "needs_background": "light"
     },
     "output_type": "display_data"
    }
   ],
   "source": [
    "plt.title('BMI Distribution')\n",
    "sns.boxplot(x=df_merged['BMI'])"
   ]
  },
  {
   "cell_type": "code",
   "execution_count": 110,
   "metadata": {},
   "outputs": [
    {
     "name": "stdout",
     "output_type": "stream",
     "text": [
      "Race/Hispanic origin : ['Non-Hispanic White' 'Non-Hispanic Black' 'Mexican American'\n",
      " 'Other Hispanic' 'Other Race - Including Multi-Racial']\n",
      "\n",
      "Gender : ['Male' 'Female']\n",
      "\n",
      "year : ['1999-2000' '2001-2002' '2003-2004' '2005-2006' '2007-2008' '2009-2010'\n",
      " '2011-2012' '2013-2014' '2015-2016' '2017-2018']\n",
      "\n",
      "Ever told had congestive heart failure : ['No' 'Yes' \"Don't know\"]\n",
      "\n",
      "Ever told you had coronary heart disease : ['No' 'Yes' \"Don't know\" 'Refused']\n",
      "\n",
      "Ever told you had angina/angina pectoris : ['No' 'Yes' \"Don't know\" 'Refused']\n",
      "\n",
      "Ever told you had heart attack : ['No' 'Yes' \"Don't know\" 'Refused']\n",
      "\n",
      "Ever told you had a stroke : ['No' 'Yes' \"Don't know\"]\n",
      "\n",
      "Do you now smoke cigarettes? : ['not given' 'Not at all' 'Every day' 'Some days' \"Don't know\" 'Refused']\n",
      "\n",
      "Doctor told you have diabetes : ['No' 'Yes' 'Borderline' \"Don't know\" 'not given' 'Refused']\n",
      "\n"
     ]
    }
   ],
   "source": [
    "\n",
    "for cols in df_merged.select_dtypes(exclude=np.number).columns:\n",
    "    print(cols, ':', df_merged[cols].unique(), end='\\n\\n')"
   ]
  },
  {
   "cell_type": "code",
   "execution_count": 111,
   "metadata": {},
   "outputs": [
    {
     "data": {
      "text/plain": [
       "55277"
      ]
     },
     "execution_count": 111,
     "metadata": {},
     "output_type": "execute_result"
    }
   ],
   "source": [
    "len(df_merged)"
   ]
  },
  {
   "cell_type": "code",
   "execution_count": 112,
   "metadata": {},
   "outputs": [
    {
     "data": {
      "text/plain": [
       "<matplotlib.collections.PathCollection at 0x16e2f687af0>"
      ]
     },
     "execution_count": 112,
     "metadata": {},
     "output_type": "execute_result"
    },
    {
     "data": {
      "image/png": "[encoded data removed]",
      "text/plain": [
       "<Figure size 432x288 with 1 Axes>"
      ]
     },
     "metadata": {
      "needs_background": "light"
     },
     "output_type": "display_data"
    }
   ],
   "source": [
    "plt.scatter(df_merged[\"Age in years at screening \"],df_merged[\"Cholesterol, refrigerated serum (mg/dL)\"])"
   ]
  },
  {
   "cell_type": "code",
   "execution_count": 113,
   "metadata": {},
   "outputs": [
    {
     "data": {
      "text/plain": [
       "<matplotlib.collections.PathCollection at 0x16e2f6ee250>"
      ]
     },
     "execution_count": 113,
     "metadata": {},
     "output_type": "execute_result"
    },
    {
     "data": {
      "image/png": "[encoded data removed]",
      "text/plain": [
       "<Figure size 432x288 with 1 Axes>"
      ]
     },
     "metadata": {
      "needs_background": "light"
     },
     "output_type": "display_data"
    }
   ],
   "source": [
    "plt.scatter(df_merged[\"How often drink alcohol over past 12 mos\"],df_merged[\"avg_systolic_blood_pres\"])"
   ]
  },
  {
   "cell_type": "code",
   "execution_count": 114,
   "metadata": {},
   "outputs": [
    {
     "data": {
      "text/plain": [
       "<matplotlib.collections.PathCollection at 0x16e2f731e20>"
      ]
     },
     "execution_count": 114,
     "metadata": {},
     "output_type": "execute_result"
    },
    {
     "data": {
      "image/png": "[encoded data removed]",
      "text/plain": [
       "<Figure size 432x288 with 1 Axes>"
      ]
     },
     "metadata": {
      "needs_background": "light"
     },
     "output_type": "display_data"
    }
   ],
   "source": [
    "plt.scatter(df_merged[\"How often drink alcohol over past 12 mos\"],df_merged[\"avg_diastolic_blood_pres\"])"
   ]
  },
  {
   "cell_type": "code",
   "execution_count": 115,
   "metadata": {},
   "outputs": [],
   "source": [
    "from sklearn.model_selection import train_test_split#splitting train and test data\n",
    "train, test = train_test_split(df_merged, test_size = 0.2,random_state = seed)"
   ]
  },
  {
   "cell_type": "code",
   "execution_count": 116,
   "metadata": {},
   "outputs": [
    {
     "data": {
      "text/plain": [
       "24"
      ]
     },
     "execution_count": 116,
     "metadata": {},
     "output_type": "execute_result"
    }
   ],
   "source": [
    "len(train.columns)"
   ]
  },
  {
   "cell_type": "code",
   "execution_count": 117,
   "metadata": {},
   "outputs": [
    {
     "data": {
      "text/html": [
       "<div>\n",
       "<style scoped>\n",
       "    .dataframe tbody tr th:only-of-type {\n",
       "        vertical-align: middle;\n",
       "    }\n",
       "\n",
       "    .dataframe tbody tr th {\n",
       "        vertical-align: top;\n",
       "    }\n",
       "\n",
       "    .dataframe thead th {\n",
       "        text-align: right;\n",
       "    }\n",
       "</style>\n",
       "<table border=\"1\" class=\"dataframe\">\n",
       "  <thead>\n",
       "    <tr style=\"text-align: right;\">\n",
       "      <th></th>\n",
       "      <th>Age in years at screening</th>\n",
       "      <th>Race/Hispanic origin</th>\n",
       "      <th>Ratio of family income to poverty</th>\n",
       "      <th>Gender</th>\n",
       "      <th>year</th>\n",
       "      <th>60 sec. pulse (30 sec. pulse * 2)</th>\n",
       "      <th>Weight (kg)</th>\n",
       "      <th>Standing Height (cm)</th>\n",
       "      <th>Waist Circumference (cm)</th>\n",
       "      <th>Arm Circumference (cm)</th>\n",
       "      <th>Ever told had congestive heart failure</th>\n",
       "      <th>Ever told you had coronary heart disease</th>\n",
       "      <th>Ever told you had angina/angina pectoris</th>\n",
       "      <th>Ever told you had heart attack</th>\n",
       "      <th>Ever told you had a stroke</th>\n",
       "      <th>Do you now smoke cigarettes?</th>\n",
       "      <th>Doctor told you have diabetes</th>\n",
       "      <th>How often drink alcohol over past 12 mos</th>\n",
       "      <th>Sodium (mmol/L)</th>\n",
       "      <th>Cholesterol, refrigerated serum (mg/dL)</th>\n",
       "      <th>avg_systolic_blood_pres</th>\n",
       "      <th>avg_diastolic_blood_pres</th>\n",
       "      <th>having_disease</th>\n",
       "      <th>BMI</th>\n",
       "    </tr>\n",
       "    <tr>\n",
       "      <th>SEQN</th>\n",
       "      <th></th>\n",
       "      <th></th>\n",
       "      <th></th>\n",
       "      <th></th>\n",
       "      <th></th>\n",
       "      <th></th>\n",
       "      <th></th>\n",
       "      <th></th>\n",
       "      <th></th>\n",
       "      <th></th>\n",
       "      <th></th>\n",
       "      <th></th>\n",
       "      <th></th>\n",
       "      <th></th>\n",
       "      <th></th>\n",
       "      <th></th>\n",
       "      <th></th>\n",
       "      <th></th>\n",
       "      <th></th>\n",
       "      <th></th>\n",
       "      <th></th>\n",
       "      <th></th>\n",
       "      <th></th>\n",
       "      <th></th>\n",
       "    </tr>\n",
       "  </thead>\n",
       "  <tbody>\n",
       "    <tr>\n",
       "      <th>5588</th>\n",
       "      <td>21.0</td>\n",
       "      <td>Mexican American</td>\n",
       "      <td>2.40</td>\n",
       "      <td>Female</td>\n",
       "      <td>1999-2000</td>\n",
       "      <td>88.0</td>\n",
       "      <td>84.9</td>\n",
       "      <td>168.2</td>\n",
       "      <td>100.0</td>\n",
       "      <td>33.5</td>\n",
       "      <td>No</td>\n",
       "      <td>No</td>\n",
       "      <td>No</td>\n",
       "      <td>No</td>\n",
       "      <td>No</td>\n",
       "      <td>Not at all</td>\n",
       "      <td>No</td>\n",
       "      <td>3.000000e+00</td>\n",
       "      <td>133.8</td>\n",
       "      <td>215.0</td>\n",
       "      <td>120.000000</td>\n",
       "      <td>63.333333</td>\n",
       "      <td>0</td>\n",
       "      <td>30.009289</td>\n",
       "    </tr>\n",
       "    <tr>\n",
       "      <th>48821</th>\n",
       "      <td>51.0</td>\n",
       "      <td>Mexican American</td>\n",
       "      <td>0.97</td>\n",
       "      <td>Female</td>\n",
       "      <td>2007-2008</td>\n",
       "      <td>108.0</td>\n",
       "      <td>112.6</td>\n",
       "      <td>165.2</td>\n",
       "      <td>129.6</td>\n",
       "      <td>40.8</td>\n",
       "      <td>No</td>\n",
       "      <td>No</td>\n",
       "      <td>No</td>\n",
       "      <td>No</td>\n",
       "      <td>No</td>\n",
       "      <td>Not at all</td>\n",
       "      <td>No</td>\n",
       "      <td>5.397605e-79</td>\n",
       "      <td>135.0</td>\n",
       "      <td>179.0</td>\n",
       "      <td>120.666667</td>\n",
       "      <td>62.000000</td>\n",
       "      <td>0</td>\n",
       "      <td>41.258963</td>\n",
       "    </tr>\n",
       "    <tr>\n",
       "      <th>76109</th>\n",
       "      <td>36.0</td>\n",
       "      <td>Other Race - Including Multi-Racial</td>\n",
       "      <td>2.12</td>\n",
       "      <td>Male</td>\n",
       "      <td>2013-2014</td>\n",
       "      <td>56.0</td>\n",
       "      <td>222.6</td>\n",
       "      <td>181.0</td>\n",
       "      <td>NaN</td>\n",
       "      <td>57.2</td>\n",
       "      <td>No</td>\n",
       "      <td>No</td>\n",
       "      <td>No</td>\n",
       "      <td>No</td>\n",
       "      <td>No</td>\n",
       "      <td>not given</td>\n",
       "      <td>Borderline</td>\n",
       "      <td>5.397605e-79</td>\n",
       "      <td>139.0</td>\n",
       "      <td>232.0</td>\n",
       "      <td>132.000000</td>\n",
       "      <td>78.666667</td>\n",
       "      <td>0</td>\n",
       "      <td>67.946644</td>\n",
       "    </tr>\n",
       "    <tr>\n",
       "      <th>71223</th>\n",
       "      <td>25.0</td>\n",
       "      <td>Non-Hispanic Black</td>\n",
       "      <td>0.82</td>\n",
       "      <td>Female</td>\n",
       "      <td>2011-2012</td>\n",
       "      <td>68.0</td>\n",
       "      <td>62.4</td>\n",
       "      <td>170.5</td>\n",
       "      <td>NaN</td>\n",
       "      <td>NaN</td>\n",
       "      <td>No</td>\n",
       "      <td>No</td>\n",
       "      <td>No</td>\n",
       "      <td>No</td>\n",
       "      <td>No</td>\n",
       "      <td>not given</td>\n",
       "      <td>No</td>\n",
       "      <td>NaN</td>\n",
       "      <td>135.0</td>\n",
       "      <td>176.0</td>\n",
       "      <td>118.666667</td>\n",
       "      <td>53.333333</td>\n",
       "      <td>0</td>\n",
       "      <td>21.465244</td>\n",
       "    </tr>\n",
       "    <tr>\n",
       "      <th>101360</th>\n",
       "      <td>46.0</td>\n",
       "      <td>Non-Hispanic White</td>\n",
       "      <td>1.93</td>\n",
       "      <td>Male</td>\n",
       "      <td>2017-2018</td>\n",
       "      <td>74.0</td>\n",
       "      <td>85.5</td>\n",
       "      <td>171.5</td>\n",
       "      <td>99.1</td>\n",
       "      <td>32.4</td>\n",
       "      <td>No</td>\n",
       "      <td>No</td>\n",
       "      <td>No</td>\n",
       "      <td>No</td>\n",
       "      <td>No</td>\n",
       "      <td>not given</td>\n",
       "      <td>No</td>\n",
       "      <td>NaN</td>\n",
       "      <td>144.0</td>\n",
       "      <td>196.0</td>\n",
       "      <td>143.333333</td>\n",
       "      <td>98.000000</td>\n",
       "      <td>0</td>\n",
       "      <td>29.069520</td>\n",
       "    </tr>\n",
       "  </tbody>\n",
       "</table>\n",
       "</div>"
      ],
      "text/plain": [
       "        Age in years at screening                  Race/Hispanic origin  \\\n",
       "SEQN                                                                      \n",
       "5588                          21.0                     Mexican American   \n",
       "48821                         51.0                     Mexican American   \n",
       "76109                         36.0  Other Race - Including Multi-Racial   \n",
       "71223                         25.0                   Non-Hispanic Black   \n",
       "101360                        46.0                   Non-Hispanic White   \n",
       "\n",
       "        Ratio of family income to poverty  Gender       year  \\\n",
       "SEQN                                                           \n",
       "5588                                 2.40  Female  1999-2000   \n",
       "48821                                0.97  Female  2007-2008   \n",
       "76109                                2.12    Male  2013-2014   \n",
       "71223                                0.82  Female  2011-2012   \n",
       "101360                               1.93    Male  2017-2018   \n",
       "\n",
       "        60 sec. pulse (30 sec. pulse * 2)  Weight (kg)  Standing Height (cm)  \\\n",
       "SEQN                                                                           \n",
       "5588                                 88.0         84.9                 168.2   \n",
       "48821                               108.0        112.6                 165.2   \n",
       "76109                                56.0        222.6                 181.0   \n",
       "71223                                68.0         62.4                 170.5   \n",
       "101360                               74.0         85.5                 171.5   \n",
       "\n",
       "        Waist Circumference (cm)  Arm Circumference (cm)  \\\n",
       "SEQN                                                       \n",
       "5588                       100.0                    33.5   \n",
       "48821                      129.6                    40.8   \n",
       "76109                        NaN                    57.2   \n",
       "71223                        NaN                     NaN   \n",
       "101360                      99.1                    32.4   \n",
       "\n",
       "       Ever told had congestive heart failure  \\\n",
       "SEQN                                            \n",
       "5588                                       No   \n",
       "48821                                      No   \n",
       "76109                                      No   \n",
       "71223                                      No   \n",
       "101360                                     No   \n",
       "\n",
       "       Ever told you had coronary heart disease  \\\n",
       "SEQN                                              \n",
       "5588                                         No   \n",
       "48821                                        No   \n",
       "76109                                        No   \n",
       "71223                                        No   \n",
       "101360                                       No   \n",
       "\n",
       "       Ever told you had angina/angina pectoris  \\\n",
       "SEQN                                              \n",
       "5588                                         No   \n",
       "48821                                        No   \n",
       "76109                                        No   \n",
       "71223                                        No   \n",
       "101360                                       No   \n",
       "\n",
       "       Ever told you had heart attack Ever told you had a stroke  \\\n",
       "SEQN                                                               \n",
       "5588                               No                         No   \n",
       "48821                              No                         No   \n",
       "76109                              No                         No   \n",
       "71223                              No                         No   \n",
       "101360                             No                         No   \n",
       "\n",
       "       Do you now smoke cigarettes? Doctor told you have diabetes  \\\n",
       "SEQN                                                                \n",
       "5588                     Not at all                            No   \n",
       "48821                    Not at all                            No   \n",
       "76109                     not given                    Borderline   \n",
       "71223                     not given                            No   \n",
       "101360                    not given                            No   \n",
       "\n",
       "        How often drink alcohol over past 12 mos  Sodium (mmol/L)  \\\n",
       "SEQN                                                                \n",
       "5588                                3.000000e+00            133.8   \n",
       "48821                               5.397605e-79            135.0   \n",
       "76109                               5.397605e-79            139.0   \n",
       "71223                                        NaN            135.0   \n",
       "101360                                       NaN            144.0   \n",
       "\n",
       "        Cholesterol, refrigerated serum (mg/dL)  avg_systolic_blood_pres  \\\n",
       "SEQN                                                                       \n",
       "5588                                      215.0               120.000000   \n",
       "48821                                     179.0               120.666667   \n",
       "76109                                     232.0               132.000000   \n",
       "71223                                     176.0               118.666667   \n",
       "101360                                    196.0               143.333333   \n",
       "\n",
       "        avg_diastolic_blood_pres  having_disease        BMI  \n",
       "SEQN                                                         \n",
       "5588                   63.333333               0  30.009289  \n",
       "48821                  62.000000               0  41.258963  \n",
       "76109                  78.666667               0  67.946644  \n",
       "71223                  53.333333               0  21.465244  \n",
       "101360                 98.000000               0  29.069520  "
      ]
     },
     "execution_count": 117,
     "metadata": {},
     "output_type": "execute_result"
    }
   ],
   "source": [
    "train.head()"
   ]
  },
  {
   "cell_type": "code",
   "execution_count": 118,
   "metadata": {},
   "outputs": [
    {
     "data": {
      "image/png": "[encoded data removed]",
      "text/plain": [
       "<Figure size 812.25x360 with 2 Axes>"
      ]
     },
     "metadata": {
      "needs_background": "light"
     },
     "output_type": "display_data"
    }
   ],
   "source": [
    "df_long = pd.melt(df_merged, id_vars=['having_disease'], value_vars=['Ever told you had angina/angina pectoris'])\n",
    "sns.catplot(x=\"variable\", hue=\"value\", col=\"having_disease\",\n",
    "                data=df_long, kind=\"count\");"
   ]
  },
  {
   "cell_type": "code",
   "execution_count": 119,
   "metadata": {},
   "outputs": [
    {
     "data": {
      "image/png": "[encoded data removed]",
      "text/plain": [
       "<Figure size 812.25x360 with 2 Axes>"
      ]
     },
     "metadata": {
      "needs_background": "light"
     },
     "output_type": "display_data"
    }
   ],
   "source": [
    "df_long = pd.melt(df_merged, id_vars=['having_disease'], value_vars=['Doctor told you have diabetes'])\n",
    "sns.catplot(x=\"variable\", hue=\"value\", col=\"having_disease\",\n",
    "                data=df_long, kind=\"count\");\n"
   ]
  },
  {
   "cell_type": "code",
   "execution_count": 120,
   "metadata": {},
   "outputs": [
    {
     "data": {
      "image/png": "[encoded data removed]",
      "text/plain": [
       "<Figure size 812.25x360 with 2 Axes>"
      ]
     },
     "metadata": {
      "needs_background": "light"
     },
     "output_type": "display_data"
    }
   ],
   "source": [
    "df_long = pd.melt(df_merged, id_vars=['having_disease'], value_vars=['Do you now smoke cigarettes?'])\n",
    "sns.catplot(x=\"variable\", hue=\"value\", col=\"having_disease\",\n",
    "                data=df_long, kind=\"count\");"
   ]
  },
  {
   "cell_type": "code",
   "execution_count": 121,
   "metadata": {},
   "outputs": [
    {
     "data": {
      "image/png": "[encoded data removed]",
      "text/plain": [
       "<Figure size 792x648 with 2 Axes>"
      ]
     },
     "metadata": {
      "needs_background": "light"
     },
     "output_type": "display_data"
    }
   ],
   "source": [
    "corr = df_merged.corr()\n",
    "cmap = sns.diverging_palette(220, 10, as_cmap=True)\n",
    "# Generate a mask for the upper triangle\n",
    "mask = np.zeros_like(corr, dtype=np.bool)\n",
    "mask[np.triu_indices_from(mask)] = True\n",
    "\n",
    "# Set up the matplotlib figure\n",
    "f, ax = plt.subplots(figsize=(11, 9))\n",
    "# Draw the heatmap with the mask and correct aspect ratio\n",
    "sns.heatmap(corr, mask=mask, cmap=cmap, vmax=.3, center=0,annot = True,\n",
    "            square=True, linewidths=.5, cbar_kws={\"shrink\": .5});"
   ]
  },
  {
   "cell_type": "code",
   "execution_count": 122,
   "metadata": {},
   "outputs": [
    {
     "data": {
      "image/png": "[encoded data removed]",
      "text/plain": [
       "<Figure size 1168.62x720 with 2 Axes>"
      ]
     },
     "metadata": {
      "needs_background": "light"
     },
     "output_type": "display_data"
    }
   ],
   "source": [
    "sns.catplot(x=\"Gender\", y=\"BMI\", hue=\"Do you now smoke cigarettes?\", col=\"having_disease\", data=df_merged, color = \"yellow\",kind=\"box\", height=10, aspect=.7);"
   ]
  },
  {
   "cell_type": "code",
   "execution_count": 123,
   "metadata": {},
   "outputs": [
    {
     "data": {
      "text/plain": [
       "24"
      ]
     },
     "execution_count": 123,
     "metadata": {},
     "output_type": "execute_result"
    }
   ],
   "source": [
    "len(test.columns)"
   ]
  },
  {
   "cell_type": "code",
   "execution_count": 124,
   "metadata": {},
   "outputs": [
    {
     "data": {
      "text/html": [
       "<div>\n",
       "<style scoped>\n",
       "    .dataframe tbody tr th:only-of-type {\n",
       "        vertical-align: middle;\n",
       "    }\n",
       "\n",
       "    .dataframe tbody tr th {\n",
       "        vertical-align: top;\n",
       "    }\n",
       "\n",
       "    .dataframe thead th {\n",
       "        text-align: right;\n",
       "    }\n",
       "</style>\n",
       "<table border=\"1\" class=\"dataframe\">\n",
       "  <thead>\n",
       "    <tr style=\"text-align: right;\">\n",
       "      <th></th>\n",
       "      <th>Age in years at screening</th>\n",
       "      <th>Race/Hispanic origin</th>\n",
       "      <th>Ratio of family income to poverty</th>\n",
       "      <th>Gender</th>\n",
       "      <th>year</th>\n",
       "      <th>60 sec. pulse (30 sec. pulse * 2)</th>\n",
       "      <th>Weight (kg)</th>\n",
       "      <th>Standing Height (cm)</th>\n",
       "      <th>Waist Circumference (cm)</th>\n",
       "      <th>Arm Circumference (cm)</th>\n",
       "      <th>Ever told had congestive heart failure</th>\n",
       "      <th>Ever told you had coronary heart disease</th>\n",
       "      <th>Ever told you had angina/angina pectoris</th>\n",
       "      <th>Ever told you had heart attack</th>\n",
       "      <th>Ever told you had a stroke</th>\n",
       "      <th>Do you now smoke cigarettes?</th>\n",
       "      <th>Doctor told you have diabetes</th>\n",
       "      <th>How often drink alcohol over past 12 mos</th>\n",
       "      <th>Sodium (mmol/L)</th>\n",
       "      <th>Cholesterol, refrigerated serum (mg/dL)</th>\n",
       "      <th>avg_systolic_blood_pres</th>\n",
       "      <th>avg_diastolic_blood_pres</th>\n",
       "      <th>having_disease</th>\n",
       "      <th>BMI</th>\n",
       "    </tr>\n",
       "    <tr>\n",
       "      <th>SEQN</th>\n",
       "      <th></th>\n",
       "      <th></th>\n",
       "      <th></th>\n",
       "      <th></th>\n",
       "      <th></th>\n",
       "      <th></th>\n",
       "      <th></th>\n",
       "      <th></th>\n",
       "      <th></th>\n",
       "      <th></th>\n",
       "      <th></th>\n",
       "      <th></th>\n",
       "      <th></th>\n",
       "      <th></th>\n",
       "      <th></th>\n",
       "      <th></th>\n",
       "      <th></th>\n",
       "      <th></th>\n",
       "      <th></th>\n",
       "      <th></th>\n",
       "      <th></th>\n",
       "      <th></th>\n",
       "      <th></th>\n",
       "      <th></th>\n",
       "    </tr>\n",
       "  </thead>\n",
       "  <tbody>\n",
       "    <tr>\n",
       "      <th>14900</th>\n",
       "      <td>25.0</td>\n",
       "      <td>Other Hispanic</td>\n",
       "      <td>1.21</td>\n",
       "      <td>Female</td>\n",
       "      <td>2001-2002</td>\n",
       "      <td>70.0</td>\n",
       "      <td>77.8</td>\n",
       "      <td>153.4</td>\n",
       "      <td>93.8</td>\n",
       "      <td>36.5</td>\n",
       "      <td>No</td>\n",
       "      <td>No</td>\n",
       "      <td>No</td>\n",
       "      <td>No</td>\n",
       "      <td>No</td>\n",
       "      <td>not given</td>\n",
       "      <td>No</td>\n",
       "      <td>NaN</td>\n",
       "      <td>NaN</td>\n",
       "      <td>NaN</td>\n",
       "      <td>104.666667</td>\n",
       "      <td>68.666667</td>\n",
       "      <td>0</td>\n",
       "      <td>33.061981</td>\n",
       "    </tr>\n",
       "    <tr>\n",
       "      <th>28413</th>\n",
       "      <td>25.0</td>\n",
       "      <td>Non-Hispanic White</td>\n",
       "      <td>5.00</td>\n",
       "      <td>Male</td>\n",
       "      <td>2003-2004</td>\n",
       "      <td>58.0</td>\n",
       "      <td>86.5</td>\n",
       "      <td>189.3</td>\n",
       "      <td>91.5</td>\n",
       "      <td>37.0</td>\n",
       "      <td>No</td>\n",
       "      <td>No</td>\n",
       "      <td>No</td>\n",
       "      <td>No</td>\n",
       "      <td>No</td>\n",
       "      <td>not given</td>\n",
       "      <td>No</td>\n",
       "      <td>1.000000e+00</td>\n",
       "      <td>140.0</td>\n",
       "      <td>236.0</td>\n",
       "      <td>102.000000</td>\n",
       "      <td>66.000000</td>\n",
       "      <td>0</td>\n",
       "      <td>24.138756</td>\n",
       "    </tr>\n",
       "    <tr>\n",
       "      <th>102445</th>\n",
       "      <td>80.0</td>\n",
       "      <td>Mexican American</td>\n",
       "      <td>1.03</td>\n",
       "      <td>Female</td>\n",
       "      <td>2017-2018</td>\n",
       "      <td>70.0</td>\n",
       "      <td>56.2</td>\n",
       "      <td>153.5</td>\n",
       "      <td>100.8</td>\n",
       "      <td>24.5</td>\n",
       "      <td>No</td>\n",
       "      <td>No</td>\n",
       "      <td>No</td>\n",
       "      <td>No</td>\n",
       "      <td>No</td>\n",
       "      <td>Not at all</td>\n",
       "      <td>No</td>\n",
       "      <td>NaN</td>\n",
       "      <td>142.0</td>\n",
       "      <td>146.0</td>\n",
       "      <td>138.000000</td>\n",
       "      <td>50.000000</td>\n",
       "      <td>0</td>\n",
       "      <td>23.851712</td>\n",
       "    </tr>\n",
       "    <tr>\n",
       "      <th>54303</th>\n",
       "      <td>56.0</td>\n",
       "      <td>Non-Hispanic White</td>\n",
       "      <td>0.57</td>\n",
       "      <td>Female</td>\n",
       "      <td>2009-2010</td>\n",
       "      <td>68.0</td>\n",
       "      <td>68.4</td>\n",
       "      <td>178.1</td>\n",
       "      <td>84.9</td>\n",
       "      <td>27.8</td>\n",
       "      <td>No</td>\n",
       "      <td>No</td>\n",
       "      <td>No</td>\n",
       "      <td>No</td>\n",
       "      <td>No</td>\n",
       "      <td>not given</td>\n",
       "      <td>No</td>\n",
       "      <td>2.000000e+00</td>\n",
       "      <td>141.0</td>\n",
       "      <td>178.0</td>\n",
       "      <td>124.666667</td>\n",
       "      <td>62.666667</td>\n",
       "      <td>0</td>\n",
       "      <td>21.563947</td>\n",
       "    </tr>\n",
       "    <tr>\n",
       "      <th>77663</th>\n",
       "      <td>61.0</td>\n",
       "      <td>Other Race - Including Multi-Racial</td>\n",
       "      <td>2.20</td>\n",
       "      <td>Male</td>\n",
       "      <td>2013-2014</td>\n",
       "      <td>54.0</td>\n",
       "      <td>71.0</td>\n",
       "      <td>157.7</td>\n",
       "      <td>102.3</td>\n",
       "      <td>29.7</td>\n",
       "      <td>No</td>\n",
       "      <td>No</td>\n",
       "      <td>No</td>\n",
       "      <td>No</td>\n",
       "      <td>No</td>\n",
       "      <td>Not at all</td>\n",
       "      <td>No</td>\n",
       "      <td>5.397605e-79</td>\n",
       "      <td>141.0</td>\n",
       "      <td>225.0</td>\n",
       "      <td>152.000000</td>\n",
       "      <td>80.000000</td>\n",
       "      <td>0</td>\n",
       "      <td>28.549267</td>\n",
       "    </tr>\n",
       "  </tbody>\n",
       "</table>\n",
       "</div>"
      ],
      "text/plain": [
       "        Age in years at screening                  Race/Hispanic origin  \\\n",
       "SEQN                                                                      \n",
       "14900                         25.0                       Other Hispanic   \n",
       "28413                         25.0                   Non-Hispanic White   \n",
       "102445                        80.0                     Mexican American   \n",
       "54303                         56.0                   Non-Hispanic White   \n",
       "77663                         61.0  Other Race - Including Multi-Racial   \n",
       "\n",
       "        Ratio of family income to poverty  Gender       year  \\\n",
       "SEQN                                                           \n",
       "14900                                1.21  Female  2001-2002   \n",
       "28413                                5.00    Male  2003-2004   \n",
       "102445                               1.03  Female  2017-2018   \n",
       "54303                                0.57  Female  2009-2010   \n",
       "77663                                2.20    Male  2013-2014   \n",
       "\n",
       "        60 sec. pulse (30 sec. pulse * 2)  Weight (kg)  Standing Height (cm)  \\\n",
       "SEQN                                                                           \n",
       "14900                                70.0         77.8                 153.4   \n",
       "28413                                58.0         86.5                 189.3   \n",
       "102445                               70.0         56.2                 153.5   \n",
       "54303                                68.0         68.4                 178.1   \n",
       "77663                                54.0         71.0                 157.7   \n",
       "\n",
       "        Waist Circumference (cm)  Arm Circumference (cm)  \\\n",
       "SEQN                                                       \n",
       "14900                       93.8                    36.5   \n",
       "28413                       91.5                    37.0   \n",
       "102445                     100.8                    24.5   \n",
       "54303                       84.9                    27.8   \n",
       "77663                      102.3                    29.7   \n",
       "\n",
       "       Ever told had congestive heart failure  \\\n",
       "SEQN                                            \n",
       "14900                                      No   \n",
       "28413                                      No   \n",
       "102445                                     No   \n",
       "54303                                      No   \n",
       "77663                                      No   \n",
       "\n",
       "       Ever told you had coronary heart disease  \\\n",
       "SEQN                                              \n",
       "14900                                        No   \n",
       "28413                                        No   \n",
       "102445                                       No   \n",
       "54303                                        No   \n",
       "77663                                        No   \n",
       "\n",
       "       Ever told you had angina/angina pectoris  \\\n",
       "SEQN                                              \n",
       "14900                                        No   \n",
       "28413                                        No   \n",
       "102445                                       No   \n",
       "54303                                        No   \n",
       "77663                                        No   \n",
       "\n",
       "       Ever told you had heart attack Ever told you had a stroke  \\\n",
       "SEQN                                                               \n",
       "14900                              No                         No   \n",
       "28413                              No                         No   \n",
       "102445                             No                         No   \n",
       "54303                              No                         No   \n",
       "77663                              No                         No   \n",
       "\n",
       "       Do you now smoke cigarettes? Doctor told you have diabetes  \\\n",
       "SEQN                                                                \n",
       "14900                     not given                            No   \n",
       "28413                     not given                            No   \n",
       "102445                   Not at all                            No   \n",
       "54303                     not given                            No   \n",
       "77663                    Not at all                            No   \n",
       "\n",
       "        How often drink alcohol over past 12 mos  Sodium (mmol/L)  \\\n",
       "SEQN                                                                \n",
       "14900                                        NaN              NaN   \n",
       "28413                               1.000000e+00            140.0   \n",
       "102445                                       NaN            142.0   \n",
       "54303                               2.000000e+00            141.0   \n",
       "77663                               5.397605e-79            141.0   \n",
       "\n",
       "        Cholesterol, refrigerated serum (mg/dL)  avg_systolic_blood_pres  \\\n",
       "SEQN                                                                       \n",
       "14900                                       NaN               104.666667   \n",
       "28413                                     236.0               102.000000   \n",
       "102445                                    146.0               138.000000   \n",
       "54303                                     178.0               124.666667   \n",
       "77663                                     225.0               152.000000   \n",
       "\n",
       "        avg_diastolic_blood_pres  having_disease        BMI  \n",
       "SEQN                                                         \n",
       "14900                  68.666667               0  33.061981  \n",
       "28413                  66.000000               0  24.138756  \n",
       "102445                 50.000000               0  23.851712  \n",
       "54303                  62.666667               0  21.563947  \n",
       "77663                  80.000000               0  28.549267  "
      ]
     },
     "execution_count": 124,
     "metadata": {},
     "output_type": "execute_result"
    }
   ],
   "source": [
    "test.head()"
   ]
  },
  {
   "cell_type": "code",
   "execution_count": 125,
   "metadata": {},
   "outputs": [],
   "source": [
    "from sklearn.impute import SimpleImputer\n",
    "from sklearn.preprocessing import OrdinalEncoder, OneHotEncoder, MinMaxScaler, StandardScaler\n",
    "from sklearn.compose import ColumnTransformer\n",
    "from sklearn.pipeline import Pipeline\n",
    "num_pipeline = Pipeline([(\"imputer\", SimpleImputer(strategy=\"median\")),\n",
    "                         (\"scaler\", StandardScaler())])\n",
    "cat_pipeline = Pipeline([(\"imputer\", SimpleImputer(strategy=\"most_frequent\")),\n",
    "                         (\"onehot\", OneHotEncoder())])"
   ]
  },
  {
   "cell_type": "code",
   "execution_count": 126,
   "metadata": {},
   "outputs": [],
   "source": [
    "col_transform = ColumnTransformer([(\"num\", num_pipeline, [\"avg_systolic_blood_pres\", \"Cholesterol, refrigerated serum (mg/dL)\",\"Ratio of family income to poverty\",\"60 sec. pulse (30 sec. pulse * 2)\",\"How often drink alcohol over past 12 mos\",\"Sodium (mmol/L)\",\"avg_diastolic_blood_pres\"]),\n",
    "                                   (\"cat\", cat_pipeline, [\"Race/Hispanic origin\", \"Gender\",\"Ever told you had angina/angina pectoris\",\"Do you now smoke cigarettes?\",\"Doctor told you have diabetes\"])])"
   ]
  },
  {
   "cell_type": "code",
   "execution_count": 128,
   "metadata": {},
   "outputs": [],
   "source": [
    "X_train = col_transform.fit_transform(train.drop(\"having_disease\", axis=1))\n",
    "X_test = col_transform.transform(test.drop(\"having_disease\", axis=1))\n",
    "#X_test = col_transform.transform(test)\n",
    "\n",
    "y_train = train[\"having_disease\"]\n",
    "y_test = test[\"having_disease\"]\n"
   ]
  },
  {
   "cell_type": "code",
   "execution_count": 129,
   "metadata": {},
   "outputs": [
    {
     "name": "stdout",
     "output_type": "stream",
     "text": [
      "DecisionTree score: 0.6050\n",
      "RandomForest score: 0.7912\n",
      "KNN average score: 0.6916\n",
      "Logistic score: 0.7994\n",
      "0:00:51.792410\n"
     ]
    }
   ],
   "source": [
    "start = datetime.now()\n",
    "from numpy import mean\n",
    "from sklearn.datasets import make_classification\n",
    "from sklearn.model_selection import cross_val_score\n",
    "from sklearn.model_selection import RepeatedStratifiedKFold\n",
    "from sklearn.tree import DecisionTreeClassifier\n",
    "from sklearn.ensemble import RandomForestClassifier\n",
    "from sklearn.neighbors import KNeighborsClassifier\n",
    "from sklearn.neural_network import MLPClassifier\n",
    "from sklearn.linear_model import LogisticRegression\n",
    "\n",
    "\n",
    "baseline_model = DecisionTreeClassifier(random_state=seed)\n",
    "cv = RepeatedStratifiedKFold(n_splits=5, n_repeats=1, random_state=seed)\n",
    "DT_scores = cross_val_score(baseline_model,X_train,y_train, scoring='roc_auc', cv=cv, n_jobs=-1)\n",
    "\n",
    "baseline_model = RandomForestClassifier(random_state=seed)\n",
    "cv = RepeatedStratifiedKFold(n_splits=5, n_repeats=1, random_state=seed)\n",
    "RF_scores = cross_val_score(baseline_model,X_train,y_train, scoring='roc_auc', cv=cv, n_jobs=-1)\n",
    "\n",
    "baseline_model = KNeighborsClassifier(n_neighbors=5)\n",
    "cv = RepeatedStratifiedKFold(n_splits=5, n_repeats=1, random_state=seed)\n",
    "KNN_scores = cross_val_score(baseline_model,X_train,y_train, scoring='roc_auc', cv=cv, n_jobs=-1)\n",
    "\n",
    "baseline_model = LogisticRegression(random_state=seed)\n",
    "cv = RepeatedStratifiedKFold(n_splits=5, n_repeats=1, random_state=seed)\n",
    "Logistic_scores = cross_val_score(baseline_model,X_train,y_train, scoring='roc_auc', cv=cv, n_jobs=-1)\n",
    "\n",
    "\n",
    "\n",
    "print('DecisionTree score: %.4f' % mean(DT_scores))\n",
    "print('RandomForest score: %.4f' % mean(RF_scores))\n",
    "print('KNN average score: %.4f' % mean(KNN_scores))\n",
    "print('Logistic score: %.4f' % mean(Logistic_scores))\n",
    "\n",
    "print(datetime.now()-start)"
   ]
  },
  {
   "cell_type": "code",
   "execution_count": 130,
   "metadata": {},
   "outputs": [],
   "source": [
    "#train_features = train.drop([\"having_disease\"], axis=1)\n",
    "#y_train = train[\"having_disease\"].copy()"
   ]
  },
  {
   "cell_type": "code",
   "execution_count": 131,
   "metadata": {},
   "outputs": [],
   "source": [
    "from sklearn.pipeline import Pipeline\n",
    "from sklearn.preprocessing import StandardScaler, MinMaxScaler\n",
    "from sklearn.model_selection import GridSearchCV, StratifiedShuffleSplit, StratifiedKFold\n",
    "from sklearn.metrics import accuracy_score,precision_score,recall_score,f1_score,classification_report\n",
    "from sklearn.metrics import roc_auc_score"
   ]
  },
  {
   "cell_type": "code",
   "execution_count": 132,
   "metadata": {},
   "outputs": [
    {
     "name": "stdout",
     "output_type": "stream",
     "text": [
      "Mean ROC AUC: 0.6322\n"
     ]
    }
   ],
   "source": [
    "start = datetime.now()\n",
    "from imblearn.over_sampling import SMOTE\n",
    "from imblearn.under_sampling import RandomUnderSampler\n",
    "from imblearn.pipeline import Pipeline\n",
    "\n",
    "model = DecisionTreeClassifier(random_state=0)\n",
    "\n",
    "over = SMOTE(sampling_strategy=0.3, random_state=0)\n",
    "under = RandomUnderSampler(sampling_strategy=0.5, random_state=0)\n",
    "steps = [('over', over), ('under', under), ('model', model)]\n",
    "pipe = Pipeline(steps=steps)\n",
    "\n",
    "cv = RepeatedStratifiedKFold(n_splits=5, n_repeats=1, random_state=1)\n",
    "\n",
    "scores = cross_val_score(pipe, X_train, y_train, scoring='roc_auc', cv=cv, n_jobs=-1)\n",
    "print('Mean ROC AUC: %.4f' % mean(scores))"
   ]
  },
  {
   "cell_type": "code",
   "execution_count": 133,
   "metadata": {},
   "outputs": [
    {
     "name": "stdout",
     "output_type": "stream",
     "text": [
      "0:04:06.459479\n"
     ]
    }
   ],
   "source": [
    "start = datetime.now()\n",
    "from imblearn.over_sampling import SMOTE\n",
    "from imblearn.under_sampling import RandomUnderSampler\n",
    "from imblearn.pipeline import Pipeline\n",
    "\n",
    "\n",
    "over = SMOTE(sampling_strategy=0.3,random_state=0)\n",
    "under = RandomUnderSampler(sampling_strategy=0.5, random_state=0)\n",
    "steps = [('over', over), ('under', under),(\"scaler\", MinMaxScaler()),(\"classifier\", KNeighborsClassifier())]\n",
    "pipeline_kNN = Pipeline(steps=steps)\n",
    "\n",
    "parameters_grid_kNN = {'classifier__n_neighbors': range(1,6)}\n",
    "\n",
    "grid_cv_kNN = GridSearchCV(pipeline_kNN, parameters_grid_kNN, scoring = 'roc_auc', n_jobs=-1, return_train_score=True,\n",
    "                                                  cv = RepeatedStratifiedKFold(n_splits=5,n_repeats=1, random_state=seed ))\n",
    "\n",
    "\n",
    "grid_cv_kNN.fit(X_train, y_train)\n",
    "\n",
    "print(datetime.now()-start)"
   ]
  },
  {
   "cell_type": "code",
   "execution_count": 134,
   "metadata": {},
   "outputs": [
    {
     "name": "stdout",
     "output_type": "stream",
     "text": [
      "k-NN optimal parameters:  {'classifier__n_neighbors': 5}\n"
     ]
    }
   ],
   "source": [
    "print('k-NN optimal parameters: ', grid_cv_kNN.best_params_)"
   ]
  },
  {
   "cell_type": "code",
   "execution_count": 135,
   "metadata": {},
   "outputs": [
    {
     "name": "stdout",
     "output_type": "stream",
     "text": [
      "k-NN train AUC:  0.9051087891766985\n",
      "k-NN test AUC:  0.7388651798541053\n"
     ]
    }
   ],
   "source": [
    "print('k-NN train AUC: ',roc_auc_score(y_train, grid_cv_kNN.predict_proba(X_train)[:,1]))\n",
    "print('k-NN test AUC: ', roc_auc_score(y_test, grid_cv_kNN.predict_proba(X_test)[:,1]))"
   ]
  },
  {
   "cell_type": "code",
   "execution_count": 136,
   "metadata": {},
   "outputs": [
    {
     "name": "stdout",
     "output_type": "stream",
     "text": [
      "0:01:16.144358\n"
     ]
    },
    {
     "name": "stderr",
     "output_type": "stream",
     "text": [
      "C:\\Users\\poorn\\anaconda3\\lib\\site-packages\\sklearn\\linear_model\\_logistic.py:762: ConvergenceWarning: lbfgs failed to converge (status=1):\n",
      "STOP: TOTAL NO. of ITERATIONS REACHED LIMIT.\n",
      "\n",
      "Increase the number of iterations (max_iter) or scale the data as shown in:\n",
      "    https://scikit-learn.org/stable/modules/preprocessing.html\n",
      "Please also refer to the documentation for alternative solver options:\n",
      "    https://scikit-learn.org/stable/modules/linear_model.html#logistic-regression\n",
      "  n_iter_i = _check_optimize_result(\n"
     ]
    }
   ],
   "source": [
    "start = datetime.now()\n",
    "from imblearn.over_sampling import SMOTE\n",
    "from imblearn.under_sampling import RandomUnderSampler\n",
    "from imblearn.pipeline import Pipeline\n",
    "\n",
    "over = SMOTE(sampling_strategy=0.3,random_state=0)\n",
    "under = RandomUnderSampler(sampling_strategy=0.5, random_state=0)\n",
    "steps = [('over', over), ('under', under),(\"scaler\", MinMaxScaler()),(\"classifier\", LogisticRegression())]\n",
    "pipeline_logistic = Pipeline(steps=steps)\n",
    "\n",
    "parameters_grid_logistic = {'classifier__penalty' : ['l1', 'l2'],\n",
    "                            'classifier__C' : np.logspace(-4, 4, 20)}\n",
    "\n",
    "grid_cv_logistic = GridSearchCV(pipeline_logistic, parameters_grid_logistic, scoring = 'roc_auc', n_jobs=-1, return_train_score=True,\n",
    "                                 cv = RepeatedStratifiedKFold(n_splits=5,n_repeats=1, random_state=seed ))\n",
    "\n",
    "\n",
    "grid_cv_logistic.fit(X_train, y_train)\n",
    "\n",
    "print(datetime.now()-start)"
   ]
  },
  {
   "cell_type": "code",
   "execution_count": 137,
   "metadata": {},
   "outputs": [
    {
     "name": "stdout",
     "output_type": "stream",
     "text": [
      "logistic optimal parameters:  {'classifier__C': 206.913808111479, 'classifier__penalty': 'l2'}\n"
     ]
    }
   ],
   "source": [
    "print('logistic optimal parameters: ', grid_cv_logistic.best_params_)"
   ]
  },
  {
   "cell_type": "code",
   "execution_count": 138,
   "metadata": {},
   "outputs": [
    {
     "name": "stdout",
     "output_type": "stream",
     "text": [
      "logistic train AUC:  0.8001116357096192\n",
      "logistic test AUC:  0.8064878478641619\n"
     ]
    }
   ],
   "source": [
    "print('logistic train AUC: ', roc_auc_score(y_train, grid_cv_logistic.predict_proba(X_train)[:,1]))\n",
    "print('logistic test AUC: ', roc_auc_score(y_test, grid_cv_logistic.predict_proba(X_test)[:,1]))"
   ]
  },
  {
   "cell_type": "code",
   "execution_count": 140,
   "metadata": {},
   "outputs": [],
   "source": [
    "import numpy as np\n",
    "import matplotlib.pyplot as plt\n",
    "from sklearn.datasets import make_classification\n",
    "from sklearn.model_selection import cross_val_score, RepeatedStratifiedKFold\n",
    "from sklearn.linear_model import LogisticRegression\n",
    "from sklearn.neighbors import KNeighborsClassifier\n",
    "from sklearn.tree import DecisionTreeClassifier\n",
    "from sklearn.svm import SVC\n",
    "from sklearn.ensemble import StackingClassifier"
   ]
  },
  {
   "cell_type": "code",
   "execution_count": 141,
   "metadata": {},
   "outputs": [],
   "source": [
    "def get_stacking():\n",
    "    # define the base models\n",
    "    level0 =list()\n",
    "    level0.append(('Logistic Regression', LogisticRegression()))\n",
    "    level0.append(('k-NN', KNeighborsClassifier()))\n",
    "    level0.append(('Decision Tree', DecisionTreeClassifier()))\n",
    "    \n",
    "    # define meta learner model\n",
    "    level1 = LogisticRegression()\n",
    "    # define the stacking ensemble\n",
    "    model = StackingClassifier(estimators=level0, final_estimator=level1, cv=5)\n",
    "    return model"
   ]
  },
  {
   "cell_type": "code",
   "execution_count": 142,
   "metadata": {},
   "outputs": [],
   "source": [
    "def get_models():\n",
    "    models = dict()\n",
    "    models['Logistic Regression'] = LogisticRegression()\n",
    "    models['k-NN'] = KNeighborsClassifier()\n",
    "    models['Decision Tree'] = DecisionTreeClassifier()\n",
    "    models['Stacking'] = get_stacking()\n",
    "    return models"
   ]
  },
  {
   "cell_type": "code",
   "execution_count": 143,
   "metadata": {},
   "outputs": [],
   "source": [
    "def evaluate_model(model, X_train, y_train):\n",
    "    cv = RepeatedStratifiedKFold(n_splits=5, n_repeats=1, random_state=1)\n",
    "    scores = cross_val_score(model, X_train, y_train, scoring='roc_auc', cv=cv, n_jobs=-1)\n",
    "    return scores"
   ]
  },
  {
   "cell_type": "code",
   "execution_count": 144,
   "metadata": {},
   "outputs": [
    {
     "name": "stdout",
     "output_type": "stream",
     "text": [
      "Logistic Regression: 0.7994 (0.0087)\n",
      "k-NN: 0.6904 (0.0088)\n",
      "Decision Tree: 0.6111 (0.0047)\n",
      "Stacking: 0.8004 (0.0091)\n"
     ]
    }
   ],
   "source": [
    "# get the models to evaluate\n",
    "models = get_models()\n",
    "# evaluate the models and store results\n",
    "results, names = list(), list()\n",
    "for name, model in models.items():\n",
    "    scores = evaluate_model(model, X_train, y_train)\n",
    "    results.append(scores)\n",
    "    names.append(name)\n",
    "    print('%s: %.4f (%.4f)' % (name, np.mean(scores), np.std(scores)))"
   ]
  },
  {
   "cell_type": "code",
   "execution_count": 145,
   "metadata": {},
   "outputs": [
    {
     "data": {
      "image/png": "[encoded data removed]",
      "text/plain": [
       "<Figure size 432x288 with 1 Axes>"
      ]
     },
     "metadata": {
      "needs_background": "light"
     },
     "output_type": "display_data"
    }
   ],
   "source": [
    "plt.boxplot(results, labels=names, showmeans=True)\n",
    "plt.gcf().savefig('stackingclf.pdf', bbox_inches='tight');"
   ]
  },
  {
   "cell_type": "code",
   "execution_count": 146,
   "metadata": {},
   "outputs": [],
   "source": [
    "estimators = [\n",
    "    ('logistic',grid_cv_logistic.best_estimator_ ),\n",
    "    ('K-NN',grid_cv_kNN.best_estimator_)]     "
   ]
  },
  {
   "cell_type": "code",
   "execution_count": 147,
   "metadata": {},
   "outputs": [],
   "source": [
    "#estimators = [\n",
    "    #('KNN', KNeighborsClassifier(n_neighbors=5)),\n",
    "    #('logistic',LogisticRegression(penalty='l2',C=0.6))]                                                                     "
   ]
  },
  {
   "cell_type": "code",
   "execution_count": 148,
   "metadata": {},
   "outputs": [],
   "source": [
    "#estimators = [\n",
    "    #('logistic',grid_cv_logistic),\n",
    "    #('K-NN',grid_cv_kNN)]     "
   ]
  },
  {
   "cell_type": "code",
   "execution_count": 149,
   "metadata": {},
   "outputs": [],
   "source": [
    "cv = RepeatedStratifiedKFold(n_splits=5, n_repeats=1, random_state=1)"
   ]
  },
  {
   "cell_type": "code",
   "execution_count": 150,
   "metadata": {},
   "outputs": [
    {
     "name": "stdout",
     "output_type": "stream",
     "text": [
      "logistic: 0.7989 (0.0094)\n",
      "K-NN: 0.7239 (0.0082)\n"
     ]
    }
   ],
   "source": [
    "for clf in estimators:\n",
    "    scores = cross_val_score(clf[1], X_train, y_train, scoring='roc_auc', cv=cv, n_jobs=-1)\n",
    "    print('%s: %.4f (%.4f)' % (clf[0], np.mean(scores), np.std(scores)))"
   ]
  },
  {
   "cell_type": "code",
   "execution_count": 151,
   "metadata": {},
   "outputs": [
    {
     "name": "stdout",
     "output_type": "stream",
     "text": [
      "Stacking: 0.8001 (0.0085)\n"
     ]
    }
   ],
   "source": [
    "clf = StackingClassifier(estimators=estimators,\n",
    "                         final_estimator=LogisticRegression(random_state=42))\n",
    "scores = cross_val_score(model, X_train, y_train, scoring='roc_auc', cv=cv, n_jobs=-1)\n",
    "print('%s: %.4f (%.4f)' % (name, np.mean(scores), np.std(scores)))"
   ]
  },
  {
   "cell_type": "code",
   "execution_count": 152,
   "metadata": {},
   "outputs": [
    {
     "name": "stderr",
     "output_type": "stream",
     "text": [
      "C:\\Users\\poorn\\anaconda3\\lib\\site-packages\\sklearn\\linear_model\\_logistic.py:762: ConvergenceWarning: lbfgs failed to converge (status=1):\n",
      "STOP: TOTAL NO. of ITERATIONS REACHED LIMIT.\n",
      "\n",
      "Increase the number of iterations (max_iter) or scale the data as shown in:\n",
      "    https://scikit-learn.org/stable/modules/preprocessing.html\n",
      "Please also refer to the documentation for alternative solver options:\n",
      "    https://scikit-learn.org/stable/modules/linear_model.html#logistic-regression\n",
      "  n_iter_i = _check_optimize_result(\n",
      "C:\\Users\\poorn\\anaconda3\\lib\\site-packages\\sklearn\\linear_model\\_logistic.py:762: ConvergenceWarning: lbfgs failed to converge (status=1):\n",
      "STOP: TOTAL NO. of ITERATIONS REACHED LIMIT.\n",
      "\n",
      "Increase the number of iterations (max_iter) or scale the data as shown in:\n",
      "    https://scikit-learn.org/stable/modules/preprocessing.html\n",
      "Please also refer to the documentation for alternative solver options:\n",
      "    https://scikit-learn.org/stable/modules/linear_model.html#logistic-regression\n",
      "  n_iter_i = _check_optimize_result(\n",
      "C:\\Users\\poorn\\anaconda3\\lib\\site-packages\\sklearn\\linear_model\\_logistic.py:762: ConvergenceWarning: lbfgs failed to converge (status=1):\n",
      "STOP: TOTAL NO. of ITERATIONS REACHED LIMIT.\n",
      "\n",
      "Increase the number of iterations (max_iter) or scale the data as shown in:\n",
      "    https://scikit-learn.org/stable/modules/preprocessing.html\n",
      "Please also refer to the documentation for alternative solver options:\n",
      "    https://scikit-learn.org/stable/modules/linear_model.html#logistic-regression\n",
      "  n_iter_i = _check_optimize_result(\n",
      "C:\\Users\\poorn\\anaconda3\\lib\\site-packages\\sklearn\\linear_model\\_logistic.py:762: ConvergenceWarning: lbfgs failed to converge (status=1):\n",
      "STOP: TOTAL NO. of ITERATIONS REACHED LIMIT.\n",
      "\n",
      "Increase the number of iterations (max_iter) or scale the data as shown in:\n",
      "    https://scikit-learn.org/stable/modules/preprocessing.html\n",
      "Please also refer to the documentation for alternative solver options:\n",
      "    https://scikit-learn.org/stable/modules/linear_model.html#logistic-regression\n",
      "  n_iter_i = _check_optimize_result(\n",
      "C:\\Users\\poorn\\anaconda3\\lib\\site-packages\\sklearn\\linear_model\\_logistic.py:762: ConvergenceWarning: lbfgs failed to converge (status=1):\n",
      "STOP: TOTAL NO. of ITERATIONS REACHED LIMIT.\n",
      "\n",
      "Increase the number of iterations (max_iter) or scale the data as shown in:\n",
      "    https://scikit-learn.org/stable/modules/preprocessing.html\n",
      "Please also refer to the documentation for alternative solver options:\n",
      "    https://scikit-learn.org/stable/modules/linear_model.html#logistic-regression\n",
      "  n_iter_i = _check_optimize_result(\n",
      "C:\\Users\\poorn\\anaconda3\\lib\\site-packages\\sklearn\\linear_model\\_logistic.py:762: ConvergenceWarning: lbfgs failed to converge (status=1):\n",
      "STOP: TOTAL NO. of ITERATIONS REACHED LIMIT.\n",
      "\n",
      "Increase the number of iterations (max_iter) or scale the data as shown in:\n",
      "    https://scikit-learn.org/stable/modules/preprocessing.html\n",
      "Please also refer to the documentation for alternative solver options:\n",
      "    https://scikit-learn.org/stable/modules/linear_model.html#logistic-regression\n",
      "  n_iter_i = _check_optimize_result(\n",
      "C:\\Users\\poorn\\anaconda3\\lib\\site-packages\\sklearn\\linear_model\\_logistic.py:762: ConvergenceWarning: lbfgs failed to converge (status=1):\n",
      "STOP: TOTAL NO. of ITERATIONS REACHED LIMIT.\n",
      "\n",
      "Increase the number of iterations (max_iter) or scale the data as shown in:\n",
      "    https://scikit-learn.org/stable/modules/preprocessing.html\n",
      "Please also refer to the documentation for alternative solver options:\n",
      "    https://scikit-learn.org/stable/modules/linear_model.html#logistic-regression\n",
      "  n_iter_i = _check_optimize_result(\n",
      "C:\\Users\\poorn\\anaconda3\\lib\\site-packages\\sklearn\\linear_model\\_logistic.py:762: ConvergenceWarning: lbfgs failed to converge (status=1):\n",
      "STOP: TOTAL NO. of ITERATIONS REACHED LIMIT.\n",
      "\n",
      "Increase the number of iterations (max_iter) or scale the data as shown in:\n",
      "    https://scikit-learn.org/stable/modules/preprocessing.html\n",
      "Please also refer to the documentation for alternative solver options:\n",
      "    https://scikit-learn.org/stable/modules/linear_model.html#logistic-regression\n",
      "  n_iter_i = _check_optimize_result(\n",
      "C:\\Users\\poorn\\anaconda3\\lib\\site-packages\\sklearn\\linear_model\\_logistic.py:762: ConvergenceWarning: lbfgs failed to converge (status=1):\n",
      "STOP: TOTAL NO. of ITERATIONS REACHED LIMIT.\n",
      "\n",
      "Increase the number of iterations (max_iter) or scale the data as shown in:\n",
      "    https://scikit-learn.org/stable/modules/preprocessing.html\n",
      "Please also refer to the documentation for alternative solver options:\n",
      "    https://scikit-learn.org/stable/modules/linear_model.html#logistic-regression\n",
      "  n_iter_i = _check_optimize_result(\n",
      "C:\\Users\\poorn\\anaconda3\\lib\\site-packages\\sklearn\\linear_model\\_logistic.py:762: ConvergenceWarning: lbfgs failed to converge (status=1):\n",
      "STOP: TOTAL NO. of ITERATIONS REACHED LIMIT.\n",
      "\n",
      "Increase the number of iterations (max_iter) or scale the data as shown in:\n",
      "    https://scikit-learn.org/stable/modules/preprocessing.html\n",
      "Please also refer to the documentation for alternative solver options:\n",
      "    https://scikit-learn.org/stable/modules/linear_model.html#logistic-regression\n",
      "  n_iter_i = _check_optimize_result(\n",
      "C:\\Users\\poorn\\anaconda3\\lib\\site-packages\\sklearn\\linear_model\\_logistic.py:762: ConvergenceWarning: lbfgs failed to converge (status=1):\n",
      "STOP: TOTAL NO. of ITERATIONS REACHED LIMIT.\n",
      "\n",
      "Increase the number of iterations (max_iter) or scale the data as shown in:\n",
      "    https://scikit-learn.org/stable/modules/preprocessing.html\n",
      "Please also refer to the documentation for alternative solver options:\n",
      "    https://scikit-learn.org/stable/modules/linear_model.html#logistic-regression\n",
      "  n_iter_i = _check_optimize_result(\n",
      "C:\\Users\\poorn\\anaconda3\\lib\\site-packages\\sklearn\\linear_model\\_logistic.py:762: ConvergenceWarning: lbfgs failed to converge (status=1):\n",
      "STOP: TOTAL NO. of ITERATIONS REACHED LIMIT.\n",
      "\n",
      "Increase the number of iterations (max_iter) or scale the data as shown in:\n",
      "    https://scikit-learn.org/stable/modules/preprocessing.html\n",
      "Please also refer to the documentation for alternative solver options:\n",
      "    https://scikit-learn.org/stable/modules/linear_model.html#logistic-regression\n",
      "  n_iter_i = _check_optimize_result(\n",
      "C:\\Users\\poorn\\anaconda3\\lib\\site-packages\\sklearn\\linear_model\\_logistic.py:762: ConvergenceWarning: lbfgs failed to converge (status=1):\n",
      "STOP: TOTAL NO. of ITERATIONS REACHED LIMIT.\n",
      "\n",
      "Increase the number of iterations (max_iter) or scale the data as shown in:\n",
      "    https://scikit-learn.org/stable/modules/preprocessing.html\n",
      "Please also refer to the documentation for alternative solver options:\n",
      "    https://scikit-learn.org/stable/modules/linear_model.html#logistic-regression\n",
      "  n_iter_i = _check_optimize_result(\n",
      "C:\\Users\\poorn\\anaconda3\\lib\\site-packages\\sklearn\\linear_model\\_logistic.py:762: ConvergenceWarning: lbfgs failed to converge (status=1):\n",
      "STOP: TOTAL NO. of ITERATIONS REACHED LIMIT.\n",
      "\n",
      "Increase the number of iterations (max_iter) or scale the data as shown in:\n",
      "    https://scikit-learn.org/stable/modules/preprocessing.html\n",
      "Please also refer to the documentation for alternative solver options:\n",
      "    https://scikit-learn.org/stable/modules/linear_model.html#logistic-regression\n",
      "  n_iter_i = _check_optimize_result(\n",
      "C:\\Users\\poorn\\anaconda3\\lib\\site-packages\\sklearn\\linear_model\\_logistic.py:762: ConvergenceWarning: lbfgs failed to converge (status=1):\n",
      "STOP: TOTAL NO. of ITERATIONS REACHED LIMIT.\n",
      "\n",
      "Increase the number of iterations (max_iter) or scale the data as shown in:\n",
      "    https://scikit-learn.org/stable/modules/preprocessing.html\n",
      "Please also refer to the documentation for alternative solver options:\n",
      "    https://scikit-learn.org/stable/modules/linear_model.html#logistic-regression\n",
      "  n_iter_i = _check_optimize_result(\n",
      "C:\\Users\\poorn\\anaconda3\\lib\\site-packages\\sklearn\\linear_model\\_logistic.py:762: ConvergenceWarning: lbfgs failed to converge (status=1):\n",
      "STOP: TOTAL NO. of ITERATIONS REACHED LIMIT.\n",
      "\n",
      "Increase the number of iterations (max_iter) or scale the data as shown in:\n",
      "    https://scikit-learn.org/stable/modules/preprocessing.html\n",
      "Please also refer to the documentation for alternative solver options:\n",
      "    https://scikit-learn.org/stable/modules/linear_model.html#logistic-regression\n",
      "  n_iter_i = _check_optimize_result(\n",
      "C:\\Users\\poorn\\anaconda3\\lib\\site-packages\\sklearn\\linear_model\\_logistic.py:762: ConvergenceWarning: lbfgs failed to converge (status=1):\n",
      "STOP: TOTAL NO. of ITERATIONS REACHED LIMIT.\n",
      "\n",
      "Increase the number of iterations (max_iter) or scale the data as shown in:\n",
      "    https://scikit-learn.org/stable/modules/preprocessing.html\n",
      "Please also refer to the documentation for alternative solver options:\n",
      "    https://scikit-learn.org/stable/modules/linear_model.html#logistic-regression\n",
      "  n_iter_i = _check_optimize_result(\n",
      "C:\\Users\\poorn\\anaconda3\\lib\\site-packages\\sklearn\\linear_model\\_logistic.py:762: ConvergenceWarning: lbfgs failed to converge (status=1):\n",
      "STOP: TOTAL NO. of ITERATIONS REACHED LIMIT.\n",
      "\n",
      "Increase the number of iterations (max_iter) or scale the data as shown in:\n",
      "    https://scikit-learn.org/stable/modules/preprocessing.html\n",
      "Please also refer to the documentation for alternative solver options:\n",
      "    https://scikit-learn.org/stable/modules/linear_model.html#logistic-regression\n",
      "  n_iter_i = _check_optimize_result(\n",
      "C:\\Users\\poorn\\anaconda3\\lib\\site-packages\\sklearn\\linear_model\\_logistic.py:762: ConvergenceWarning: lbfgs failed to converge (status=1):\n",
      "STOP: TOTAL NO. of ITERATIONS REACHED LIMIT.\n",
      "\n",
      "Increase the number of iterations (max_iter) or scale the data as shown in:\n",
      "    https://scikit-learn.org/stable/modules/preprocessing.html\n",
      "Please also refer to the documentation for alternative solver options:\n",
      "    https://scikit-learn.org/stable/modules/linear_model.html#logistic-regression\n",
      "  n_iter_i = _check_optimize_result(\n",
      "C:\\Users\\poorn\\anaconda3\\lib\\site-packages\\sklearn\\linear_model\\_logistic.py:762: ConvergenceWarning: lbfgs failed to converge (status=1):\n",
      "STOP: TOTAL NO. of ITERATIONS REACHED LIMIT.\n",
      "\n",
      "Increase the number of iterations (max_iter) or scale the data as shown in:\n",
      "    https://scikit-learn.org/stable/modules/preprocessing.html\n",
      "Please also refer to the documentation for alternative solver options:\n",
      "    https://scikit-learn.org/stable/modules/linear_model.html#logistic-regression\n",
      "  n_iter_i = _check_optimize_result(\n",
      "C:\\Users\\poorn\\anaconda3\\lib\\site-packages\\sklearn\\linear_model\\_logistic.py:762: ConvergenceWarning: lbfgs failed to converge (status=1):\n",
      "STOP: TOTAL NO. of ITERATIONS REACHED LIMIT.\n",
      "\n",
      "Increase the number of iterations (max_iter) or scale the data as shown in:\n",
      "    https://scikit-learn.org/stable/modules/preprocessing.html\n",
      "Please also refer to the documentation for alternative solver options:\n",
      "    https://scikit-learn.org/stable/modules/linear_model.html#logistic-regression\n",
      "  n_iter_i = _check_optimize_result(\n",
      "C:\\Users\\poorn\\anaconda3\\lib\\site-packages\\sklearn\\linear_model\\_logistic.py:762: ConvergenceWarning: lbfgs failed to converge (status=1):\n",
      "STOP: TOTAL NO. of ITERATIONS REACHED LIMIT.\n",
      "\n",
      "Increase the number of iterations (max_iter) or scale the data as shown in:\n",
      "    https://scikit-learn.org/stable/modules/preprocessing.html\n",
      "Please also refer to the documentation for alternative solver options:\n",
      "    https://scikit-learn.org/stable/modules/linear_model.html#logistic-regression\n",
      "  n_iter_i = _check_optimize_result(\n",
      "C:\\Users\\poorn\\anaconda3\\lib\\site-packages\\sklearn\\linear_model\\_logistic.py:762: ConvergenceWarning: lbfgs failed to converge (status=1):\n",
      "STOP: TOTAL NO. of ITERATIONS REACHED LIMIT.\n",
      "\n",
      "Increase the number of iterations (max_iter) or scale the data as shown in:\n",
      "    https://scikit-learn.org/stable/modules/preprocessing.html\n",
      "Please also refer to the documentation for alternative solver options:\n",
      "    https://scikit-learn.org/stable/modules/linear_model.html#logistic-regression\n",
      "  n_iter_i = _check_optimize_result(\n",
      "C:\\Users\\poorn\\anaconda3\\lib\\site-packages\\sklearn\\linear_model\\_logistic.py:762: ConvergenceWarning: lbfgs failed to converge (status=1):\n",
      "STOP: TOTAL NO. of ITERATIONS REACHED LIMIT.\n",
      "\n",
      "Increase the number of iterations (max_iter) or scale the data as shown in:\n",
      "    https://scikit-learn.org/stable/modules/preprocessing.html\n",
      "Please also refer to the documentation for alternative solver options:\n",
      "    https://scikit-learn.org/stable/modules/linear_model.html#logistic-regression\n",
      "  n_iter_i = _check_optimize_result(\n",
      "C:\\Users\\poorn\\anaconda3\\lib\\site-packages\\sklearn\\linear_model\\_logistic.py:762: ConvergenceWarning: lbfgs failed to converge (status=1):\n",
      "STOP: TOTAL NO. of ITERATIONS REACHED LIMIT.\n",
      "\n",
      "Increase the number of iterations (max_iter) or scale the data as shown in:\n",
      "    https://scikit-learn.org/stable/modules/preprocessing.html\n",
      "Please also refer to the documentation for alternative solver options:\n",
      "    https://scikit-learn.org/stable/modules/linear_model.html#logistic-regression\n",
      "  n_iter_i = _check_optimize_result(\n",
      "C:\\Users\\poorn\\anaconda3\\lib\\site-packages\\sklearn\\linear_model\\_logistic.py:762: ConvergenceWarning: lbfgs failed to converge (status=1):\n",
      "STOP: TOTAL NO. of ITERATIONS REACHED LIMIT.\n",
      "\n",
      "Increase the number of iterations (max_iter) or scale the data as shown in:\n",
      "    https://scikit-learn.org/stable/modules/preprocessing.html\n",
      "Please also refer to the documentation for alternative solver options:\n",
      "    https://scikit-learn.org/stable/modules/linear_model.html#logistic-regression\n",
      "  n_iter_i = _check_optimize_result(\n",
      "C:\\Users\\poorn\\anaconda3\\lib\\site-packages\\sklearn\\linear_model\\_logistic.py:762: ConvergenceWarning: lbfgs failed to converge (status=1):\n",
      "STOP: TOTAL NO. of ITERATIONS REACHED LIMIT.\n",
      "\n",
      "Increase the number of iterations (max_iter) or scale the data as shown in:\n",
      "    https://scikit-learn.org/stable/modules/preprocessing.html\n",
      "Please also refer to the documentation for alternative solver options:\n",
      "    https://scikit-learn.org/stable/modules/linear_model.html#logistic-regression\n",
      "  n_iter_i = _check_optimize_result(\n",
      "C:\\Users\\poorn\\anaconda3\\lib\\site-packages\\sklearn\\linear_model\\_logistic.py:762: ConvergenceWarning: lbfgs failed to converge (status=1):\n",
      "STOP: TOTAL NO. of ITERATIONS REACHED LIMIT.\n",
      "\n",
      "Increase the number of iterations (max_iter) or scale the data as shown in:\n",
      "    https://scikit-learn.org/stable/modules/preprocessing.html\n",
      "Please also refer to the documentation for alternative solver options:\n",
      "    https://scikit-learn.org/stable/modules/linear_model.html#logistic-regression\n",
      "  n_iter_i = _check_optimize_result(\n",
      "C:\\Users\\poorn\\anaconda3\\lib\\site-packages\\sklearn\\linear_model\\_logistic.py:762: ConvergenceWarning: lbfgs failed to converge (status=1):\n",
      "STOP: TOTAL NO. of ITERATIONS REACHED LIMIT.\n",
      "\n",
      "Increase the number of iterations (max_iter) or scale the data as shown in:\n",
      "    https://scikit-learn.org/stable/modules/preprocessing.html\n",
      "Please also refer to the documentation for alternative solver options:\n",
      "    https://scikit-learn.org/stable/modules/linear_model.html#logistic-regression\n",
      "  n_iter_i = _check_optimize_result(\n"
     ]
    },
    {
     "name": "stdout",
     "output_type": "stream",
     "text": [
      "[0 0 0 ... 0 0 0]\n"
     ]
    }
   ],
   "source": [
    "from sklearn.model_selection import cross_val_predict\n",
    "y_pred=cross_val_predict(clf,X_train,y_train,cv=5)\n",
    "print(y_pred)"
   ]
  },
  {
   "cell_type": "code",
   "execution_count": 153,
   "metadata": {},
   "outputs": [],
   "source": [
    "#test_features = test.drop([\"having_disease\"], axis=1)\n",
    "#y_test = test[\"having_disease\"].copy()"
   ]
  },
  {
   "cell_type": "code",
   "execution_count": 154,
   "metadata": {},
   "outputs": [
    {
     "name": "stdout",
     "output_type": "stream",
     "text": [
      "              precision    recall  f1-score   support\n",
      "\n",
      "           0       0.91      0.98      0.95     39481\n",
      "           1       0.65      0.24      0.35      4740\n",
      "\n",
      "    accuracy                           0.90     44221\n",
      "   macro avg       0.78      0.61      0.65     44221\n",
      "weighted avg       0.89      0.90      0.88     44221\n",
      "\n"
     ]
    }
   ],
   "source": [
    "from sklearn.metrics import accuracy_score,precision_score,recall_score,f1_score,classification_report\n",
    "\n",
    "recall_score(y_train,y_pred)\n",
    "precision_score(y_train,y_pred)\n",
    "f1_score(y_train,y_pred)\n",
    "print(classification_report(y_train,y_pred))"
   ]
  }
 ],
 "metadata": {
  "kernelspec": {
   "display_name": "Python 3",
   "language": "python",
   "name": "python3"
  },
  "language_info": {
   "codemirror_mode": {
    "name": "ipython",
    "version": 3
   },
   "file_extension": ".py",
   "mimetype": "text/x-python",
   "name": "python",
   "nbconvert_exporter": "python",
   "pygments_lexer": "ipython3",
   "version": "3.8.3"
  }
 },
 "nbformat": 4,
 "nbformat_minor": 4
}
